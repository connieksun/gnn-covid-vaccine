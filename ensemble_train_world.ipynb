{
 "cells": [
  {
   "cell_type": "code",
   "execution_count": 66,
   "source": [
    "import csv\r\n",
    "import os\r\n",
    "\r\n",
    "import numpy as np\r\n",
    "import pandas as pd\r\n",
    "#from owid_downloader import GenerateTrainingData\r\n",
    "#from utils import date_today, gravity_law_commute_dist\r\n",
    "\r\n",
    "os.environ['NUMEXPR_MAX_THREADS'] = '16'\r\n",
    "os.environ['NUMEXPR_NUM_THREADS'] = '8'\r\n",
    "\r\n",
    "import pickle\r\n",
    "import matplotlib.pyplot as plt\r\n",
    "import dgl\r\n",
    "import torch\r\n",
    "from torch import nn\r\n",
    "import torch.nn.functional as F\r\n",
    "from model import STAN\r\n",
    "\r\n",
    "import sklearn\r\n",
    "from sklearn.metrics import mean_absolute_error\r\n",
    "from sklearn.metrics import mean_squared_error\r\n",
    "\r\n",
    "from stan_sirvc_layer import run_layer, get_features\r\n",
    "import matplotlib.dates as mdates"
   ],
   "outputs": [],
   "metadata": {}
  },
  {
   "cell_type": "code",
   "execution_count": 67,
   "source": [
    "#GenerateTrainingData().download_jhu_data('2020-08-01', '2020-12-01')\r\n",
    "start_date = '2021-01-01'\r\n",
    "end_date = '2021-05-31'"
   ],
   "outputs": [],
   "metadata": {
    "scrolled": true
   }
  },
  {
   "cell_type": "code",
   "execution_count": 68,
   "source": [
    "# data processing\r\n",
    "raw_data = pd.read_csv('https://raw.githubusercontent.com/owid/covid-19-data/master/public/data/owid-covid-data.csv', usecols=[\"location\", \"date\", \"total_cases\", \"new_cases_smoothed\", \"total_deaths\",\r\n",
    "                    \"new_deaths\", \"total_vaccinations\", \"people_fully_vaccinated\", \"new_vaccinations\", \"population\"])\r\n",
    "raw_data['date'] = pd.to_datetime(raw_data['date'])\r\n",
    "mask = (raw_data['date'] >= start_date) & (raw_data['date'] <= end_date)\r\n",
    "raw_data = raw_data.loc[mask]\r\n",
    "\r\n",
    "countries = []\r\n",
    "loc_list = list(raw_data['location'].unique())\r\n",
    "# only include countries that have more than 1000 total cases on start date and at least 1 death\r\n",
    "for loc in loc_list:\r\n",
    "    if raw_data[raw_data['location'] == loc][\"total_cases\"].values[0] > 1000 and \\\r\n",
    "        raw_data[raw_data['location'] == loc][\"total_deaths\"].values[0] > 0:\r\n",
    "        countries.append(loc)\r\n",
    "# hard-coded; these are problematic locations (non-countries) that need to be removed\r\n",
    "countries.remove(\"European Union\")\r\n",
    "countries.remove(\"Europe\")\r\n",
    "countries.remove(\"Africa\")\r\n",
    "countries.remove(\"Asia\")\r\n",
    "countries.remove(\"North America\")\r\n",
    "countries.remove(\"Oceania\")\r\n",
    "countries.remove(\"South America\")\r\n",
    "countries.remove(\"World\")\r\n",
    "countries.remove(\"Tajikistan\")\r\n",
    "continents = [\"Europe\", \"Africa\", \"Asia\", \"North America\", \"South America\", \"Oceania\"]\r\n",
    "world = [\"World\"]\r\n",
    "\r\n",
    "country_mask = raw_data['location'].isin(countries)\r\n",
    "continent_mask = raw_data['location'].isin(continents)\r\n",
    "world_mask = raw_data['location'].isin(world)\r\n",
    "\r\n",
    "country_raw_data = raw_data.loc[country_mask]\r\n",
    "continent_raw_data = raw_data.loc[continent_mask]\r\n",
    "world_raw_data = raw_data.loc[world_mask]\r\n",
    "\r\n",
    "print(len(country_raw_data['location'].unique()))   # 163\r\n",
    "print(len(continent_raw_data['location'].unique())) # 6\r\n",
    "print(len(world_raw_data['location'].unique()))     # 1"
   ],
   "outputs": [
    {
     "output_type": "stream",
     "name": "stdout",
     "text": [
      "163\n",
      "6\n",
      "1\n"
     ]
    }
   ],
   "metadata": {}
  },
  {
   "cell_type": "code",
   "execution_count": 69,
   "source": [
    "# layer 1, 2, 3\r\n",
    "test_window = 29\r\n",
    "history_window=14 # days of information\r\n",
    "pred_window=14 # predicts future # of days\r\n",
    "test_start_date = pd.to_datetime(end_date) + pd.DateOffset(days=-test_window)\r\n",
    "_, world_features, world_active_cases, world_static_feat, world_norms = get_features(world_raw_data, start_date, end_date, world, edges=False)"
   ],
   "outputs": [
    {
     "output_type": "stream",
     "name": "stdout",
     "text": [
      "done\n"
     ]
    }
   ],
   "metadata": {}
  },
  {
   "cell_type": "code",
   "execution_count": 70,
   "source": [
    "loc_name = \"World\"\r\n",
    "continent_pred_prev = []\r\n",
    "continent_pred_test = []\r\n",
    "random = False\r\n",
    "for continent in continents:\r\n",
    "    if not random:\r\n",
    "        continent_pred_prev.append(pickle.load(open(f'results/trained_{continent}_pred_dI_prev', 'rb')))\r\n",
    "        continent_pred_test.append(pickle.load(open(f'results/trained_{continent}_pred_dI', 'rb')))\r\n",
    "    if random:\r\n",
    "        continent_pred_prev.append(pickle.load(open(f'results/trained_{continent}_pred_dI_prev_random', 'rb')))\r\n",
    "        continent_pred_test.append(pickle.load(open(f'results/trained_{continent}_pred_dI_random', 'rb')))\r\n",
    "\r\n",
    "continent_pred_prev = np.array(continent_pred_prev)\r\n",
    "continent_pred_test = np.array(continent_pred_test)\r\n",
    "\r\n",
    "input_continent_pred_prev = (continent_pred_prev - world_norms[0][0]) / world_norms[1][0]\r\n",
    "input_continent_pred_test = (continent_pred_test - world_norms[0][0]) / world_norms[1][0]"
   ],
   "outputs": [],
   "metadata": {}
  },
  {
   "cell_type": "code",
   "execution_count": 71,
   "source": [
    "print(continent_pred_prev.shape) # n_loc, timestep, pred_window\r\n",
    "\r\n",
    "x_train = input_continent_pred_prev.transpose(1, 0, 2) # swap locs with timesteps\r\n",
    "x_test = input_continent_pred_test.transpose(1, 0, 2)\r\n",
    "\r\n",
    "x_train = x_train.reshape(x_train.shape[0], x_train.shape[1]*x_train.shape[2]) # timesteps, locs*pred_window\r\n",
    "x_test = x_test.reshape(x_test.shape[0], x_test.shape[1]*x_test.shape[2])\r\n",
    "\r\n",
    "print(x_train.shape)\r\n",
    "\r\n",
    "# get true_dI for each continent\r\n",
    "true_dI_train = world_features[0][5] # 0=train, 5=yI; locations, timesteps, values\r\n",
    "true_dI_val = world_features[1][5]\r\n",
    "\r\n",
    "# target for train and test\r\n",
    "true_dI_prev = np.concatenate((true_dI_train, true_dI_val), axis=1)\r\n",
    "true_dI_test = world_features[2][5]\r\n",
    "\r\n",
    "y_train = true_dI_prev[0]\r\n",
    "y_test = true_dI_test[0]"
   ],
   "outputs": [
    {
     "output_type": "stream",
     "name": "stdout",
     "text": [
      "(6, 19, 14)\n",
      "(19, 84)\n"
     ]
    }
   ],
   "metadata": {}
  },
  {
   "cell_type": "code",
   "execution_count": 72,
   "source": [
    "class MLP(nn.Module):\r\n",
    "    def __init__(self, n_continents, pred_window):\r\n",
    "        super(MLP, self).__init__()\r\n",
    "        self.layers = nn.Sequential(\r\n",
    "            nn.Linear(n_continents*pred_window, 64),\r\n",
    "            nn.ReLU(),\r\n",
    "            nn.Linear(64, pred_window)\r\n",
    "        )\r\n",
    "        \r\n",
    "    def forward(self, x):\r\n",
    "        x = self.layers(x)\r\n",
    "        return x"
   ],
   "outputs": [],
   "metadata": {}
  },
  {
   "cell_type": "code",
   "execution_count": 73,
   "source": [
    "device = torch.device(\"cuda:0\" if torch.cuda.is_available() else \"cpu\")\r\n",
    "\r\n",
    "x_train = torch.tensor(x_train, dtype=torch.float).to(device)\r\n",
    "x_test = torch.tensor(x_test, dtype=torch.float).to(device)\r\n",
    "\r\n",
    "y_train = torch.tensor(y_train, dtype=torch.float).to(device)\r\n",
    "y_test = torch.tensor(y_test, dtype=torch.float).to(device)\r\n",
    "\r\n",
    "model = MLP(len(continents), pred_window).to(device)\r\n",
    "print(model)\r\n",
    "\r\n",
    "optimizer = torch.optim.Adam(model.parameters(), lr=0.001)\r\n",
    "loss_fn = nn.MSELoss()\r\n",
    "\r\n",
    "for epoch in range(2000):\r\n",
    "    model.train()\r\n",
    "\r\n",
    "    optimizer.zero_grad()\r\n",
    "    train_pred = model(x_train)\r\n",
    "    loss = loss_fn(train_pred, y_train)\r\n",
    "\r\n",
    "    loss.backward()\r\n",
    "    optimizer.step()\r\n",
    "\r\n",
    "    if epoch % 10 == 0:\r\n",
    "        print('Epoch {}: train loss: {}'.format(epoch, loss.item()))"
   ],
   "outputs": [
    {
     "output_type": "stream",
     "name": "stdout",
     "text": [
      "MLP(\n",
      "  (layers): Sequential(\n",
      "    (0): Linear(in_features=84, out_features=64, bias=True)\n",
      "    (1): ReLU()\n",
      "    (2): Linear(in_features=64, out_features=14, bias=True)\n",
      "  )\n",
      ")\n",
      "Epoch 0: train loss: 0.6462457776069641\n",
      "Epoch 10: train loss: 0.5104310512542725\n",
      "Epoch 20: train loss: 0.3557394742965698\n",
      "Epoch 30: train loss: 0.20883233845233917\n",
      "Epoch 40: train loss: 0.1203899011015892\n",
      "Epoch 50: train loss: 0.08025120198726654\n",
      "Epoch 60: train loss: 0.0683147981762886\n",
      "Epoch 70: train loss: 0.060771435499191284\n",
      "Epoch 80: train loss: 0.05626152455806732\n",
      "Epoch 90: train loss: 0.05363292619585991\n",
      "Epoch 100: train loss: 0.05123676359653473\n",
      "Epoch 110: train loss: 0.04928186908364296\n",
      "Epoch 120: train loss: 0.04753967374563217\n",
      "Epoch 130: train loss: 0.045754991471767426\n",
      "Epoch 140: train loss: 0.043975263833999634\n",
      "Epoch 150: train loss: 0.042244065552949905\n",
      "Epoch 160: train loss: 0.040511004626750946\n",
      "Epoch 170: train loss: 0.038788117468357086\n",
      "Epoch 180: train loss: 0.037102844566106796\n",
      "Epoch 190: train loss: 0.03543810918927193\n",
      "Epoch 200: train loss: 0.03380044177174568\n",
      "Epoch 210: train loss: 0.0321914479136467\n",
      "Epoch 220: train loss: 0.03063727542757988\n",
      "Epoch 230: train loss: 0.02915012277662754\n",
      "Epoch 240: train loss: 0.02772979997098446\n",
      "Epoch 250: train loss: 0.026383092626929283\n",
      "Epoch 260: train loss: 0.025104336440563202\n",
      "Epoch 270: train loss: 0.023887071758508682\n",
      "Epoch 280: train loss: 0.022774644196033478\n",
      "Epoch 290: train loss: 0.02173186093568802\n",
      "Epoch 300: train loss: 0.020752735435962677\n",
      "Epoch 310: train loss: 0.019836490973830223\n",
      "Epoch 320: train loss: 0.018975723534822464\n",
      "Epoch 330: train loss: 0.018166638910770416\n",
      "Epoch 340: train loss: 0.017406804487109184\n",
      "Epoch 350: train loss: 0.016693323850631714\n",
      "Epoch 360: train loss: 0.01602180115878582\n",
      "Epoch 370: train loss: 0.015391400083899498\n",
      "Epoch 380: train loss: 0.014798006974160671\n",
      "Epoch 390: train loss: 0.01424330286681652\n",
      "Epoch 400: train loss: 0.01371988095343113\n",
      "Epoch 410: train loss: 0.013225856237113476\n",
      "Epoch 420: train loss: 0.012752062641084194\n",
      "Epoch 430: train loss: 0.012302662245929241\n",
      "Epoch 440: train loss: 0.011876623146235943\n",
      "Epoch 450: train loss: 0.011473331600427628\n",
      "Epoch 460: train loss: 0.011093652807176113\n",
      "Epoch 470: train loss: 0.010732105933129787\n",
      "Epoch 480: train loss: 0.01038957666605711\n",
      "Epoch 490: train loss: 0.010060521773993969\n",
      "Epoch 500: train loss: 0.009744711220264435\n",
      "Epoch 510: train loss: 0.009440049529075623\n",
      "Epoch 520: train loss: 0.009146488271653652\n",
      "Epoch 530: train loss: 0.008861257694661617\n",
      "Epoch 540: train loss: 0.008583374321460724\n",
      "Epoch 550: train loss: 0.008313351310789585\n",
      "Epoch 560: train loss: 0.008048656396567822\n",
      "Epoch 570: train loss: 0.007789588533341885\n",
      "Epoch 580: train loss: 0.0075360313057899475\n",
      "Epoch 590: train loss: 0.007285814732313156\n",
      "Epoch 600: train loss: 0.007041922304779291\n",
      "Epoch 610: train loss: 0.006800142582505941\n",
      "Epoch 620: train loss: 0.006562459748238325\n",
      "Epoch 630: train loss: 0.006329293828457594\n",
      "Epoch 640: train loss: 0.006099614780396223\n",
      "Epoch 650: train loss: 0.005874311551451683\n",
      "Epoch 660: train loss: 0.005651973653584719\n",
      "Epoch 670: train loss: 0.005435182712972164\n",
      "Epoch 680: train loss: 0.005221586674451828\n",
      "Epoch 690: train loss: 0.005012847483158112\n",
      "Epoch 700: train loss: 0.004808229859918356\n",
      "Epoch 710: train loss: 0.00460813008248806\n",
      "Epoch 720: train loss: 0.00441317493095994\n",
      "Epoch 730: train loss: 0.004222588613629341\n",
      "Epoch 740: train loss: 0.004038889892399311\n",
      "Epoch 750: train loss: 0.003858750220388174\n",
      "Epoch 760: train loss: 0.0036849246826022863\n",
      "Epoch 770: train loss: 0.0035168721806257963\n",
      "Epoch 780: train loss: 0.0033539175055921078\n",
      "Epoch 790: train loss: 0.003198034595698118\n",
      "Epoch 800: train loss: 0.0030464916490018368\n",
      "Epoch 810: train loss: 0.002901143627241254\n",
      "Epoch 820: train loss: 0.002760865492746234\n",
      "Epoch 830: train loss: 0.002626395784318447\n",
      "Epoch 840: train loss: 0.0024976986460387707\n",
      "Epoch 850: train loss: 0.0023738944437354803\n",
      "Epoch 860: train loss: 0.002256352687254548\n",
      "Epoch 870: train loss: 0.0021443027071654797\n",
      "Epoch 880: train loss: 0.0020374255254864693\n",
      "Epoch 890: train loss: 0.0019358970457687974\n",
      "Epoch 900: train loss: 0.001838996191509068\n",
      "Epoch 910: train loss: 0.0017469741869717836\n",
      "Epoch 920: train loss: 0.0016595602501183748\n",
      "Epoch 930: train loss: 0.0015765068819746375\n",
      "Epoch 940: train loss: 0.0014975201338529587\n",
      "Epoch 950: train loss: 0.0014226260827854276\n",
      "Epoch 960: train loss: 0.0013518987689167261\n",
      "Epoch 970: train loss: 0.0012847156031057239\n",
      "Epoch 980: train loss: 0.00122117530554533\n",
      "Epoch 990: train loss: 0.0011609346838667989\n",
      "Epoch 1000: train loss: 0.0011041397228837013\n",
      "Epoch 1010: train loss: 0.0010498063638806343\n",
      "Epoch 1020: train loss: 0.0009981743060052395\n",
      "Epoch 1030: train loss: 0.0009490512893535197\n",
      "Epoch 1040: train loss: 0.0009022860322147608\n",
      "Epoch 1050: train loss: 0.0008580040885135531\n",
      "Epoch 1060: train loss: 0.0008157183765433729\n",
      "Epoch 1070: train loss: 0.0007756686536595225\n",
      "Epoch 1080: train loss: 0.0007374625420197845\n",
      "Epoch 1090: train loss: 0.000701023789588362\n",
      "Epoch 1100: train loss: 0.0006663889507763088\n",
      "Epoch 1110: train loss: 0.0006336576770991087\n",
      "Epoch 1120: train loss: 0.0006023385794833302\n",
      "Epoch 1130: train loss: 0.0005725229275412858\n",
      "Epoch 1140: train loss: 0.0005441308603622019\n",
      "Epoch 1150: train loss: 0.0005171673255972564\n",
      "Epoch 1160: train loss: 0.0004914577002637088\n",
      "Epoch 1170: train loss: 0.0004670626949518919\n",
      "Epoch 1180: train loss: 0.00044381053885445\n",
      "Epoch 1190: train loss: 0.0004216497763991356\n",
      "Epoch 1200: train loss: 0.00040053061093203723\n",
      "Epoch 1210: train loss: 0.00038051154115237296\n",
      "Epoch 1220: train loss: 0.0003614351153373718\n",
      "Epoch 1230: train loss: 0.0003433664096519351\n",
      "Epoch 1240: train loss: 0.000326176465023309\n",
      "Epoch 1250: train loss: 0.00030981985037215054\n",
      "Epoch 1260: train loss: 0.0002942953142337501\n",
      "Epoch 1270: train loss: 0.0002796711341943592\n",
      "Epoch 1280: train loss: 0.0002656364522408694\n",
      "Epoch 1290: train loss: 0.00025242252741008997\n",
      "Epoch 1300: train loss: 0.00023977454111445695\n",
      "Epoch 1310: train loss: 0.00022784229076933116\n",
      "Epoch 1320: train loss: 0.00021651785937137902\n",
      "Epoch 1330: train loss: 0.0002057154633803293\n",
      "Epoch 1340: train loss: 0.00019547717238310724\n",
      "Epoch 1350: train loss: 0.00018583591736387461\n",
      "Epoch 1360: train loss: 0.00017661627498455346\n",
      "Epoch 1370: train loss: 0.00016782668535597622\n",
      "Epoch 1380: train loss: 0.00015940571029204875\n",
      "Epoch 1390: train loss: 0.00015147447993513197\n",
      "Epoch 1400: train loss: 0.0001439611951354891\n",
      "Epoch 1410: train loss: 0.00013678622781299055\n",
      "Epoch 1420: train loss: 0.00013001250044908375\n",
      "Epoch 1430: train loss: 0.0001236127718584612\n",
      "Epoch 1440: train loss: 0.00011748249380616471\n",
      "Epoch 1450: train loss: 0.00011168935452587903\n",
      "Epoch 1460: train loss: 0.00010618102533044294\n",
      "Epoch 1470: train loss: 0.00010095901234308258\n",
      "Epoch 1480: train loss: 9.598236647434533e-05\n",
      "Epoch 1490: train loss: 9.127214434556663e-05\n",
      "Epoch 1500: train loss: 8.679062739247456e-05\n",
      "Epoch 1510: train loss: 8.250681275967509e-05\n",
      "Epoch 1520: train loss: 7.84301373641938e-05\n",
      "Epoch 1530: train loss: 7.457742322003469e-05\n",
      "Epoch 1540: train loss: 7.088200800353661e-05\n",
      "Epoch 1550: train loss: 6.737351213814691e-05\n",
      "Epoch 1560: train loss: 6.403897714335471e-05\n",
      "Epoch 1570: train loss: 6.0869857406942174e-05\n",
      "Epoch 1580: train loss: 5.784839959233068e-05\n",
      "Epoch 1590: train loss: 5.497406891663559e-05\n",
      "Epoch 1600: train loss: 5.2236326155252755e-05\n",
      "Epoch 1610: train loss: 4.962995808455162e-05\n",
      "Epoch 1620: train loss: 4.7145033022388816e-05\n",
      "Epoch 1630: train loss: 4.478674236452207e-05\n",
      "Epoch 1640: train loss: 4.253450606483966e-05\n",
      "Epoch 1650: train loss: 4.038958650198765e-05\n",
      "Epoch 1660: train loss: 3.834895323961973e-05\n",
      "Epoch 1670: train loss: 3.640923387138173e-05\n",
      "Epoch 1680: train loss: 3.4563272492960095e-05\n",
      "Epoch 1690: train loss: 3.280064629507251e-05\n",
      "Epoch 1700: train loss: 3.112605554633774e-05\n",
      "Epoch 1710: train loss: 2.9532193366321735e-05\n",
      "Epoch 1720: train loss: 2.801414484565612e-05\n",
      "Epoch 1730: train loss: 2.6570656700641848e-05\n",
      "Epoch 1740: train loss: 2.5197261493303813e-05\n",
      "Epoch 1750: train loss: 2.388926804997027e-05\n",
      "Epoch 1760: train loss: 2.2644906493951567e-05\n",
      "Epoch 1770: train loss: 2.146091719623655e-05\n",
      "Epoch 1780: train loss: 2.0334999135229737e-05\n",
      "Epoch 1790: train loss: 1.9265076844021678e-05\n",
      "Epoch 1800: train loss: 1.824860373744741e-05\n",
      "Epoch 1810: train loss: 1.7281090549658984e-05\n",
      "Epoch 1820: train loss: 1.6361493180738762e-05\n",
      "Epoch 1830: train loss: 1.5488098142668605e-05\n",
      "Epoch 1840: train loss: 1.4657798601547256e-05\n",
      "Epoch 1850: train loss: 1.386931398883462e-05\n",
      "Epoch 1860: train loss: 1.3121301890350878e-05\n",
      "Epoch 1870: train loss: 1.241019072040217e-05\n",
      "Epoch 1880: train loss: 1.1735568477888592e-05\n",
      "Epoch 1890: train loss: 1.1095564332208596e-05\n",
      "Epoch 1900: train loss: 1.0488049156265333e-05\n",
      "Epoch 1910: train loss: 9.91498654911993e-06\n",
      "Epoch 1920: train loss: 9.372553904540837e-06\n",
      "Epoch 1930: train loss: 8.85896497493377e-06\n",
      "Epoch 1940: train loss: 8.371745025215205e-06\n",
      "Epoch 1950: train loss: 7.911347893241327e-06\n",
      "Epoch 1960: train loss: 7.475437541870633e-06\n",
      "Epoch 1970: train loss: 7.0624760155624244e-06\n",
      "Epoch 1980: train loss: 6.671219580312027e-06\n",
      "Epoch 1990: train loss: 6.301105713646393e-06\n"
     ]
    }
   ],
   "metadata": {}
  },
  {
   "cell_type": "code",
   "execution_count": 74,
   "source": [
    "test_pred = model(x_test)\r\n",
    "\r\n",
    "# Cumulate predicted dI\r\n",
    "pred_I = (test_pred.detach().cpu().numpy() * world_norms[1][0]) + world_norms[0][0]\r\n",
    "pred_I_prev = (train_pred.detach().cpu().numpy() * world_norms[1][0]) + world_norms[0][0]\r\n",
    "# pickle.dump(pred_I, open(f\"./results/trained_{continent}_pred_dI\", 'wb'), 2)\r\n",
    "# pickle.dump(pred_I_prev, open(f\"./results/trained_{continent}_pred_dI_prev\", 'wb'), 2)\r\n",
    "pred_I = np.cumsum(pred_I)\r\n",
    "\r\n",
    "test_I = world_features[2][1]\r\n",
    "\r\n",
    "pred_I = pred_I + test_I[0]\r\n",
    "print(pred_I)\r\n",
    "\r\n",
    "pred_I = np.array(pred_I)"
   ],
   "outputs": [
    {
     "output_type": "stream",
     "name": "stdout",
     "text": [
      "[10150457. 10016774.  9908096.  9867610.  9759169.  9628968.  9572678.\n",
      "  9417512.  9226887.  9178077.  9034421.  8908541.  8705593.  8596234.]\n"
     ]
    }
   ],
   "metadata": {}
  },
  {
   "cell_type": "code",
   "execution_count": 75,
   "source": [
    "I_true = world_active_cases[0][-test_window:]\r\n",
    "I_true = I_true[history_window:history_window+pred_window]\r\n",
    "print(I_true)"
   ],
   "outputs": [
    {
     "output_type": "stream",
     "name": "stdout",
     "text": [
      "[10058856.  9873921.  9704407.  9113707.  8906597.  8698972.  8533923.\n",
      "  8367378.  8160793.  7969293.  7799285.  7581473.  7434742.  7277611.]\n"
     ]
    }
   ],
   "metadata": {}
  },
  {
   "cell_type": "code",
   "execution_count": 76,
   "source": [
    "import matplotlib.dates as mdates\r\n",
    "dates = [test_start_date + pd.DateOffset(days=i+history_window) for i in range(pred_window)]\r\n",
    "plt.gca().xaxis.set_major_formatter(mdates.DateFormatter('%m/%d/%Y'))\r\n",
    "plt.plot(dates, I_true, c='r', label='Ground truth')\r\n",
    "plt.plot(dates, pred_I, c='b', label='Proposed')\r\n",
    "# stan_res = pickle.load(open(f\"stan_results/{loc_name}_stan_results_new\", \"rb\"))\r\n",
    "# stan_sirv_res = pickle.load(open(f\"stan_results/{loc_name}_stan_results_sirv\", \"rb\"))\r\n",
    "# plt.plot(dates, stan_res[-1, :], c='g', label=\"STAN (SIRV)\")\r\n",
    "# plt.plot(dates, sir_I[-1, :], c='purple', label=\"SIRVIC\")\r\n",
    "plt.gcf().autofmt_xdate()\r\n",
    "plt.legend()\r\n",
    "plt.ylabel(\"Number of Active Cases\")\r\n",
    "plt.title(\"World\")\r\n",
    "plt.show()"
   ],
   "outputs": [
    {
     "output_type": "display_data",
     "data": {
      "image/png": "[encoded data removed]",
      "image/svg+xml": "<?xml version=\"1.0\" encoding=\"utf-8\" standalone=\"no\"?>\r\n<!DOCTYPE svg PUBLIC \"-//W3C//DTD SVG 1.1//EN\"\r\n  \"http://www.w3.org/Graphics/SVG/1.1/DTD/svg11.dtd\">\r\n<svg height=\"269.558377pt\" version=\"1.1\" viewBox=\"0 0 392.14375 269.558377\" width=\"392.14375pt\" xmlns=\"http://www.w3.org/2000/svg\" xmlns:xlink=\"http://www.w3.org/1999/xlink\">\r\n <metadata>\r\n  <rdf:RDF xmlns:cc=\"http://creativecommons.org/ns#\" xmlns:dc=\"http://purl.org/dc/elements/1.1/\" xmlns:rdf=\"http://www.w3.org/1999/02/22-rdf-syntax-ns#\">\r\n   <cc:Work>\r\n    <dc:type rdf:resource=\"http://purl.org/dc/dcmitype/StillImage\"/>\r\n    <dc:date>2021-09-04T09:14:04.469887</dc:date>\r\n    <dc:format>image/svg+xml</dc:format>\r\n    <dc:creator>\r\n     <cc:Agent>\r\n      <dc:title>Matplotlib v3.4.2, https://matplotlib.org/</dc:title>\r\n     </cc:Agent>\r\n    </dc:creator>\r\n   </cc:Work>\r\n  </rdf:RDF>\r\n </metadata>\r\n <defs>\r\n  <style type=\"text/css\">*{stroke-linecap:butt;stroke-linejoin:round;}</style>\r\n </defs>\r\n <g id=\"figure_1\">\r\n  <g id=\"patch_1\">\r\n   <path d=\"M 0 269.558377 \r\nL 392.14375 269.558377 \r\nL 392.14375 0 \r\nL 0 0 \r\nz\r\n\" style=\"fill:none;\"/>\r\n  </g>\r\n  <g id=\"axes_1\">\r\n   <g id=\"patch_2\">\r\n    <path d=\"M 50.14375 218.158125 \r\nL 384.94375 218.158125 \r\nL 384.94375 22.318125 \r\nL 50.14375 22.318125 \r\nz\r\n\" style=\"fill:#ffffff;\"/>\r\n   </g>\r\n   <g id=\"matplotlib.axis_1\">\r\n    <g id=\"xtick_1\">\r\n     <g id=\"line2d_1\">\r\n      <defs>\r\n       <path d=\"M 0 0 \r\nL 0 3.5 \r\n\" id=\"m950ff67451\" style=\"stroke:#000000;stroke-width:0.8;\"/>\r\n      </defs>\r\n      <g>\r\n       <use style=\"stroke:#000000;stroke-width:0.8;\" x=\"88.774519\" xlink:href=\"#m950ff67451\" y=\"218.158125\"/>\r\n      </g>\r\n     </g>\r\n     <g id=\"text_1\">\r\n      <!-- 05/17/2021 -->\r\n      <g transform=\"translate(37.819136 260.557315)rotate(-30)scale(0.1 -0.1)\">\r\n       <defs>\r\n        <path d=\"M 2034 4250 \r\nQ 1547 4250 1301 3770 \r\nQ 1056 3291 1056 2328 \r\nQ 1056 1369 1301 889 \r\nQ 1547 409 2034 409 \r\nQ 2525 409 2770 889 \r\nQ 3016 1369 3016 2328 \r\nQ 3016 3291 2770 3770 \r\nQ 2525 4250 2034 4250 \r\nz\r\nM 2034 4750 \r\nQ 2819 4750 3233 4129 \r\nQ 3647 3509 3647 2328 \r\nQ 3647 1150 3233 529 \r\nQ 2819 -91 2034 -91 \r\nQ 1250 -91 836 529 \r\nQ 422 1150 422 2328 \r\nQ 422 3509 836 4129 \r\nQ 1250 4750 2034 4750 \r\nz\r\n\" id=\"DejaVuSans-30\" transform=\"scale(0.015625)\"/>\r\n        <path d=\"M 691 4666 \r\nL 3169 4666 \r\nL 3169 4134 \r\nL 1269 4134 \r\nL 1269 2991 \r\nQ 1406 3038 1543 3061 \r\nQ 1681 3084 1819 3084 \r\nQ 2600 3084 3056 2656 \r\nQ 3513 2228 3513 1497 \r\nQ 3513 744 3044 326 \r\nQ 2575 -91 1722 -91 \r\nQ 1428 -91 1123 -41 \r\nQ 819 9 494 109 \r\nL 494 744 \r\nQ 775 591 1075 516 \r\nQ 1375 441 1709 441 \r\nQ 2250 441 2565 725 \r\nQ 2881 1009 2881 1497 \r\nQ 2881 1984 2565 2268 \r\nQ 2250 2553 1709 2553 \r\nQ 1456 2553 1204 2497 \r\nQ 953 2441 691 2322 \r\nL 691 4666 \r\nz\r\n\" id=\"DejaVuSans-35\" transform=\"scale(0.015625)\"/>\r\n        <path d=\"M 1625 4666 \r\nL 2156 4666 \r\nL 531 -594 \r\nL 0 -594 \r\nL 1625 4666 \r\nz\r\n\" id=\"DejaVuSans-2f\" transform=\"scale(0.015625)\"/>\r\n        <path d=\"M 794 531 \r\nL 1825 531 \r\nL 1825 4091 \r\nL 703 3866 \r\nL 703 4441 \r\nL 1819 4666 \r\nL 2450 4666 \r\nL 2450 531 \r\nL 3481 531 \r\nL 3481 0 \r\nL 794 0 \r\nL 794 531 \r\nz\r\n\" id=\"DejaVuSans-31\" transform=\"scale(0.015625)\"/>\r\n        <path d=\"M 525 4666 \r\nL 3525 4666 \r\nL 3525 4397 \r\nL 1831 0 \r\nL 1172 0 \r\nL 2766 4134 \r\nL 525 4134 \r\nL 525 4666 \r\nz\r\n\" id=\"DejaVuSans-37\" transform=\"scale(0.015625)\"/>\r\n        <path d=\"M 1228 531 \r\nL 3431 531 \r\nL 3431 0 \r\nL 469 0 \r\nL 469 531 \r\nQ 828 903 1448 1529 \r\nQ 2069 2156 2228 2338 \r\nQ 2531 2678 2651 2914 \r\nQ 2772 3150 2772 3378 \r\nQ 2772 3750 2511 3984 \r\nQ 2250 4219 1831 4219 \r\nQ 1534 4219 1204 4116 \r\nQ 875 4013 500 3803 \r\nL 500 4441 \r\nQ 881 4594 1212 4672 \r\nQ 1544 4750 1819 4750 \r\nQ 2544 4750 2975 4387 \r\nQ 3406 4025 3406 3419 \r\nQ 3406 3131 3298 2873 \r\nQ 3191 2616 2906 2266 \r\nQ 2828 2175 2409 1742 \r\nQ 1991 1309 1228 531 \r\nz\r\n\" id=\"DejaVuSans-32\" transform=\"scale(0.015625)\"/>\r\n       </defs>\r\n       <use xlink:href=\"#DejaVuSans-30\"/>\r\n       <use x=\"63.623047\" xlink:href=\"#DejaVuSans-35\"/>\r\n       <use x=\"127.246094\" xlink:href=\"#DejaVuSans-2f\"/>\r\n       <use x=\"160.9375\" xlink:href=\"#DejaVuSans-31\"/>\r\n       <use x=\"224.560547\" xlink:href=\"#DejaVuSans-37\"/>\r\n       <use x=\"288.183594\" xlink:href=\"#DejaVuSans-2f\"/>\r\n       <use x=\"321.875\" xlink:href=\"#DejaVuSans-32\"/>\r\n       <use x=\"385.498047\" xlink:href=\"#DejaVuSans-30\"/>\r\n       <use x=\"449.121094\" xlink:href=\"#DejaVuSans-32\"/>\r\n       <use x=\"512.744141\" xlink:href=\"#DejaVuSans-31\"/>\r\n      </g>\r\n     </g>\r\n    </g>\r\n    <g id=\"xtick_2\">\r\n     <g id=\"line2d_2\">\r\n      <g>\r\n       <use style=\"stroke:#000000;stroke-width:0.8;\" x=\"135.599694\" xlink:href=\"#m950ff67451\" y=\"218.158125\"/>\r\n      </g>\r\n     </g>\r\n     <g id=\"text_2\">\r\n      <!-- 05/19/2021 -->\r\n      <g transform=\"translate(84.644311 260.557315)rotate(-30)scale(0.1 -0.1)\">\r\n       <defs>\r\n        <path d=\"M 703 97 \r\nL 703 672 \r\nQ 941 559 1184 500 \r\nQ 1428 441 1663 441 \r\nQ 2288 441 2617 861 \r\nQ 2947 1281 2994 2138 \r\nQ 2813 1869 2534 1725 \r\nQ 2256 1581 1919 1581 \r\nQ 1219 1581 811 2004 \r\nQ 403 2428 403 3163 \r\nQ 403 3881 828 4315 \r\nQ 1253 4750 1959 4750 \r\nQ 2769 4750 3195 4129 \r\nQ 3622 3509 3622 2328 \r\nQ 3622 1225 3098 567 \r\nQ 2575 -91 1691 -91 \r\nQ 1453 -91 1209 -44 \r\nQ 966 3 703 97 \r\nz\r\nM 1959 2075 \r\nQ 2384 2075 2632 2365 \r\nQ 2881 2656 2881 3163 \r\nQ 2881 3666 2632 3958 \r\nQ 2384 4250 1959 4250 \r\nQ 1534 4250 1286 3958 \r\nQ 1038 3666 1038 3163 \r\nQ 1038 2656 1286 2365 \r\nQ 1534 2075 1959 2075 \r\nz\r\n\" id=\"DejaVuSans-39\" transform=\"scale(0.015625)\"/>\r\n       </defs>\r\n       <use xlink:href=\"#DejaVuSans-30\"/>\r\n       <use x=\"63.623047\" xlink:href=\"#DejaVuSans-35\"/>\r\n       <use x=\"127.246094\" xlink:href=\"#DejaVuSans-2f\"/>\r\n       <use x=\"160.9375\" xlink:href=\"#DejaVuSans-31\"/>\r\n       <use x=\"224.560547\" xlink:href=\"#DejaVuSans-39\"/>\r\n       <use x=\"288.183594\" xlink:href=\"#DejaVuSans-2f\"/>\r\n       <use x=\"321.875\" xlink:href=\"#DejaVuSans-32\"/>\r\n       <use x=\"385.498047\" xlink:href=\"#DejaVuSans-30\"/>\r\n       <use x=\"449.121094\" xlink:href=\"#DejaVuSans-32\"/>\r\n       <use x=\"512.744141\" xlink:href=\"#DejaVuSans-31\"/>\r\n      </g>\r\n     </g>\r\n    </g>\r\n    <g id=\"xtick_3\">\r\n     <g id=\"line2d_3\">\r\n      <g>\r\n       <use style=\"stroke:#000000;stroke-width:0.8;\" x=\"182.424869\" xlink:href=\"#m950ff67451\" y=\"218.158125\"/>\r\n      </g>\r\n     </g>\r\n     <g id=\"text_3\">\r\n      <!-- 05/21/2021 -->\r\n      <g transform=\"translate(131.469486 260.557315)rotate(-30)scale(0.1 -0.1)\">\r\n       <use xlink:href=\"#DejaVuSans-30\"/>\r\n       <use x=\"63.623047\" xlink:href=\"#DejaVuSans-35\"/>\r\n       <use x=\"127.246094\" xlink:href=\"#DejaVuSans-2f\"/>\r\n       <use x=\"160.9375\" xlink:href=\"#DejaVuSans-32\"/>\r\n       <use x=\"224.560547\" xlink:href=\"#DejaVuSans-31\"/>\r\n       <use x=\"288.183594\" xlink:href=\"#DejaVuSans-2f\"/>\r\n       <use x=\"321.875\" xlink:href=\"#DejaVuSans-32\"/>\r\n       <use x=\"385.498047\" xlink:href=\"#DejaVuSans-30\"/>\r\n       <use x=\"449.121094\" xlink:href=\"#DejaVuSans-32\"/>\r\n       <use x=\"512.744141\" xlink:href=\"#DejaVuSans-31\"/>\r\n      </g>\r\n     </g>\r\n    </g>\r\n    <g id=\"xtick_4\">\r\n     <g id=\"line2d_4\">\r\n      <g>\r\n       <use style=\"stroke:#000000;stroke-width:0.8;\" x=\"229.250044\" xlink:href=\"#m950ff67451\" y=\"218.158125\"/>\r\n      </g>\r\n     </g>\r\n     <g id=\"text_4\">\r\n      <!-- 05/23/2021 -->\r\n      <g transform=\"translate(178.294661 260.557315)rotate(-30)scale(0.1 -0.1)\">\r\n       <defs>\r\n        <path d=\"M 2597 2516 \r\nQ 3050 2419 3304 2112 \r\nQ 3559 1806 3559 1356 \r\nQ 3559 666 3084 287 \r\nQ 2609 -91 1734 -91 \r\nQ 1441 -91 1130 -33 \r\nQ 819 25 488 141 \r\nL 488 750 \r\nQ 750 597 1062 519 \r\nQ 1375 441 1716 441 \r\nQ 2309 441 2620 675 \r\nQ 2931 909 2931 1356 \r\nQ 2931 1769 2642 2001 \r\nQ 2353 2234 1838 2234 \r\nL 1294 2234 \r\nL 1294 2753 \r\nL 1863 2753 \r\nQ 2328 2753 2575 2939 \r\nQ 2822 3125 2822 3475 \r\nQ 2822 3834 2567 4026 \r\nQ 2313 4219 1838 4219 \r\nQ 1578 4219 1281 4162 \r\nQ 984 4106 628 3988 \r\nL 628 4550 \r\nQ 988 4650 1302 4700 \r\nQ 1616 4750 1894 4750 \r\nQ 2613 4750 3031 4423 \r\nQ 3450 4097 3450 3541 \r\nQ 3450 3153 3228 2886 \r\nQ 3006 2619 2597 2516 \r\nz\r\n\" id=\"DejaVuSans-33\" transform=\"scale(0.015625)\"/>\r\n       </defs>\r\n       <use xlink:href=\"#DejaVuSans-30\"/>\r\n       <use x=\"63.623047\" xlink:href=\"#DejaVuSans-35\"/>\r\n       <use x=\"127.246094\" xlink:href=\"#DejaVuSans-2f\"/>\r\n       <use x=\"160.9375\" xlink:href=\"#DejaVuSans-32\"/>\r\n       <use x=\"224.560547\" xlink:href=\"#DejaVuSans-33\"/>\r\n       <use x=\"288.183594\" xlink:href=\"#DejaVuSans-2f\"/>\r\n       <use x=\"321.875\" xlink:href=\"#DejaVuSans-32\"/>\r\n       <use x=\"385.498047\" xlink:href=\"#DejaVuSans-30\"/>\r\n       <use x=\"449.121094\" xlink:href=\"#DejaVuSans-32\"/>\r\n       <use x=\"512.744141\" xlink:href=\"#DejaVuSans-31\"/>\r\n      </g>\r\n     </g>\r\n    </g>\r\n    <g id=\"xtick_5\">\r\n     <g id=\"line2d_5\">\r\n      <g>\r\n       <use style=\"stroke:#000000;stroke-width:0.8;\" x=\"276.075219\" xlink:href=\"#m950ff67451\" y=\"218.158125\"/>\r\n      </g>\r\n     </g>\r\n     <g id=\"text_5\">\r\n      <!-- 05/25/2021 -->\r\n      <g transform=\"translate(225.119836 260.557315)rotate(-30)scale(0.1 -0.1)\">\r\n       <use xlink:href=\"#DejaVuSans-30\"/>\r\n       <use x=\"63.623047\" xlink:href=\"#DejaVuSans-35\"/>\r\n       <use x=\"127.246094\" xlink:href=\"#DejaVuSans-2f\"/>\r\n       <use x=\"160.9375\" xlink:href=\"#DejaVuSans-32\"/>\r\n       <use x=\"224.560547\" xlink:href=\"#DejaVuSans-35\"/>\r\n       <use x=\"288.183594\" xlink:href=\"#DejaVuSans-2f\"/>\r\n       <use x=\"321.875\" xlink:href=\"#DejaVuSans-32\"/>\r\n       <use x=\"385.498047\" xlink:href=\"#DejaVuSans-30\"/>\r\n       <use x=\"449.121094\" xlink:href=\"#DejaVuSans-32\"/>\r\n       <use x=\"512.744141\" xlink:href=\"#DejaVuSans-31\"/>\r\n      </g>\r\n     </g>\r\n    </g>\r\n    <g id=\"xtick_6\">\r\n     <g id=\"line2d_6\">\r\n      <g>\r\n       <use style=\"stroke:#000000;stroke-width:0.8;\" x=\"322.900393\" xlink:href=\"#m950ff67451\" y=\"218.158125\"/>\r\n      </g>\r\n     </g>\r\n     <g id=\"text_6\">\r\n      <!-- 05/27/2021 -->\r\n      <g transform=\"translate(271.94501 260.557315)rotate(-30)scale(0.1 -0.1)\">\r\n       <use xlink:href=\"#DejaVuSans-30\"/>\r\n       <use x=\"63.623047\" xlink:href=\"#DejaVuSans-35\"/>\r\n       <use x=\"127.246094\" xlink:href=\"#DejaVuSans-2f\"/>\r\n       <use x=\"160.9375\" xlink:href=\"#DejaVuSans-32\"/>\r\n       <use x=\"224.560547\" xlink:href=\"#DejaVuSans-37\"/>\r\n       <use x=\"288.183594\" xlink:href=\"#DejaVuSans-2f\"/>\r\n       <use x=\"321.875\" xlink:href=\"#DejaVuSans-32\"/>\r\n       <use x=\"385.498047\" xlink:href=\"#DejaVuSans-30\"/>\r\n       <use x=\"449.121094\" xlink:href=\"#DejaVuSans-32\"/>\r\n       <use x=\"512.744141\" xlink:href=\"#DejaVuSans-31\"/>\r\n      </g>\r\n     </g>\r\n    </g>\r\n    <g id=\"xtick_7\">\r\n     <g id=\"line2d_7\">\r\n      <g>\r\n       <use style=\"stroke:#000000;stroke-width:0.8;\" x=\"369.725568\" xlink:href=\"#m950ff67451\" y=\"218.158125\"/>\r\n      </g>\r\n     </g>\r\n     <g id=\"text_7\">\r\n      <!-- 05/29/2021 -->\r\n      <g transform=\"translate(318.770185 260.557315)rotate(-30)scale(0.1 -0.1)\">\r\n       <use xlink:href=\"#DejaVuSans-30\"/>\r\n       <use x=\"63.623047\" xlink:href=\"#DejaVuSans-35\"/>\r\n       <use x=\"127.246094\" xlink:href=\"#DejaVuSans-2f\"/>\r\n       <use x=\"160.9375\" xlink:href=\"#DejaVuSans-32\"/>\r\n       <use x=\"224.560547\" xlink:href=\"#DejaVuSans-39\"/>\r\n       <use x=\"288.183594\" xlink:href=\"#DejaVuSans-2f\"/>\r\n       <use x=\"321.875\" xlink:href=\"#DejaVuSans-32\"/>\r\n       <use x=\"385.498047\" xlink:href=\"#DejaVuSans-30\"/>\r\n       <use x=\"449.121094\" xlink:href=\"#DejaVuSans-32\"/>\r\n       <use x=\"512.744141\" xlink:href=\"#DejaVuSans-31\"/>\r\n      </g>\r\n     </g>\r\n    </g>\r\n   </g>\r\n   <g id=\"matplotlib.axis_2\">\r\n    <g id=\"ytick_1\">\r\n     <g id=\"line2d_8\">\r\n      <defs>\r\n       <path d=\"M 0 0 \r\nL -3.5 0 \r\n\" id=\"m1527c6251f\" style=\"stroke:#000000;stroke-width:0.8;\"/>\r\n      </defs>\r\n      <g>\r\n       <use style=\"stroke:#000000;stroke-width:0.8;\" x=\"50.14375\" xlink:href=\"#m1527c6251f\" y=\"195.474389\"/>\r\n      </g>\r\n     </g>\r\n     <g id=\"text_8\">\r\n      <!-- 0.75 -->\r\n      <g transform=\"translate(20.878125 199.273607)scale(0.1 -0.1)\">\r\n       <defs>\r\n        <path d=\"M 684 794 \r\nL 1344 794 \r\nL 1344 0 \r\nL 684 0 \r\nL 684 794 \r\nz\r\n\" id=\"DejaVuSans-2e\" transform=\"scale(0.015625)\"/>\r\n       </defs>\r\n       <use xlink:href=\"#DejaVuSans-30\"/>\r\n       <use x=\"63.623047\" xlink:href=\"#DejaVuSans-2e\"/>\r\n       <use x=\"95.410156\" xlink:href=\"#DejaVuSans-37\"/>\r\n       <use x=\"159.033203\" xlink:href=\"#DejaVuSans-35\"/>\r\n      </g>\r\n     </g>\r\n    </g>\r\n    <g id=\"ytick_2\">\r\n     <g id=\"line2d_9\">\r\n      <g>\r\n       <use style=\"stroke:#000000;stroke-width:0.8;\" x=\"50.14375\" xlink:href=\"#m1527c6251f\" y=\"164.488327\"/>\r\n      </g>\r\n     </g>\r\n     <g id=\"text_9\">\r\n      <!-- 0.80 -->\r\n      <g transform=\"translate(20.878125 168.287546)scale(0.1 -0.1)\">\r\n       <defs>\r\n        <path d=\"M 2034 2216 \r\nQ 1584 2216 1326 1975 \r\nQ 1069 1734 1069 1313 \r\nQ 1069 891 1326 650 \r\nQ 1584 409 2034 409 \r\nQ 2484 409 2743 651 \r\nQ 3003 894 3003 1313 \r\nQ 3003 1734 2745 1975 \r\nQ 2488 2216 2034 2216 \r\nz\r\nM 1403 2484 \r\nQ 997 2584 770 2862 \r\nQ 544 3141 544 3541 \r\nQ 544 4100 942 4425 \r\nQ 1341 4750 2034 4750 \r\nQ 2731 4750 3128 4425 \r\nQ 3525 4100 3525 3541 \r\nQ 3525 3141 3298 2862 \r\nQ 3072 2584 2669 2484 \r\nQ 3125 2378 3379 2068 \r\nQ 3634 1759 3634 1313 \r\nQ 3634 634 3220 271 \r\nQ 2806 -91 2034 -91 \r\nQ 1263 -91 848 271 \r\nQ 434 634 434 1313 \r\nQ 434 1759 690 2068 \r\nQ 947 2378 1403 2484 \r\nz\r\nM 1172 3481 \r\nQ 1172 3119 1398 2916 \r\nQ 1625 2713 2034 2713 \r\nQ 2441 2713 2670 2916 \r\nQ 2900 3119 2900 3481 \r\nQ 2900 3844 2670 4047 \r\nQ 2441 4250 2034 4250 \r\nQ 1625 4250 1398 4047 \r\nQ 1172 3844 1172 3481 \r\nz\r\n\" id=\"DejaVuSans-38\" transform=\"scale(0.015625)\"/>\r\n       </defs>\r\n       <use xlink:href=\"#DejaVuSans-30\"/>\r\n       <use x=\"63.623047\" xlink:href=\"#DejaVuSans-2e\"/>\r\n       <use x=\"95.410156\" xlink:href=\"#DejaVuSans-38\"/>\r\n       <use x=\"159.033203\" xlink:href=\"#DejaVuSans-30\"/>\r\n      </g>\r\n     </g>\r\n    </g>\r\n    <g id=\"ytick_3\">\r\n     <g id=\"line2d_10\">\r\n      <g>\r\n       <use style=\"stroke:#000000;stroke-width:0.8;\" x=\"50.14375\" xlink:href=\"#m1527c6251f\" y=\"133.502266\"/>\r\n      </g>\r\n     </g>\r\n     <g id=\"text_10\">\r\n      <!-- 0.85 -->\r\n      <g transform=\"translate(20.878125 137.301485)scale(0.1 -0.1)\">\r\n       <use xlink:href=\"#DejaVuSans-30\"/>\r\n       <use x=\"63.623047\" xlink:href=\"#DejaVuSans-2e\"/>\r\n       <use x=\"95.410156\" xlink:href=\"#DejaVuSans-38\"/>\r\n       <use x=\"159.033203\" xlink:href=\"#DejaVuSans-35\"/>\r\n      </g>\r\n     </g>\r\n    </g>\r\n    <g id=\"ytick_4\">\r\n     <g id=\"line2d_11\">\r\n      <g>\r\n       <use style=\"stroke:#000000;stroke-width:0.8;\" x=\"50.14375\" xlink:href=\"#m1527c6251f\" y=\"102.516205\"/>\r\n      </g>\r\n     </g>\r\n     <g id=\"text_11\">\r\n      <!-- 0.90 -->\r\n      <g transform=\"translate(20.878125 106.315424)scale(0.1 -0.1)\">\r\n       <use xlink:href=\"#DejaVuSans-30\"/>\r\n       <use x=\"63.623047\" xlink:href=\"#DejaVuSans-2e\"/>\r\n       <use x=\"95.410156\" xlink:href=\"#DejaVuSans-39\"/>\r\n       <use x=\"159.033203\" xlink:href=\"#DejaVuSans-30\"/>\r\n      </g>\r\n     </g>\r\n    </g>\r\n    <g id=\"ytick_5\">\r\n     <g id=\"line2d_12\">\r\n      <g>\r\n       <use style=\"stroke:#000000;stroke-width:0.8;\" x=\"50.14375\" xlink:href=\"#m1527c6251f\" y=\"71.530144\"/>\r\n      </g>\r\n     </g>\r\n     <g id=\"text_12\">\r\n      <!-- 0.95 -->\r\n      <g transform=\"translate(20.878125 75.329363)scale(0.1 -0.1)\">\r\n       <use xlink:href=\"#DejaVuSans-30\"/>\r\n       <use x=\"63.623047\" xlink:href=\"#DejaVuSans-2e\"/>\r\n       <use x=\"95.410156\" xlink:href=\"#DejaVuSans-39\"/>\r\n       <use x=\"159.033203\" xlink:href=\"#DejaVuSans-35\"/>\r\n      </g>\r\n     </g>\r\n    </g>\r\n    <g id=\"ytick_6\">\r\n     <g id=\"line2d_13\">\r\n      <g>\r\n       <use style=\"stroke:#000000;stroke-width:0.8;\" x=\"50.14375\" xlink:href=\"#m1527c6251f\" y=\"40.544083\"/>\r\n      </g>\r\n     </g>\r\n     <g id=\"text_13\">\r\n      <!-- 1.00 -->\r\n      <g transform=\"translate(20.878125 44.343302)scale(0.1 -0.1)\">\r\n       <use xlink:href=\"#DejaVuSans-31\"/>\r\n       <use x=\"63.623047\" xlink:href=\"#DejaVuSans-2e\"/>\r\n       <use x=\"95.410156\" xlink:href=\"#DejaVuSans-30\"/>\r\n       <use x=\"159.033203\" xlink:href=\"#DejaVuSans-30\"/>\r\n      </g>\r\n     </g>\r\n    </g>\r\n    <g id=\"text_14\">\r\n     <!-- Number of Active Cases -->\r\n     <g transform=\"translate(14.798438 180.219375)rotate(-90)scale(0.1 -0.1)\">\r\n      <defs>\r\n       <path d=\"M 628 4666 \r\nL 1478 4666 \r\nL 3547 763 \r\nL 3547 4666 \r\nL 4159 4666 \r\nL 4159 0 \r\nL 3309 0 \r\nL 1241 3903 \r\nL 1241 0 \r\nL 628 0 \r\nL 628 4666 \r\nz\r\n\" id=\"DejaVuSans-4e\" transform=\"scale(0.015625)\"/>\r\n       <path d=\"M 544 1381 \r\nL 544 3500 \r\nL 1119 3500 \r\nL 1119 1403 \r\nQ 1119 906 1312 657 \r\nQ 1506 409 1894 409 \r\nQ 2359 409 2629 706 \r\nQ 2900 1003 2900 1516 \r\nL 2900 3500 \r\nL 3475 3500 \r\nL 3475 0 \r\nL 2900 0 \r\nL 2900 538 \r\nQ 2691 219 2414 64 \r\nQ 2138 -91 1772 -91 \r\nQ 1169 -91 856 284 \r\nQ 544 659 544 1381 \r\nz\r\nM 1991 3584 \r\nL 1991 3584 \r\nz\r\n\" id=\"DejaVuSans-75\" transform=\"scale(0.015625)\"/>\r\n       <path d=\"M 3328 2828 \r\nQ 3544 3216 3844 3400 \r\nQ 4144 3584 4550 3584 \r\nQ 5097 3584 5394 3201 \r\nQ 5691 2819 5691 2113 \r\nL 5691 0 \r\nL 5113 0 \r\nL 5113 2094 \r\nQ 5113 2597 4934 2840 \r\nQ 4756 3084 4391 3084 \r\nQ 3944 3084 3684 2787 \r\nQ 3425 2491 3425 1978 \r\nL 3425 0 \r\nL 2847 0 \r\nL 2847 2094 \r\nQ 2847 2600 2669 2842 \r\nQ 2491 3084 2119 3084 \r\nQ 1678 3084 1418 2786 \r\nQ 1159 2488 1159 1978 \r\nL 1159 0 \r\nL 581 0 \r\nL 581 3500 \r\nL 1159 3500 \r\nL 1159 2956 \r\nQ 1356 3278 1631 3431 \r\nQ 1906 3584 2284 3584 \r\nQ 2666 3584 2933 3390 \r\nQ 3200 3197 3328 2828 \r\nz\r\n\" id=\"DejaVuSans-6d\" transform=\"scale(0.015625)\"/>\r\n       <path d=\"M 3116 1747 \r\nQ 3116 2381 2855 2742 \r\nQ 2594 3103 2138 3103 \r\nQ 1681 3103 1420 2742 \r\nQ 1159 2381 1159 1747 \r\nQ 1159 1113 1420 752 \r\nQ 1681 391 2138 391 \r\nQ 2594 391 2855 752 \r\nQ 3116 1113 3116 1747 \r\nz\r\nM 1159 2969 \r\nQ 1341 3281 1617 3432 \r\nQ 1894 3584 2278 3584 \r\nQ 2916 3584 3314 3078 \r\nQ 3713 2572 3713 1747 \r\nQ 3713 922 3314 415 \r\nQ 2916 -91 2278 -91 \r\nQ 1894 -91 1617 61 \r\nQ 1341 213 1159 525 \r\nL 1159 0 \r\nL 581 0 \r\nL 581 4863 \r\nL 1159 4863 \r\nL 1159 2969 \r\nz\r\n\" id=\"DejaVuSans-62\" transform=\"scale(0.015625)\"/>\r\n       <path d=\"M 3597 1894 \r\nL 3597 1613 \r\nL 953 1613 \r\nQ 991 1019 1311 708 \r\nQ 1631 397 2203 397 \r\nQ 2534 397 2845 478 \r\nQ 3156 559 3463 722 \r\nL 3463 178 \r\nQ 3153 47 2828 -22 \r\nQ 2503 -91 2169 -91 \r\nQ 1331 -91 842 396 \r\nQ 353 884 353 1716 \r\nQ 353 2575 817 3079 \r\nQ 1281 3584 2069 3584 \r\nQ 2775 3584 3186 3129 \r\nQ 3597 2675 3597 1894 \r\nz\r\nM 3022 2063 \r\nQ 3016 2534 2758 2815 \r\nQ 2500 3097 2075 3097 \r\nQ 1594 3097 1305 2825 \r\nQ 1016 2553 972 2059 \r\nL 3022 2063 \r\nz\r\n\" id=\"DejaVuSans-65\" transform=\"scale(0.015625)\"/>\r\n       <path d=\"M 2631 2963 \r\nQ 2534 3019 2420 3045 \r\nQ 2306 3072 2169 3072 \r\nQ 1681 3072 1420 2755 \r\nQ 1159 2438 1159 1844 \r\nL 1159 0 \r\nL 581 0 \r\nL 581 3500 \r\nL 1159 3500 \r\nL 1159 2956 \r\nQ 1341 3275 1631 3429 \r\nQ 1922 3584 2338 3584 \r\nQ 2397 3584 2469 3576 \r\nQ 2541 3569 2628 3553 \r\nL 2631 2963 \r\nz\r\n\" id=\"DejaVuSans-72\" transform=\"scale(0.015625)\"/>\r\n       <path id=\"DejaVuSans-20\" transform=\"scale(0.015625)\"/>\r\n       <path d=\"M 1959 3097 \r\nQ 1497 3097 1228 2736 \r\nQ 959 2375 959 1747 \r\nQ 959 1119 1226 758 \r\nQ 1494 397 1959 397 \r\nQ 2419 397 2687 759 \r\nQ 2956 1122 2956 1747 \r\nQ 2956 2369 2687 2733 \r\nQ 2419 3097 1959 3097 \r\nz\r\nM 1959 3584 \r\nQ 2709 3584 3137 3096 \r\nQ 3566 2609 3566 1747 \r\nQ 3566 888 3137 398 \r\nQ 2709 -91 1959 -91 \r\nQ 1206 -91 779 398 \r\nQ 353 888 353 1747 \r\nQ 353 2609 779 3096 \r\nQ 1206 3584 1959 3584 \r\nz\r\n\" id=\"DejaVuSans-6f\" transform=\"scale(0.015625)\"/>\r\n       <path d=\"M 2375 4863 \r\nL 2375 4384 \r\nL 1825 4384 \r\nQ 1516 4384 1395 4259 \r\nQ 1275 4134 1275 3809 \r\nL 1275 3500 \r\nL 2222 3500 \r\nL 2222 3053 \r\nL 1275 3053 \r\nL 1275 0 \r\nL 697 0 \r\nL 697 3053 \r\nL 147 3053 \r\nL 147 3500 \r\nL 697 3500 \r\nL 697 3744 \r\nQ 697 4328 969 4595 \r\nQ 1241 4863 1831 4863 \r\nL 2375 4863 \r\nz\r\n\" id=\"DejaVuSans-66\" transform=\"scale(0.015625)\"/>\r\n       <path d=\"M 2188 4044 \r\nL 1331 1722 \r\nL 3047 1722 \r\nL 2188 4044 \r\nz\r\nM 1831 4666 \r\nL 2547 4666 \r\nL 4325 0 \r\nL 3669 0 \r\nL 3244 1197 \r\nL 1141 1197 \r\nL 716 0 \r\nL 50 0 \r\nL 1831 4666 \r\nz\r\n\" id=\"DejaVuSans-41\" transform=\"scale(0.015625)\"/>\r\n       <path d=\"M 3122 3366 \r\nL 3122 2828 \r\nQ 2878 2963 2633 3030 \r\nQ 2388 3097 2138 3097 \r\nQ 1578 3097 1268 2742 \r\nQ 959 2388 959 1747 \r\nQ 959 1106 1268 751 \r\nQ 1578 397 2138 397 \r\nQ 2388 397 2633 464 \r\nQ 2878 531 3122 666 \r\nL 3122 134 \r\nQ 2881 22 2623 -34 \r\nQ 2366 -91 2075 -91 \r\nQ 1284 -91 818 406 \r\nQ 353 903 353 1747 \r\nQ 353 2603 823 3093 \r\nQ 1294 3584 2113 3584 \r\nQ 2378 3584 2631 3529 \r\nQ 2884 3475 3122 3366 \r\nz\r\n\" id=\"DejaVuSans-63\" transform=\"scale(0.015625)\"/>\r\n       <path d=\"M 1172 4494 \r\nL 1172 3500 \r\nL 2356 3500 \r\nL 2356 3053 \r\nL 1172 3053 \r\nL 1172 1153 \r\nQ 1172 725 1289 603 \r\nQ 1406 481 1766 481 \r\nL 2356 481 \r\nL 2356 0 \r\nL 1766 0 \r\nQ 1100 0 847 248 \r\nQ 594 497 594 1153 \r\nL 594 3053 \r\nL 172 3053 \r\nL 172 3500 \r\nL 594 3500 \r\nL 594 4494 \r\nL 1172 4494 \r\nz\r\n\" id=\"DejaVuSans-74\" transform=\"scale(0.015625)\"/>\r\n       <path d=\"M 603 3500 \r\nL 1178 3500 \r\nL 1178 0 \r\nL 603 0 \r\nL 603 3500 \r\nz\r\nM 603 4863 \r\nL 1178 4863 \r\nL 1178 4134 \r\nL 603 4134 \r\nL 603 4863 \r\nz\r\n\" id=\"DejaVuSans-69\" transform=\"scale(0.015625)\"/>\r\n       <path d=\"M 191 3500 \r\nL 800 3500 \r\nL 1894 563 \r\nL 2988 3500 \r\nL 3597 3500 \r\nL 2284 0 \r\nL 1503 0 \r\nL 191 3500 \r\nz\r\n\" id=\"DejaVuSans-76\" transform=\"scale(0.015625)\"/>\r\n       <path d=\"M 4122 4306 \r\nL 4122 3641 \r\nQ 3803 3938 3442 4084 \r\nQ 3081 4231 2675 4231 \r\nQ 1875 4231 1450 3742 \r\nQ 1025 3253 1025 2328 \r\nQ 1025 1406 1450 917 \r\nQ 1875 428 2675 428 \r\nQ 3081 428 3442 575 \r\nQ 3803 722 4122 1019 \r\nL 4122 359 \r\nQ 3791 134 3420 21 \r\nQ 3050 -91 2638 -91 \r\nQ 1578 -91 968 557 \r\nQ 359 1206 359 2328 \r\nQ 359 3453 968 4101 \r\nQ 1578 4750 2638 4750 \r\nQ 3056 4750 3426 4639 \r\nQ 3797 4528 4122 4306 \r\nz\r\n\" id=\"DejaVuSans-43\" transform=\"scale(0.015625)\"/>\r\n       <path d=\"M 2194 1759 \r\nQ 1497 1759 1228 1600 \r\nQ 959 1441 959 1056 \r\nQ 959 750 1161 570 \r\nQ 1363 391 1709 391 \r\nQ 2188 391 2477 730 \r\nQ 2766 1069 2766 1631 \r\nL 2766 1759 \r\nL 2194 1759 \r\nz\r\nM 3341 1997 \r\nL 3341 0 \r\nL 2766 0 \r\nL 2766 531 \r\nQ 2569 213 2275 61 \r\nQ 1981 -91 1556 -91 \r\nQ 1019 -91 701 211 \r\nQ 384 513 384 1019 \r\nQ 384 1609 779 1909 \r\nQ 1175 2209 1959 2209 \r\nL 2766 2209 \r\nL 2766 2266 \r\nQ 2766 2663 2505 2880 \r\nQ 2244 3097 1772 3097 \r\nQ 1472 3097 1187 3025 \r\nQ 903 2953 641 2809 \r\nL 641 3341 \r\nQ 956 3463 1253 3523 \r\nQ 1550 3584 1831 3584 \r\nQ 2591 3584 2966 3190 \r\nQ 3341 2797 3341 1997 \r\nz\r\n\" id=\"DejaVuSans-61\" transform=\"scale(0.015625)\"/>\r\n       <path d=\"M 2834 3397 \r\nL 2834 2853 \r\nQ 2591 2978 2328 3040 \r\nQ 2066 3103 1784 3103 \r\nQ 1356 3103 1142 2972 \r\nQ 928 2841 928 2578 \r\nQ 928 2378 1081 2264 \r\nQ 1234 2150 1697 2047 \r\nL 1894 2003 \r\nQ 2506 1872 2764 1633 \r\nQ 3022 1394 3022 966 \r\nQ 3022 478 2636 193 \r\nQ 2250 -91 1575 -91 \r\nQ 1294 -91 989 -36 \r\nQ 684 19 347 128 \r\nL 347 722 \r\nQ 666 556 975 473 \r\nQ 1284 391 1588 391 \r\nQ 1994 391 2212 530 \r\nQ 2431 669 2431 922 \r\nQ 2431 1156 2273 1281 \r\nQ 2116 1406 1581 1522 \r\nL 1381 1569 \r\nQ 847 1681 609 1914 \r\nQ 372 2147 372 2553 \r\nQ 372 3047 722 3315 \r\nQ 1072 3584 1716 3584 \r\nQ 2034 3584 2315 3537 \r\nQ 2597 3491 2834 3397 \r\nz\r\n\" id=\"DejaVuSans-73\" transform=\"scale(0.015625)\"/>\r\n      </defs>\r\n      <use xlink:href=\"#DejaVuSans-4e\"/>\r\n      <use x=\"74.804688\" xlink:href=\"#DejaVuSans-75\"/>\r\n      <use x=\"138.183594\" xlink:href=\"#DejaVuSans-6d\"/>\r\n      <use x=\"235.595703\" xlink:href=\"#DejaVuSans-62\"/>\r\n      <use x=\"299.072266\" xlink:href=\"#DejaVuSans-65\"/>\r\n      <use x=\"360.595703\" xlink:href=\"#DejaVuSans-72\"/>\r\n      <use x=\"401.708984\" xlink:href=\"#DejaVuSans-20\"/>\r\n      <use x=\"433.496094\" xlink:href=\"#DejaVuSans-6f\"/>\r\n      <use x=\"494.677734\" xlink:href=\"#DejaVuSans-66\"/>\r\n      <use x=\"529.882812\" xlink:href=\"#DejaVuSans-20\"/>\r\n      <use x=\"561.669922\" xlink:href=\"#DejaVuSans-41\"/>\r\n      <use x=\"628.328125\" xlink:href=\"#DejaVuSans-63\"/>\r\n      <use x=\"683.308594\" xlink:href=\"#DejaVuSans-74\"/>\r\n      <use x=\"722.517578\" xlink:href=\"#DejaVuSans-69\"/>\r\n      <use x=\"750.300781\" xlink:href=\"#DejaVuSans-76\"/>\r\n      <use x=\"809.480469\" xlink:href=\"#DejaVuSans-65\"/>\r\n      <use x=\"871.003906\" xlink:href=\"#DejaVuSans-20\"/>\r\n      <use x=\"902.791016\" xlink:href=\"#DejaVuSans-43\"/>\r\n      <use x=\"972.615234\" xlink:href=\"#DejaVuSans-61\"/>\r\n      <use x=\"1033.894531\" xlink:href=\"#DejaVuSans-73\"/>\r\n      <use x=\"1085.994141\" xlink:href=\"#DejaVuSans-65\"/>\r\n      <use x=\"1147.517578\" xlink:href=\"#DejaVuSans-73\"/>\r\n     </g>\r\n    </g>\r\n    <g id=\"text_15\">\r\n     <!-- 1e7 -->\r\n     <g transform=\"translate(50.14375 19.318125)scale(0.1 -0.1)\">\r\n      <use xlink:href=\"#DejaVuSans-31\"/>\r\n      <use x=\"63.623047\" xlink:href=\"#DejaVuSans-65\"/>\r\n      <use x=\"125.146484\" xlink:href=\"#DejaVuSans-37\"/>\r\n     </g>\r\n    </g>\r\n   </g>\r\n   <g id=\"line2d_14\">\r\n    <path clip-path=\"url(#p828c0e0057)\" d=\"M 65.361932 36.896652 \r\nL 88.774519 48.357466 \r\nL 112.187107 58.862608 \r\nL 135.599694 95.469541 \r\nL 159.012281 108.304587 \r\nL 182.424869 121.171549 \r\nL 205.837456 131.399986 \r\nL 229.250044 141.721133 \r\nL 252.662631 154.523644 \r\nL 276.075219 166.391305 \r\nL 299.487806 176.927062 \r\nL 322.900393 190.425334 \r\nL 346.312981 199.518565 \r\nL 369.725568 209.256307 \r\n\" style=\"fill:none;stroke:#ff0000;stroke-linecap:square;stroke-width:1.5;\"/>\r\n   </g>\r\n   <g id=\"line2d_15\">\r\n    <path clip-path=\"url(#p828c0e0057)\" d=\"M 65.361932 31.219943 \r\nL 88.774519 39.504562 \r\nL 112.187107 46.239569 \r\nL 135.599694 48.748572 \r\nL 159.012281 55.468891 \r\nL 182.424869 63.537723 \r\nL 205.837456 67.026134 \r\nL 229.250044 76.6421 \r\nL 252.662631 88.455536 \r\nL 276.075219 91.480395 \r\nL 299.487806 100.383063 \r\nL 322.900393 108.184113 \r\nL 346.312981 120.761232 \r\nL 369.725568 127.538441 \r\n\" style=\"fill:none;stroke:#0000ff;stroke-linecap:square;stroke-width:1.5;\"/>\r\n   </g>\r\n   <g id=\"patch_3\">\r\n    <path d=\"M 50.14375 218.158125 \r\nL 50.14375 22.318125 \r\n\" style=\"fill:none;stroke:#000000;stroke-linecap:square;stroke-linejoin:miter;stroke-width:0.8;\"/>\r\n   </g>\r\n   <g id=\"patch_4\">\r\n    <path d=\"M 384.94375 218.158125 \r\nL 384.94375 22.318125 \r\n\" style=\"fill:none;stroke:#000000;stroke-linecap:square;stroke-linejoin:miter;stroke-width:0.8;\"/>\r\n   </g>\r\n   <g id=\"patch_5\">\r\n    <path d=\"M 50.14375 218.158125 \r\nL 384.94375 218.158125 \r\n\" style=\"fill:none;stroke:#000000;stroke-linecap:square;stroke-linejoin:miter;stroke-width:0.8;\"/>\r\n   </g>\r\n   <g id=\"patch_6\">\r\n    <path d=\"M 50.14375 22.318125 \r\nL 384.94375 22.318125 \r\n\" style=\"fill:none;stroke:#000000;stroke-linecap:square;stroke-linejoin:miter;stroke-width:0.8;\"/>\r\n   </g>\r\n   <g id=\"text_16\">\r\n    <!-- World -->\r\n    <g transform=\"translate(200.35 16.318125)scale(0.12 -0.12)\">\r\n     <defs>\r\n      <path d=\"M 213 4666 \r\nL 850 4666 \r\nL 1831 722 \r\nL 2809 4666 \r\nL 3519 4666 \r\nL 4500 722 \r\nL 5478 4666 \r\nL 6119 4666 \r\nL 4947 0 \r\nL 4153 0 \r\nL 3169 4050 \r\nL 2175 0 \r\nL 1381 0 \r\nL 213 4666 \r\nz\r\n\" id=\"DejaVuSans-57\" transform=\"scale(0.015625)\"/>\r\n      <path d=\"M 603 4863 \r\nL 1178 4863 \r\nL 1178 0 \r\nL 603 0 \r\nL 603 4863 \r\nz\r\n\" id=\"DejaVuSans-6c\" transform=\"scale(0.015625)\"/>\r\n      <path d=\"M 2906 2969 \r\nL 2906 4863 \r\nL 3481 4863 \r\nL 3481 0 \r\nL 2906 0 \r\nL 2906 525 \r\nQ 2725 213 2448 61 \r\nQ 2172 -91 1784 -91 \r\nQ 1150 -91 751 415 \r\nQ 353 922 353 1747 \r\nQ 353 2572 751 3078 \r\nQ 1150 3584 1784 3584 \r\nQ 2172 3584 2448 3432 \r\nQ 2725 3281 2906 2969 \r\nz\r\nM 947 1747 \r\nQ 947 1113 1208 752 \r\nQ 1469 391 1925 391 \r\nQ 2381 391 2643 752 \r\nQ 2906 1113 2906 1747 \r\nQ 2906 2381 2643 2742 \r\nQ 2381 3103 1925 3103 \r\nQ 1469 3103 1208 2742 \r\nQ 947 2381 947 1747 \r\nz\r\n\" id=\"DejaVuSans-64\" transform=\"scale(0.015625)\"/>\r\n     </defs>\r\n     <use xlink:href=\"#DejaVuSans-57\"/>\r\n     <use x=\"93.001953\" xlink:href=\"#DejaVuSans-6f\"/>\r\n     <use x=\"154.183594\" xlink:href=\"#DejaVuSans-72\"/>\r\n     <use x=\"195.296875\" xlink:href=\"#DejaVuSans-6c\"/>\r\n     <use x=\"223.080078\" xlink:href=\"#DejaVuSans-64\"/>\r\n    </g>\r\n   </g>\r\n   <g id=\"legend_1\">\r\n    <g id=\"patch_7\">\r\n     <path d=\"M 281.3625 59.674375 \r\nL 377.94375 59.674375 \r\nQ 379.94375 59.674375 379.94375 57.674375 \r\nL 379.94375 29.318125 \r\nQ 379.94375 27.318125 377.94375 27.318125 \r\nL 281.3625 27.318125 \r\nQ 279.3625 27.318125 279.3625 29.318125 \r\nL 279.3625 57.674375 \r\nQ 279.3625 59.674375 281.3625 59.674375 \r\nz\r\n\" style=\"fill:#ffffff;opacity:0.8;stroke:#cccccc;stroke-linejoin:miter;\"/>\r\n    </g>\r\n    <g id=\"line2d_16\">\r\n     <path d=\"M 283.3625 35.416563 \r\nL 303.3625 35.416563 \r\n\" style=\"fill:none;stroke:#ff0000;stroke-linecap:square;stroke-width:1.5;\"/>\r\n    </g>\r\n    <g id=\"line2d_17\"/>\r\n    <g id=\"text_17\">\r\n     <!-- Ground truth -->\r\n     <g transform=\"translate(311.3625 38.916563)scale(0.1 -0.1)\">\r\n      <defs>\r\n       <path d=\"M 3809 666 \r\nL 3809 1919 \r\nL 2778 1919 \r\nL 2778 2438 \r\nL 4434 2438 \r\nL 4434 434 \r\nQ 4069 175 3628 42 \r\nQ 3188 -91 2688 -91 \r\nQ 1594 -91 976 548 \r\nQ 359 1188 359 2328 \r\nQ 359 3472 976 4111 \r\nQ 1594 4750 2688 4750 \r\nQ 3144 4750 3555 4637 \r\nQ 3966 4525 4313 4306 \r\nL 4313 3634 \r\nQ 3963 3931 3569 4081 \r\nQ 3175 4231 2741 4231 \r\nQ 1884 4231 1454 3753 \r\nQ 1025 3275 1025 2328 \r\nQ 1025 1384 1454 906 \r\nQ 1884 428 2741 428 \r\nQ 3075 428 3337 486 \r\nQ 3600 544 3809 666 \r\nz\r\n\" id=\"DejaVuSans-47\" transform=\"scale(0.015625)\"/>\r\n       <path d=\"M 3513 2113 \r\nL 3513 0 \r\nL 2938 0 \r\nL 2938 2094 \r\nQ 2938 2591 2744 2837 \r\nQ 2550 3084 2163 3084 \r\nQ 1697 3084 1428 2787 \r\nQ 1159 2491 1159 1978 \r\nL 1159 0 \r\nL 581 0 \r\nL 581 3500 \r\nL 1159 3500 \r\nL 1159 2956 \r\nQ 1366 3272 1645 3428 \r\nQ 1925 3584 2291 3584 \r\nQ 2894 3584 3203 3211 \r\nQ 3513 2838 3513 2113 \r\nz\r\n\" id=\"DejaVuSans-6e\" transform=\"scale(0.015625)\"/>\r\n       <path d=\"M 3513 2113 \r\nL 3513 0 \r\nL 2938 0 \r\nL 2938 2094 \r\nQ 2938 2591 2744 2837 \r\nQ 2550 3084 2163 3084 \r\nQ 1697 3084 1428 2787 \r\nQ 1159 2491 1159 1978 \r\nL 1159 0 \r\nL 581 0 \r\nL 581 4863 \r\nL 1159 4863 \r\nL 1159 2956 \r\nQ 1366 3272 1645 3428 \r\nQ 1925 3584 2291 3584 \r\nQ 2894 3584 3203 3211 \r\nQ 3513 2838 3513 2113 \r\nz\r\n\" id=\"DejaVuSans-68\" transform=\"scale(0.015625)\"/>\r\n      </defs>\r\n      <use xlink:href=\"#DejaVuSans-47\"/>\r\n      <use x=\"77.490234\" xlink:href=\"#DejaVuSans-72\"/>\r\n      <use x=\"116.353516\" xlink:href=\"#DejaVuSans-6f\"/>\r\n      <use x=\"177.535156\" xlink:href=\"#DejaVuSans-75\"/>\r\n      <use x=\"240.914062\" xlink:href=\"#DejaVuSans-6e\"/>\r\n      <use x=\"304.292969\" xlink:href=\"#DejaVuSans-64\"/>\r\n      <use x=\"367.769531\" xlink:href=\"#DejaVuSans-20\"/>\r\n      <use x=\"399.556641\" xlink:href=\"#DejaVuSans-74\"/>\r\n      <use x=\"438.765625\" xlink:href=\"#DejaVuSans-72\"/>\r\n      <use x=\"479.878906\" xlink:href=\"#DejaVuSans-75\"/>\r\n      <use x=\"543.257812\" xlink:href=\"#DejaVuSans-74\"/>\r\n      <use x=\"582.466797\" xlink:href=\"#DejaVuSans-68\"/>\r\n     </g>\r\n    </g>\r\n    <g id=\"line2d_18\">\r\n     <path d=\"M 283.3625 50.094688 \r\nL 303.3625 50.094688 \r\n\" style=\"fill:none;stroke:#0000ff;stroke-linecap:square;stroke-width:1.5;\"/>\r\n    </g>\r\n    <g id=\"line2d_19\"/>\r\n    <g id=\"text_18\">\r\n     <!-- Proposed -->\r\n     <g transform=\"translate(311.3625 53.594688)scale(0.1 -0.1)\">\r\n      <defs>\r\n       <path d=\"M 1259 4147 \r\nL 1259 2394 \r\nL 2053 2394 \r\nQ 2494 2394 2734 2622 \r\nQ 2975 2850 2975 3272 \r\nQ 2975 3691 2734 3919 \r\nQ 2494 4147 2053 4147 \r\nL 1259 4147 \r\nz\r\nM 628 4666 \r\nL 2053 4666 \r\nQ 2838 4666 3239 4311 \r\nQ 3641 3956 3641 3272 \r\nQ 3641 2581 3239 2228 \r\nQ 2838 1875 2053 1875 \r\nL 1259 1875 \r\nL 1259 0 \r\nL 628 0 \r\nL 628 4666 \r\nz\r\n\" id=\"DejaVuSans-50\" transform=\"scale(0.015625)\"/>\r\n       <path d=\"M 1159 525 \r\nL 1159 -1331 \r\nL 581 -1331 \r\nL 581 3500 \r\nL 1159 3500 \r\nL 1159 2969 \r\nQ 1341 3281 1617 3432 \r\nQ 1894 3584 2278 3584 \r\nQ 2916 3584 3314 3078 \r\nQ 3713 2572 3713 1747 \r\nQ 3713 922 3314 415 \r\nQ 2916 -91 2278 -91 \r\nQ 1894 -91 1617 61 \r\nQ 1341 213 1159 525 \r\nz\r\nM 3116 1747 \r\nQ 3116 2381 2855 2742 \r\nQ 2594 3103 2138 3103 \r\nQ 1681 3103 1420 2742 \r\nQ 1159 2381 1159 1747 \r\nQ 1159 1113 1420 752 \r\nQ 1681 391 2138 391 \r\nQ 2594 391 2855 752 \r\nQ 3116 1113 3116 1747 \r\nz\r\n\" id=\"DejaVuSans-70\" transform=\"scale(0.015625)\"/>\r\n      </defs>\r\n      <use xlink:href=\"#DejaVuSans-50\"/>\r\n      <use x=\"58.552734\" xlink:href=\"#DejaVuSans-72\"/>\r\n      <use x=\"97.416016\" xlink:href=\"#DejaVuSans-6f\"/>\r\n      <use x=\"158.597656\" xlink:href=\"#DejaVuSans-70\"/>\r\n      <use x=\"222.074219\" xlink:href=\"#DejaVuSans-6f\"/>\r\n      <use x=\"283.255859\" xlink:href=\"#DejaVuSans-73\"/>\r\n      <use x=\"335.355469\" xlink:href=\"#DejaVuSans-65\"/>\r\n      <use x=\"396.878906\" xlink:href=\"#DejaVuSans-64\"/>\r\n     </g>\r\n    </g>\r\n   </g>\r\n  </g>\r\n </g>\r\n <defs>\r\n  <clipPath id=\"p828c0e0057\">\r\n   <rect height=\"195.84\" width=\"334.8\" x=\"50.14375\" y=\"22.318125\"/>\r\n  </clipPath>\r\n </defs>\r\n</svg>\r\n",
      "text/plain": [
       "<Figure size 432x288 with 1 Axes>"
      ]
     },
     "metadata": {
      "needs_background": "light"
     }
    }
   ],
   "metadata": {}
  },
  {
   "cell_type": "code",
   "execution_count": 77,
   "source": [
    "prop_mse = ((pred_I - I_true)**2).mean()\r\n",
    "print(f\"Proposed: {prop_mse}\")"
   ],
   "outputs": [
    {
     "output_type": "stream",
     "name": "stdout",
     "text": [
      "Proposed: 975031148504.5\n"
     ]
    }
   ],
   "metadata": {}
  },
  {
   "cell_type": "code",
   "execution_count": 79,
   "source": [
    "for true in I_true:\r\n",
    "    print(true)"
   ],
   "outputs": [
    {
     "output_type": "stream",
     "name": "stdout",
     "text": [
      "10058856.0\n",
      "9873921.0\n",
      "9704407.0\n",
      "9113707.0\n",
      "8906597.0\n",
      "8698972.0\n",
      "8533923.0\n",
      "8367378.0\n",
      "8160793.0\n",
      "7969293.0\n",
      "7799285.0\n",
      "7581473.0\n",
      "7434742.0\n",
      "7277611.0\n"
     ]
    }
   ],
   "metadata": {}
  }
 ],
 "metadata": {
  "kernelspec": {
   "name": "python3",
   "display_name": "Python 3.8.10 64-bit ('tf-gpu': conda)"
  },
  "language_info": {
   "codemirror_mode": {
    "name": "ipython",
    "version": 3
   },
   "file_extension": ".py",
   "mimetype": "text/x-python",
   "name": "python",
   "nbconvert_exporter": "python",
   "pygments_lexer": "ipython3",
   "version": "3.8.10"
  },
  "toc": {
   "base_numbering": 1,
   "nav_menu": {},
   "number_sections": true,
   "sideBar": true,
   "skip_h1_title": false,
   "title_cell": "Table of Contents",
   "title_sidebar": "Contents",
   "toc_cell": false,
   "toc_position": {},
   "toc_section_display": true,
   "toc_window_display": false
  },
  "metadata": {
   "interpreter": {
    "hash": "cdfa9ace6613655d28fa2370fe498fbea8375f41a5fc4e643d7f8a581612fdbd"
   }
  },
  "interpreter": {
   "hash": "cdfa9ace6613655d28fa2370fe498fbea8375f41a5fc4e643d7f8a581612fdbd"
  }
 },
 "nbformat": 4,
 "nbformat_minor": 4
}