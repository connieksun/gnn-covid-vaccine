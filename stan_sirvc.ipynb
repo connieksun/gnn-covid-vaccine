{
 "cells": [
  {
   "cell_type": "code",
   "execution_count": 79,
   "source": [
    "import csv\r\n",
    "import os\r\n",
    "\r\n",
    "import numpy as np\r\n",
    "import pandas as pd\r\n",
    "#from owid_downloader import GenerateTrainingData\r\n",
    "#from utils import date_today, gravity_law_commute_dist\r\n",
    "\r\n",
    "os.environ['NUMEXPR_MAX_THREADS'] = '16'\r\n",
    "os.environ['NUMEXPR_NUM_THREADS'] = '8'\r\n",
    "\r\n",
    "import pickle\r\n",
    "import matplotlib.pyplot as plt\r\n",
    "import dgl\r\n",
    "import torch\r\n",
    "from torch import nn\r\n",
    "import torch.nn.functional as F\r\n",
    "from model import STAN\r\n",
    "\r\n",
    "import sklearn\r\n",
    "from sklearn.metrics import mean_absolute_error\r\n",
    "from sklearn.metrics import mean_squared_error"
   ],
   "outputs": [],
   "metadata": {}
  },
  {
   "cell_type": "code",
   "execution_count": 80,
   "source": [
    "#GenerateTrainingData().download_jhu_data('2020-08-01', '2020-12-01')\r\n",
    "start_date = '2021-01-01'\r\n",
    "end_date = '2021-05-31'"
   ],
   "outputs": [],
   "metadata": {
    "scrolled": true
   }
  },
  {
   "cell_type": "code",
   "execution_count": 81,
   "source": [
    "# data processing\r\n",
    "raw_data = pd.read_csv('https://raw.githubusercontent.com/owid/covid-19-data/master/public/data/owid-covid-data.csv', usecols=[\"location\", \"date\", \"total_cases\", \"new_cases_smoothed\", \"total_deaths\",\r\n",
    "                    \"new_deaths\", \"total_vaccinations\", \"people_fully_vaccinated\", \"new_vaccinations\", \"population\"])\r\n",
    "raw_data['date'] = pd.to_datetime(raw_data['date'])\r\n",
    "mask = (raw_data['date'] >= start_date) & (raw_data['date'] <= end_date) # & (raw_data['location'].isin(countries))\r\n",
    "raw_data = raw_data.loc[mask]\r\n",
    "#print(raw_data[raw_data['location'] == 'United States']['total_cases'].values[0])\r\n",
    "countries = []\r\n",
    "loc_list = list(raw_data['location'].unique())\r\n",
    "# only include countries that have more than 1000 total cases on start date and at least 1 death\r\n",
    "for loc in loc_list:\r\n",
    "    if raw_data[raw_data['location'] == loc][\"total_cases\"].values[0] > 1000 and \\\r\n",
    "        raw_data[raw_data['location'] == loc][\"total_deaths\"].values[0] > 0:\r\n",
    "        countries.append(loc)\r\n",
    "# hard-coded; these are problematic locations (non-countries) that need to be removed\r\n",
    "countries.remove(\"European Union\")\r\n",
    "countries.remove(\"Europe\")\r\n",
    "countries.remove(\"Africa\")\r\n",
    "countries.remove(\"Asia\")\r\n",
    "countries.remove(\"North America\")\r\n",
    "countries.remove(\"Oceania\")\r\n",
    "countries.remove(\"South America\")\r\n",
    "countries.remove(\"World\")\r\n",
    "countries.remove(\"Tajikistan\")\r\n",
    "mask = raw_data['location'].isin(countries)\r\n",
    "raw_data = raw_data.loc[mask]\r\n",
    "print(len(raw_data['location'].unique()))"
   ],
   "outputs": [
    {
     "output_type": "stream",
     "name": "stdout",
     "text": [
      "163\n"
     ]
    }
   ],
   "metadata": {}
  },
  {
   "cell_type": "code",
   "execution_count": 82,
   "source": [
    "# Generate Graph\r\n",
    "# add flight neighbors\r\n",
    "# for now, add a connection if there is any flight between the two countries between start and end date\r\n",
    "loc_list = list(raw_data['location'].unique())\r\n",
    "flight_counts = pd.read_csv('processed_flights/flight_counts_2021_all.csv')\r\n",
    "adj_map = {}\r\n",
    "for each_loc in loc_list:\r\n",
    "    df = flight_counts.loc[flight_counts[\"origin_country\"] == each_loc]\r\n",
    "    adj_map[each_loc] = set(df[\"destination_country\"].unique())\r\n",
    "flight_counts['day'] = pd.to_datetime(flight_counts['day'])"
   ],
   "outputs": [],
   "metadata": {
    "tags": []
   }
  },
  {
   "cell_type": "code",
   "execution_count": 83,
   "source": [
    "# add land neighbors\r\n",
    "import csv\r\n",
    "neighbor_reader = csv.reader(open('neighbors.csv', 'r'))\r\n",
    "neighbors = {}\r\n",
    "for row in neighbor_reader:\r\n",
    "   neighbors[row[0]] = row[1].split(',')\r\n",
    "for each_loc,connected in adj_map.items():\r\n",
    "    for neighbor in neighbors[each_loc]:\r\n",
    "        if neighbor in loc_list:\r\n",
    "            connected.add(neighbor)"
   ],
   "outputs": [],
   "metadata": {
    "tags": []
   }
  },
  {
   "cell_type": "code",
   "execution_count": 84,
   "source": [
    "# create graph\r\n",
    "rows = []\r\n",
    "cols = []\r\n",
    "for each_loc in adj_map:\r\n",
    "    for each_loc2 in adj_map[each_loc]:\r\n",
    "        if each_loc in loc_list and each_loc2 in loc_list:\r\n",
    "            rows.append(loc_list.index(each_loc))\r\n",
    "            cols.append(loc_list.index(each_loc2))\r\n",
    "#print(rows)\r\n",
    "#print(cols)\r\n",
    "g = dgl.graph((rows, cols))\r\n",
    "print(g.number_of_nodes)"
   ],
   "outputs": [
    {
     "output_type": "stream",
     "name": "stdout",
     "text": [
      "<bound method DGLHeteroGraph.number_of_nodes of Graph(num_nodes=163, num_edges=3939,\n",
      "      ndata_schemes={}\n",
      "      edata_schemes={})>\n"
     ]
    }
   ],
   "metadata": {}
  },
  {
   "cell_type": "code",
   "execution_count": 85,
   "source": [
    "# import networkx as nx\r\n",
    "# nx_g = g.to_networkx()\r\n",
    "# pos = nx.kamada_kawai_layout(nx_g)\r\n",
    "# plt.figure(1,figsize=(8,8)) \r\n",
    "# nx.draw(nx_g, pos, with_labels=True, node_color=[[.7, .7, .7]])\r\n",
    "# plt.show()"
   ],
   "outputs": [],
   "metadata": {}
  },
  {
   "cell_type": "code",
   "execution_count": 86,
   "source": [
    "#Preprocess features\r\n",
    "\r\n",
    "#active_cases = []\r\n",
    "confirmed_cases = []\r\n",
    "new_cases = []\r\n",
    "new_vaccinations = []\r\n",
    "fully_vaccinated = []\r\n",
    "death_cases = []\r\n",
    "static_feat = []\r\n",
    "\r\n",
    "for i, each_loc in enumerate(loc_list):\r\n",
    "    confirmed_cases.append(raw_data[raw_data['location'] == each_loc]['total_cases'])\r\n",
    "    new_cases.append(raw_data[raw_data['location'] == each_loc]['new_cases_smoothed'])\r\n",
    "    new_vaccinations.append(raw_data[raw_data['location'] == each_loc]['new_vaccinations'])\r\n",
    "    fully_vaccinated.append(raw_data[raw_data['location'] == each_loc]['people_fully_vaccinated'])\r\n",
    "    death_cases.append(raw_data[raw_data['location'] == each_loc]['total_deaths'])\r\n",
    "    static_feat.append(np.array(raw_data[raw_data['location'] == each_loc][['population']]))\r\n",
    "confirmed_cases = np.nan_to_num(np.array(confirmed_cases))\r\n",
    "death_cases = np.nan_to_num(np.array(death_cases)[:, 14:])\r\n",
    "new_cases = np.nan_to_num(np.array(new_cases)[:, 14:])\r\n",
    "new_vaccinations = np.nan_to_num(np.array(new_vaccinations)[:, 14:])\r\n",
    "fully_vaccinated = np.nan_to_num(np.array(fully_vaccinated))\r\n",
    "static_feat = np.nan_to_num(np.array(static_feat)[:, 0, :])\r\n",
    "\r\n",
    "import copy\r\n",
    "# active = confirmed(today) - confirmed(14 days ago)\r\n",
    "cases_copy = copy.deepcopy(confirmed_cases)\r\n",
    "active = []\r\n",
    "for loc in confirmed_cases:\r\n",
    "    active_loc = []\r\n",
    "    for i in range(14, len(loc)):\r\n",
    "        active_loc.append(loc[i] - loc[i-14])\r\n",
    "    active.append(active_loc)\r\n",
    "active_cases = np.array(active)\r\n",
    "\r\n",
    "confirmed_cases = confirmed_cases[:, 14:]\r\n",
    "fully_vaccinated = fully_vaccinated[:, 14:]\r\n",
    "\r\n",
    "recovered_cases = confirmed_cases - active_cases - death_cases + 0.94*fully_vaccinated\r\n",
    "susceptible_cases = np.expand_dims(static_feat[:, 0], -1) - active_cases - recovered_cases\r\n",
    "\r\n",
    "# Batch_feat: new_cases(dI), dR, dS\r\n",
    "#dI = np.array(new_cases)\r\n",
    "dI = np.concatenate((np.zeros((active_cases.shape[0],1), dtype=np.float32), np.diff(active_cases)), axis=-1)\r\n",
    "dR = np.concatenate((np.zeros((recovered_cases.shape[0],1), dtype=np.float32), np.diff(recovered_cases)), axis=-1)\r\n",
    "dS = np.concatenate((np.zeros((susceptible_cases.shape[0],1), dtype=np.float32), np.diff(susceptible_cases)), axis=-1)\r\n",
    "# number of new fully vaccinated each day\r\n",
    "Vt = np.concatenate((np.zeros((fully_vaccinated.shape[0],1), dtype=np.float32), np.diff(fully_vaccinated)), axis=-1)\r\n",
    "print(\"done\")"
   ],
   "outputs": [
    {
     "output_type": "stream",
     "name": "stdout",
     "text": [
      "done\n"
     ]
    }
   ],
   "metadata": {
    "tags": []
   }
  },
  {
   "cell_type": "code",
   "execution_count": 87,
   "source": [
    "#Build normalizer\r\n",
    "normalizer = {'S':{}, 'I':{}, 'R':{}, 'dS':{}, 'dI':{}, 'dR':{}, 'Vt':{}}\r\n",
    "\r\n",
    "for i, each_loc in enumerate(loc_list):\r\n",
    "    normalizer['S'][each_loc] = (np.mean(susceptible_cases[i]), np.std(susceptible_cases[i]))\r\n",
    "    normalizer['I'][each_loc] = (np.mean(active_cases[i]), np.std(active_cases[i]))\r\n",
    "    normalizer['R'][each_loc] = (np.mean(recovered_cases[i]), np.std(recovered_cases[i]))\r\n",
    "    normalizer['dI'][each_loc] = (np.mean(dI[i]), np.std(dI[i]))\r\n",
    "    normalizer['dR'][each_loc] = (np.mean(dR[i]), np.std(dR[i]))\r\n",
    "    normalizer['dS'][each_loc] = (np.mean(dS[i]), np.std(dS[i]))\r\n",
    "    normalizer['Vt'][each_loc] = (np.mean(Vt[i]), np.std(Vt[i]))"
   ],
   "outputs": [],
   "metadata": {
    "tags": []
   }
  },
  {
   "cell_type": "code",
   "execution_count": 88,
   "source": [
    "def prepare_data(data, sum_I, sum_R, Vt, edges_df, start, history_window=8, pred_window=14, slide_step=7):\r\n",
    "    # Data shape n_loc, timestep, n_feat\r\n",
    "    # Reshape to n_loc, t, history_window*n_feat\r\n",
    "    n_loc = data.shape[0]\r\n",
    "    timestep = data.shape[1]\r\n",
    "    n_feat = data.shape[2]\r\n",
    "    \r\n",
    "    x = []\r\n",
    "    y_I = []\r\n",
    "    y_R = []\r\n",
    "    last_I = []\r\n",
    "    last_R = []\r\n",
    "    concat_I = []\r\n",
    "    concat_R = []\r\n",
    "    concat_Vt = []\r\n",
    "    edges = []\r\n",
    "    for i in range(0, timestep, slide_step):\r\n",
    "        if i+history_window+pred_window-1 >= timestep or i+history_window >= timestep:\r\n",
    "            break\r\n",
    "        x.append(data[:, i:i+history_window, :].reshape((n_loc, history_window*n_feat)))\r\n",
    "        \r\n",
    "        concat_I.append(data[:, i+history_window-1, 0])\r\n",
    "        concat_R.append(data[:, i+history_window-1, 1])\r\n",
    "        last_I.append(sum_I[:, i+history_window-1])\r\n",
    "        last_R.append(sum_R[:, i+history_window-1])\r\n",
    "\r\n",
    "        y_I.append(data[:, i+history_window:i+history_window+pred_window, 0])\r\n",
    "        y_R.append(data[:, i+history_window:i+history_window+pred_window, 1])\r\n",
    "\r\n",
    "        concat_Vt.append(Vt[:, i+history_window:i+history_window+pred_window])\r\n",
    "        \r\n",
    "        e_matrix = np.zeros((n_loc, n_loc)) # edge weight matrix for every time period \r\n",
    "        df = edges_df.groupby([\"origin_country\"])\r\n",
    "        for loc in range(n_loc):\r\n",
    "            try:\r\n",
    "                src_df = df.get_group(loc_list[loc])\r\n",
    "                src_df = src_df.groupby([\"destination_country\"])\r\n",
    "                for loc2 in range(n_loc):\r\n",
    "                    try:\r\n",
    "                        dst_df = src_df.get_group(loc_list[loc2])\r\n",
    "                        dst_df = dst_df.loc[(dst_df['day'] >= (pd.to_datetime(start) + pd.DateOffset(days=i)))]\r\n",
    "                        dst_df = dst_df.loc[(dst_df['day'] < (pd.to_datetime(start) + pd.DateOffset(days=i+history_window-1)))]\r\n",
    "                        e_matrix[loc, loc2] = dst_df['flight_count'].sum()\r\n",
    "                    except:\r\n",
    "                        continue\r\n",
    "            except:\r\n",
    "                continue\r\n",
    "        # normalize matrix (doubly stochastic, see https://arxiv.org/pdf/1809.02709.pdf)\r\n",
    "        # step 1: row normalize\r\n",
    "        norm = np.sum(e_matrix, axis=1, keepdims=True)\r\n",
    "        norm[norm==0] = 1e-10\r\n",
    "        norm = 1.0 / norm\r\n",
    "        P = e_matrix * norm\r\n",
    "\r\n",
    "        # step 2: P @ P^T / column_norm\r\n",
    "        norm = np.sum(P, axis=0, keepdims=True)\r\n",
    "        norm[norm==0] = 1e-10\r\n",
    "        norm = 1.0 / norm\r\n",
    "\r\n",
    "        PT = np.transpose(P, (1, 0))\r\n",
    "        P = np.multiply(P, norm)\r\n",
    "        T = np.matmul(P, PT)\r\n",
    "        edges.append(T) # n_rows = # countries, n_cols = # countries\r\n",
    "        \r\n",
    "    \r\n",
    "    x = np.array(x, dtype=np.float32).transpose((1, 0, 2))\r\n",
    "    last_I = np.array(last_I, dtype=np.float32).transpose((1, 0))\r\n",
    "    last_R = np.array(last_R, dtype=np.float32).transpose((1, 0))\r\n",
    "    concat_I = np.array(concat_I, dtype=np.float32).transpose((1, 0))\r\n",
    "    concat_R = np.array(concat_R, dtype=np.float32).transpose((1, 0))\r\n",
    "    y_I = np.array(y_I, dtype=np.float32).transpose((1, 0, 2))\r\n",
    "    y_R = np.array(y_R, dtype=np.float32).transpose((1, 0, 2))\r\n",
    "    concat_Vt = np.array(concat_Vt, dtype=np.float32).transpose((1, 0, 2))\r\n",
    "    return x, last_I, last_R, concat_I, concat_R, y_I, y_R, concat_Vt, edges"
   ],
   "outputs": [],
   "metadata": {}
  },
  {
   "cell_type": "code",
   "execution_count": 89,
   "source": [
    "def squish_edges(E):\r\n",
    "    # use src and dst (rows and cols) to make E matrix\r\n",
    "    edges = []\r\n",
    "    for M in E:\r\n",
    "        edges_flat = []\r\n",
    "        for i in range(len(rows)):\r\n",
    "            edges_flat.append(M[rows[i]][cols[i]])\r\n",
    "        edges.append(edges_flat)\r\n",
    "    return np.array(edges)"
   ],
   "outputs": [],
   "metadata": {}
  },
  {
   "cell_type": "code",
   "execution_count": 90,
   "source": [
    "valid_window = 29\r\n",
    "test_window = 29\r\n",
    "\r\n",
    "history_window=14 # days of information\r\n",
    "pred_window=14 # predicts future # of days\r\n",
    "slide_step=3 # increment\r\n",
    "\r\n",
    "dynamic_feat = np.concatenate((np.expand_dims(dI, axis=-1), np.expand_dims(dR, axis=-1), np.expand_dims(dS, axis=-1)), axis=-1)\r\n",
    "    \r\n",
    "#Normalize\r\n",
    "for i, each_loc in enumerate(loc_list):\r\n",
    "    dynamic_feat[i, :, 0] = (dynamic_feat[i, :, 0] - normalizer['dI'][each_loc][0]) / normalizer['dI'][each_loc][1]\r\n",
    "    dynamic_feat[i, :, 1] = (dynamic_feat[i, :, 1] - normalizer['dR'][each_loc][0]) / normalizer['dR'][each_loc][1]\r\n",
    "    dynamic_feat[i, :, 2] = (dynamic_feat[i, :, 2] - normalizer['dS'][each_loc][0]) / normalizer['dS'][each_loc][1]\r\n",
    "    # vaccinations don't need to be normalized\r\n",
    "    #mean_vax = normalizer['Vt'][each_loc][0]\r\n",
    "    #if mean_vax != 0:\r\n",
    "    #   Vt[i] = (Vt[i] - mean_vax) / normalizer['Vt'][each_loc][1]\r\n",
    "dI_mean = []\r\n",
    "dI_std = []\r\n",
    "dR_mean = []\r\n",
    "dR_std = []\r\n",
    "\r\n",
    "for i, each_loc in enumerate(loc_list):\r\n",
    "    dI_mean.append(normalizer['dI'][each_loc][0])\r\n",
    "    dR_mean.append(normalizer['dR'][each_loc][0])\r\n",
    "    dI_std.append(normalizer['dI'][each_loc][1])\r\n",
    "    dR_std.append(normalizer['dR'][each_loc][1])\r\n",
    "\r\n",
    "dI_mean = np.array(dI_mean)\r\n",
    "dI_std = np.array(dI_std)\r\n",
    "dR_mean = np.array(dR_mean)\r\n",
    "dR_std = np.array(dR_std)\r\n",
    "\r\n",
    "#Split train-test\r\n",
    "train_feat = dynamic_feat[:, :-valid_window-test_window, :]\r\n",
    "val_feat = dynamic_feat[:, -valid_window-test_window:-test_window, :]\r\n",
    "test_feat = dynamic_feat[:, -test_window:, :]\r\n",
    "\r\n",
    "valid_start_date = pd.to_datetime(end_date) + pd.DateOffset(days=-valid_window) + pd.DateOffset(days=-test_window)\r\n",
    "test_start_date = pd.to_datetime(end_date) + pd.DateOffset(days=-test_window)\r\n",
    "\r\n",
    "train_edges = flight_counts[(flight_counts[\"day\"] >= start_date) & (flight_counts[\"day\"] < valid_start_date)]\r\n",
    "val_edges = flight_counts[(flight_counts[\"day\"] >= valid_start_date) & (flight_counts[\"day\"] < test_start_date)]\r\n",
    "test_edges = flight_counts[(flight_counts[\"day\"] >= test_start_date) & (flight_counts[\"day\"] < end_date)]\r\n",
    "\r\n",
    "train_x, train_I, train_R, train_cI, train_cR, train_yI, train_yR, train_Vt, train_edges = prepare_data(train_feat, active_cases[:, :-valid_window-test_window], recovered_cases[:, :-valid_window-test_window], Vt[:, :-valid_window-test_window], train_edges, start_date, history_window, pred_window, slide_step)\r\n",
    "\r\n",
    "val_x, val_I, val_R, val_cI, val_cR, val_yI, val_yR, val_Vt, val_edges = prepare_data(val_feat, active_cases[:, -valid_window-test_window:-test_window], recovered_cases[:, -valid_window-test_window:-test_window], Vt[:, -valid_window-test_window:-test_window], val_edges, valid_start_date, history_window, pred_window, slide_step)\r\n",
    "\r\n",
    "test_x, test_I, test_R, test_cI, test_cR, test_yI, test_yR, test_Vt, test_edges = prepare_data(test_feat, active_cases[:, -test_window:], recovered_cases[:, -test_window:], Vt[:, -test_window:], test_edges, test_start_date, history_window, pred_window, slide_step)\r\n",
    "\r\n",
    "train_edges = squish_edges(train_edges)\r\n",
    "val_edges = squish_edges(val_edges)\r\n",
    "test_edges = squish_edges(test_edges)"
   ],
   "outputs": [],
   "metadata": {
    "tags": []
   }
  },
  {
   "cell_type": "code",
   "execution_count": 91,
   "source": [
    "print(train_edges.shape) # one edge array (len = # edges) for each timestep\r\n",
    "print(train_x.shape) # one array of features for each timestep for each location\r\n",
    "print(val_edges.shape)\r\n",
    "print(val_x.shape)\r\n",
    "print(test_edges.shape)\r\n",
    "print(test_x.shape)"
   ],
   "outputs": [
    {
     "output_type": "stream",
     "name": "stdout",
     "text": [
      "(18, 3939)\n",
      "(163, 18, 42)\n",
      "(1, 3939)\n",
      "(163, 1, 42)\n",
      "(1, 3939)\n",
      "(163, 1, 42)\n"
     ]
    }
   ],
   "metadata": {}
  },
  {
   "cell_type": "code",
   "execution_count": 104,
   "source": [
    "#Build STAN model\r\n",
    "\r\n",
    "in_dim = 3*history_window\r\n",
    "hidden_dim1 = 32\r\n",
    "hidden_dim2 = 32\r\n",
    "gru_dim = 32\r\n",
    "num_heads = 1\r\n",
    "device = torch.device(\"cuda:0\" if torch.cuda.is_available() else \"cpu\")\r\n",
    "\r\n",
    "g = g.to(device)\r\n",
    "model = STAN(g, in_dim, hidden_dim1, hidden_dim2, gru_dim, num_heads, pred_window, device).to(device)\r\n",
    "optimizer = torch.optim.Adam(model.parameters(), lr=1e-2)\r\n",
    "criterion = nn.MSELoss()"
   ],
   "outputs": [],
   "metadata": {
    "scrolled": true
   }
  },
  {
   "cell_type": "code",
   "execution_count": 93,
   "source": [
    "model"
   ],
   "outputs": [
    {
     "output_type": "execute_result",
     "data": {
      "text/plain": [
       "STAN(\n",
       "  (layer1): MultiHeadGATLayer(\n",
       "    (heads): ModuleList(\n",
       "      (0): GATLayer(\n",
       "        (fc): Linear(in_features=42, out_features=32, bias=True)\n",
       "        (attn_fc): Linear(in_features=64, out_features=1, bias=True)\n",
       "      )\n",
       "    )\n",
       "  )\n",
       "  (layer2): MultiHeadGATLayer(\n",
       "    (heads): ModuleList(\n",
       "      (0): GATLayer(\n",
       "        (fc): Linear(in_features=32, out_features=32, bias=True)\n",
       "        (attn_fc): Linear(in_features=64, out_features=1, bias=True)\n",
       "      )\n",
       "    )\n",
       "  )\n",
       "  (gru): GRUCell(32, 32)\n",
       "  (nn_res_I): Linear(in_features=34, out_features=14, bias=True)\n",
       "  (nn_res_R): Linear(in_features=34, out_features=14, bias=True)\n",
       "  (nn_res_sir): Linear(in_features=34, out_features=3, bias=True)\n",
       ")"
      ]
     },
     "metadata": {},
     "execution_count": 93
    }
   ],
   "metadata": {}
  },
  {
   "cell_type": "code",
   "execution_count": 94,
   "source": [
    "train_x = torch.tensor(train_x).to(device)\r\n",
    "train_I = torch.tensor(train_I).to(device)\r\n",
    "train_R = torch.tensor(train_R).to(device)\r\n",
    "train_cI = torch.tensor(train_cI).to(device)\r\n",
    "train_cR = torch.tensor(train_cR).to(device)\r\n",
    "train_yI = torch.tensor(train_yI).to(device)\r\n",
    "train_yR = torch.tensor(train_yR).to(device)\r\n",
    "train_Vt = torch.tensor(train_Vt).to(device)\r\n",
    "train_edges = torch.tensor(train_edges).to(device)\r\n",
    "\r\n",
    "val_x = torch.tensor(val_x).to(device)\r\n",
    "val_I = torch.tensor(val_I).to(device)\r\n",
    "val_R = torch.tensor(val_R).to(device)\r\n",
    "val_cI = torch.tensor(val_cI).to(device)\r\n",
    "val_cR = torch.tensor(val_cR).to(device)\r\n",
    "val_yI = torch.tensor(val_yI).to(device)\r\n",
    "val_yR = torch.tensor(val_yR).to(device)\r\n",
    "val_Vt = torch.tensor(val_Vt).to(device)\r\n",
    "val_edges = torch.tensor(val_edges).to(device)\r\n",
    "\r\n",
    "test_x = torch.tensor(test_x).to(device)\r\n",
    "test_I = torch.tensor(test_I).to(device)\r\n",
    "test_R = torch.tensor(test_R).to(device)\r\n",
    "test_cI = torch.tensor(test_cI).to(device)\r\n",
    "test_cR = torch.tensor(test_cR).to(device)\r\n",
    "test_yI = torch.tensor(test_yI).to(device)\r\n",
    "test_yR = torch.tensor(test_yR).to(device)\r\n",
    "test_Vt = torch.tensor(test_Vt).to(device)\r\n",
    "test_edges = torch.tensor(test_edges).to(device)\r\n",
    "\r\n",
    "dI_mean = torch.tensor(dI_mean, dtype=torch.float32).to(device).reshape((dI_mean.shape[0], 1, 1))\r\n",
    "dI_std = torch.tensor(dI_std, dtype=torch.float32).to(device).reshape((dI_mean.shape[0], 1, 1))\r\n",
    "dR_mean = torch.tensor(dR_mean, dtype=torch.float32).to(device).reshape((dI_mean.shape[0], 1, 1))\r\n",
    "dR_std = torch.tensor(dR_std, dtype=torch.float32).to(device).reshape((dI_mean.shape[0], 1, 1))\r\n",
    "\r\n",
    "N = torch.tensor(static_feat[:, 0], dtype=torch.float32).to(device).unsqueeze(-1)"
   ],
   "outputs": [],
   "metadata": {}
  },
  {
   "cell_type": "code",
   "execution_count": 95,
   "source": [
    "def train_adaptive_loss(pred_I, pred_I_sir, pred_R, pred_R_sir, true_I, true_R, pred_window=14):\r\n",
    "    total_loss = 0\r\n",
    "    for timestep in range(len(pred_I)):\r\n",
    "        for day in range(1, pred_window+1):\r\n",
    "            sir_weight = day/(pred_window+1)\r\n",
    "            pred_weight = 1-sir_weight\r\n",
    "            sir_loss = sir_weight*((pred_I_sir[timestep][day-1] - true_I[timestep][day-1])**2) + sir_weight*((pred_R_sir[timestep][day-1] - true_R[timestep][day-1])**2)\r\n",
    "            pred_loss = pred_weight*((pred_I[timestep][day-1] - true_I[timestep][day-1])**2) + pred_weight*((pred_R[timestep][day-1] - true_R[timestep][day-1])**2)\r\n",
    "            total_loss += sir_loss + pred_loss\r\n",
    "    return total_loss / pred_window\r\n",
    "\r\n",
    "def val_adaptive_loss(pred_I, pred_I_sir, true_I, pred_window=14):\r\n",
    "    total_loss = 0\r\n",
    "    for day in range(1, pred_window+1):\r\n",
    "        sir_weight = day/(pred_window+1)\r\n",
    "        pred_weight = 1-sir_weight\r\n",
    "        sir_loss = sir_weight*((pred_I_sir[day-1] - true_I[day-1])**2)\r\n",
    "        pred_loss = pred_weight*((pred_I[day-1] - true_I[day-1])**2)\r\n",
    "        total_loss += sir_loss + pred_loss\r\n",
    "    return total_loss / pred_window"
   ],
   "outputs": [],
   "metadata": {}
  },
  {
   "cell_type": "code",
   "execution_count": 105,
   "source": [
    "#Train STAN\r\n",
    "all_loss = []\r\n",
    "file_name = './save/stan'\r\n",
    "min_loss = 1e10\r\n",
    "\r\n",
    "loc_name = 'Brazil' # United States, Brazil, Germany, Japan\r\n",
    "cur_loc = loc_list.index(loc_name)\r\n",
    "\r\n",
    "for epoch in range(80):\r\n",
    "    model.train()\r\n",
    "    optimizer.zero_grad()\r\n",
    "    \r\n",
    "    active_pred, recovered_pred, phy_active, phy_recover, _ = model(train_x, train_cI[cur_loc], train_cR[cur_loc], N[cur_loc], train_I[cur_loc], train_R[cur_loc], V=train_Vt[cur_loc], e_weights=train_edges)\r\n",
    "    phy_active = (phy_active - dI_mean[cur_loc]) / dI_std[cur_loc]\r\n",
    "    phy_recover = (phy_recover - dR_mean[cur_loc]) / dR_std[cur_loc]\r\n",
    "    # SIR loss = (day) / (pred_window + 1); dynamics loss = 1 - SIR loss \r\n",
    "    loss = criterion(active_pred.squeeze(), train_yI[cur_loc].squeeze())+criterion(recovered_pred.squeeze(), train_yR[cur_loc].squeeze()) \\\r\n",
    "        + 0.1*criterion(phy_active.squeeze(), train_yI[cur_loc].squeeze())+0.1*criterion(phy_recover.squeeze(), train_yR[cur_loc].squeeze())\r\n",
    "    #loss = train_adaptive_loss(active_pred.squeeze(), phy_active.squeeze(), recovered_pred.squeeze(), phy_recover.squeeze(), train_yI[cur_loc].squeeze(), train_yR[cur_loc].squeeze(), pred_window)\r\n",
    "\r\n",
    "    loss.backward()\r\n",
    "    optimizer.step()\r\n",
    "    all_loss.append(loss.item())\r\n",
    "    \r\n",
    "    model.eval()\r\n",
    "    _, _, _, _, prev_h = model(train_x, train_cI[cur_loc], train_cR[cur_loc], N[cur_loc], train_I[cur_loc], train_R[cur_loc], V=train_Vt[cur_loc], e_weights=train_edges)\r\n",
    "    val_active_pred, val_recovered_pred, val_phy_active, val_phy_recover, _ = model(val_x, val_cI[cur_loc], val_cR[cur_loc], N[cur_loc], val_I[cur_loc], val_R[cur_loc], prev_h, V=val_Vt[cur_loc], e_weights=val_edges)\r\n",
    "    \r\n",
    "    val_phy_active = (val_phy_active - dI_mean[cur_loc]) / dI_std[cur_loc]\r\n",
    "    # SIR loss = (day) / (pred_window + 1); dynamics loss = 1 - SIR loss \r\n",
    "    # change loss here \r\n",
    "    val_loss = criterion(val_active_pred.squeeze(), val_yI[cur_loc].squeeze()) + 0.1*criterion(val_phy_active.squeeze(), val_yI[cur_loc].squeeze())\r\n",
    "    #val_loss = val_adaptive_loss(val_active_pred.squeeze(), val_phy_active.squeeze(), val_yI[cur_loc].squeeze(), pred_window)\r\n",
    "    #if val_loss < min_loss: \r\n",
    "    if (val_loss + loss) / 2 < min_loss:   \r\n",
    "        state = {\r\n",
    "            'state': model.state_dict(),\r\n",
    "            'optimizer': optimizer.state_dict(),\r\n",
    "        }\r\n",
    "        torch.save(state, file_name)\r\n",
    "        #min_loss = val_loss\r\n",
    "        min_loss = (val_loss + loss) / 2\r\n",
    "        print('-----Save best model-----')\r\n",
    "    \r\n",
    "    print('Epoch %d, Loss %.2f, Val loss %.2f'%(epoch, all_loss[-1], val_loss.item()))"
   ],
   "outputs": [
    {
     "output_type": "stream",
     "name": "stdout",
     "text": [
      "-----Save best model-----\n",
      "Epoch 0, Loss 4335829.00, Val loss 104858.45\n",
      "-----Save best model-----\n",
      "Epoch 1, Loss 2912021.25, Val loss 51964.65\n",
      "-----Save best model-----\n",
      "Epoch 2, Loss 1938673.38, Val loss 30149.95\n",
      "-----Save best model-----\n",
      "Epoch 3, Loss 1130956.12, Val loss 11408.56\n",
      "-----Save best model-----\n",
      "Epoch 4, Loss 519672.66, Val loss 3420.97\n",
      "-----Save best model-----\n",
      "Epoch 5, Loss 240488.72, Val loss 1272.55\n",
      "-----Save best model-----\n",
      "Epoch 6, Loss 50422.35, Val loss 445.16\n",
      "-----Save best model-----\n",
      "Epoch 7, Loss 28410.88, Val loss 198.58\n",
      "-----Save best model-----\n",
      "Epoch 8, Loss 6443.10, Val loss 70.94\n",
      "-----Save best model-----\n",
      "Epoch 9, Loss 3928.93, Val loss 38.74\n",
      "-----Save best model-----\n",
      "Epoch 10, Loss 1568.91, Val loss 24.65\n",
      "-----Save best model-----\n",
      "Epoch 11, Loss 1261.29, Val loss 13.83\n",
      "-----Save best model-----\n",
      "Epoch 12, Loss 408.54, Val loss 9.69\n",
      "-----Save best model-----\n",
      "Epoch 13, Loss 187.41, Val loss 6.09\n",
      "-----Save best model-----\n",
      "Epoch 14, Loss 184.78, Val loss 2.65\n",
      "-----Save best model-----\n",
      "Epoch 15, Loss 133.43, Val loss 2.59\n",
      "-----Save best model-----\n",
      "Epoch 16, Loss 59.14, Val loss 1.81\n",
      "-----Save best model-----\n",
      "Epoch 17, Loss 35.92, Val loss 1.34\n",
      "-----Save best model-----\n",
      "Epoch 18, Loss 27.37, Val loss 1.32\n",
      "Epoch 19, Loss 28.70, Val loss 1.29\n",
      "-----Save best model-----\n",
      "Epoch 20, Loss 26.77, Val loss 1.31\n",
      "Epoch 21, Loss 26.79, Val loss 1.42\n",
      "Epoch 22, Loss 27.03, Val loss 1.36\n",
      "Epoch 23, Loss 30.01, Val loss 1.43\n",
      "Epoch 24, Loss 29.43, Val loss 1.59\n",
      "Epoch 25, Loss 31.58, Val loss 1.58\n",
      "Epoch 26, Loss 31.82, Val loss 1.66\n",
      "Epoch 27, Loss 34.67, Val loss 1.54\n",
      "Epoch 28, Loss 40.90, Val loss 1.66\n",
      "Epoch 29, Loss 40.60, Val loss 1.69\n",
      "Epoch 30, Loss 38.64, Val loss 1.73\n",
      "Epoch 31, Loss 45.99, Val loss 1.77\n",
      "Epoch 32, Loss 42.37, Val loss 1.99\n",
      "Epoch 33, Loss 47.91, Val loss 1.89\n",
      "Epoch 34, Loss 44.46, Val loss 2.02\n",
      "Epoch 35, Loss 42.35, Val loss 2.00\n",
      "Epoch 36, Loss 43.38, Val loss 2.06\n",
      "Epoch 37, Loss 45.56, Val loss 2.07\n",
      "Epoch 38, Loss 42.07, Val loss 2.19\n",
      "Epoch 39, Loss 42.91, Val loss 2.18\n",
      "Epoch 40, Loss 47.50, Val loss 2.25\n",
      "Epoch 41, Loss 48.04, Val loss 2.29\n",
      "Epoch 42, Loss 50.63, Val loss 2.29\n",
      "Epoch 43, Loss 47.51, Val loss 2.54\n",
      "Epoch 44, Loss 48.13, Val loss 2.45\n",
      "Epoch 45, Loss 47.44, Val loss 2.41\n",
      "Epoch 46, Loss 50.87, Val loss 2.31\n",
      "Epoch 47, Loss 47.42, Val loss 2.38\n",
      "Epoch 48, Loss 47.11, Val loss 2.48\n",
      "Epoch 49, Loss 47.99, Val loss 2.19\n",
      "Epoch 50, Loss 51.69, Val loss 2.20\n",
      "Epoch 51, Loss 48.81, Val loss 2.40\n",
      "Epoch 52, Loss 52.14, Val loss 2.36\n",
      "Epoch 53, Loss 45.74, Val loss 2.35\n",
      "Epoch 54, Loss 47.61, Val loss 2.17\n",
      "Epoch 55, Loss 51.80, Val loss 2.31\n",
      "Epoch 56, Loss 50.89, Val loss 2.13\n",
      "Epoch 57, Loss 51.11, Val loss 2.40\n",
      "Epoch 58, Loss 48.89, Val loss 2.35\n",
      "Epoch 59, Loss 53.25, Val loss 2.48\n",
      "Epoch 60, Loss 52.59, Val loss 2.57\n",
      "Epoch 61, Loss 52.75, Val loss 2.19\n",
      "Epoch 62, Loss 54.56, Val loss 2.44\n",
      "Epoch 63, Loss 49.91, Val loss 2.49\n",
      "Epoch 64, Loss 51.75, Val loss 2.45\n",
      "Epoch 65, Loss 49.09, Val loss 2.46\n",
      "Epoch 66, Loss 48.70, Val loss 2.34\n",
      "Epoch 67, Loss 49.04, Val loss 2.30\n",
      "Epoch 68, Loss 53.62, Val loss 2.19\n",
      "Epoch 69, Loss 48.30, Val loss 2.28\n",
      "Epoch 70, Loss 46.48, Val loss 2.37\n",
      "Epoch 71, Loss 48.75, Val loss 2.42\n",
      "Epoch 72, Loss 47.29, Val loss 2.39\n",
      "Epoch 73, Loss 51.98, Val loss 2.53\n",
      "Epoch 74, Loss 48.53, Val loss 2.25\n",
      "Epoch 75, Loss 53.14, Val loss 2.29\n",
      "Epoch 76, Loss 49.83, Val loss 2.65\n",
      "Epoch 77, Loss 48.40, Val loss 2.49\n",
      "Epoch 78, Loss 48.44, Val loss 2.46\n",
      "Epoch 79, Loss 51.19, Val loss 2.39\n"
     ]
    }
   ],
   "metadata": {
    "scrolled": true
   }
  },
  {
   "cell_type": "code",
   "execution_count": 106,
   "source": [
    "#Pred with STAN\r\n",
    "file_name = './save/stan'\r\n",
    "checkpoint = torch.load(file_name)\r\n",
    "model.load_state_dict(checkpoint['state'])\r\n",
    "optimizer.load_state_dict(checkpoint['optimizer'])\r\n",
    "model.eval()\r\n",
    "\r\n",
    "\r\n",
    "prev_x = torch.cat((train_x, val_x), dim=1)\r\n",
    "prev_I = torch.cat((train_I, val_I), dim=1)\r\n",
    "prev_R = torch.cat((train_R, val_R), dim=1)\r\n",
    "prev_cI = torch.cat((train_cI, val_cI), dim=1)\r\n",
    "prev_cR = torch.cat((train_cR, val_cR), dim=1)\r\n",
    "prev_Vt = torch.cat((train_Vt, val_Vt), dim=1)\r\n",
    "prev_edges = torch.cat((train_edges, val_edges), dim=0)\r\n",
    "prev_active_pred, _, prev_phy_active_pred, _, h = model(prev_x, prev_cI[cur_loc], prev_cR[cur_loc], N[cur_loc], prev_I[cur_loc], prev_R[cur_loc], V=prev_Vt[cur_loc], e_weights=prev_edges)\r\n",
    "\r\n",
    "test_pred_active, test_pred_recovered, test_pred_phy_active, test_pred_phy_recover, _ = model(test_x, test_cI[cur_loc], test_cR[cur_loc], N[cur_loc], test_I[cur_loc], test_R[cur_loc], h, V=test_Vt[cur_loc], e_weights=test_edges)\r\n",
    "\r\n",
    "#_, _, _, _, h = model(train_x, train_cI[cur_loc], train_cR[cur_loc], N[cur_loc], train_I[cur_loc], train_R[cur_loc], V=train_Vt[cur_loc], e_weights=train_edges)\r\n",
    "\r\n",
    "#test_pred_active, test_pred_recovered, test_pred_phy_active, test_pred_phy_recover, _ = model(val_x, val_cI[cur_loc], val_cR[cur_loc], N[cur_loc], val_I[cur_loc], val_R[cur_loc], h, V=val_Vt[cur_loc], e_weights=val_edges)"
   ],
   "outputs": [],
   "metadata": {
    "scrolled": true
   }
  },
  {
   "cell_type": "code",
   "execution_count": 107,
   "source": [
    "print('Estimated beta in SIR model is %.2f'%model.alpha_scaled)\r\n",
    "print('Estimated gamma in SIR model is %.2f'%model.beta_scaled)\r\n",
    "print('Estimated theta in SIR model is %.2f'%model.theta_scaled)"
   ],
   "outputs": [
    {
     "output_type": "stream",
     "name": "stdout",
     "text": [
      "Estimated beta in SIR model is 0.02\n",
      "Estimated gamma in SIR model is 0.11\n",
      "Estimated theta in SIR model is 0.02\n"
     ]
    }
   ],
   "metadata": {}
  },
  {
   "cell_type": "code",
   "execution_count": 108,
   "source": [
    "#Cumulate predicted dI\r\n",
    "pred_I = []\r\n",
    "sir_I = []\r\n",
    "\r\n",
    "for i in range(test_pred_active.size(1)):\r\n",
    "    # below is regular prediction\r\n",
    "    cur_pred = (test_pred_active[0, i, :].detach().cpu().numpy() * dI_std[cur_loc].reshape(1, 1).detach().cpu().numpy()) + dI_mean[cur_loc].reshape(1, 1).detach().cpu().numpy()\r\n",
    "    # below is SIR model prediction\r\n",
    "    sir_pred = test_pred_phy_active[0, i, :].detach().cpu().numpy()\r\n",
    "    # below is average of the two predictions\r\n",
    "    #cur_pred = (cur_pred + test_pred_phy_active[0, i, :].detach().cpu().numpy()) / 2\r\n",
    "    cur_pred = np.cumsum(cur_pred)\r\n",
    "    cur_pred = cur_pred + test_I[cur_loc, i].detach().cpu().item()\r\n",
    "    pred_I.append(cur_pred)\r\n",
    "\r\n",
    "    sir_pred = np.cumsum(sir_pred)\r\n",
    "    sir_pred = sir_pred + test_I[cur_loc, i].detach().cpu().item()\r\n",
    "    sir_I.append(sir_pred)\r\n",
    "pred_I = np.array(pred_I)\r\n",
    "sir_I = np.array(sir_I)"
   ],
   "outputs": [],
   "metadata": {}
  },
  {
   "cell_type": "code",
   "execution_count": 109,
   "source": [
    "#I_true = get_real_y(active_cases[:], history_window, pred_window, slide_step)\r\n",
    "I_true = active_cases[cur_loc][-test_window:]\r\n",
    "I_true = I_true[history_window:history_window+pred_window]\r\n",
    "print(I_true)\r\n",
    "\r\n",
    "# test_pred_phy_active = (test_pred_phy_active - dI_mean[cur_loc]) / dI_std[cur_loc]\r\n",
    "# change loss here \r\n",
    "# loss = criterion(test_pred_active.squeeze(), val_yI[cur_loc].squeeze()) + 0.1*criterion(test_pred_phy_active.squeeze(), val_yI[cur_loc].squeeze())\r\n",
    "# #print(loss)"
   ],
   "outputs": [
    {
     "output_type": "stream",
     "name": "stdout",
     "text": [
      "[877862. 875948. 881872. 890531. 888500. 901560. 898468. 910766. 911504.\n",
      " 915298. 908173. 872405. 885066. 887877.]\n"
     ]
    }
   ],
   "metadata": {}
  },
  {
   "cell_type": "code",
   "execution_count": 110,
   "source": [
    "import matplotlib.dates as mdates\r\n",
    "dates = [test_start_date + pd.DateOffset(days=i+history_window) for i in range(pred_window)]\r\n",
    "plt.gca().xaxis.set_major_formatter(mdates.DateFormatter('%m/%d/%Y'))\r\n",
    "#plt.plot(I_true[cur_loc, -1, :],c='r', label='Ground truth')\r\n",
    "stan_res = pickle.load(open(f\"stan_results/{loc_name}_stan_results_new\", \"rb\"))\r\n",
    "stan_sirv_res = pickle.load(open(f\"stan_results/{loc_name}_stan_results_sirv\", \"rb\"))\r\n",
    "plt.plot(dates, I_true, c='r', label='Ground truth')\r\n",
    "plt.plot(dates, stan_res[-1, :], c='g', label=\"STAN (SIRV)\")\r\n",
    "#plt.plot(dates, sir_I[-1, :], c='purple', label=\"SIRVIC\")\r\n",
    "plt.plot(dates, pred_I[-1, :],c='b', label='Proposed')\r\n",
    "plt.gcf().autofmt_xdate()\r\n",
    "plt.legend()\r\n",
    "plt.ylabel(\"Number of Active Cases\")\r\n",
    "plt.title(loc_name)\r\n",
    "plt.show()"
   ],
   "outputs": [
    {
     "output_type": "display_data",
     "data": {
      "text/plain": [
       "<Figure size 432x288 with 1 Axes>"
      ],
      "image/svg+xml": "<?xml version=\"1.0\" encoding=\"utf-8\" standalone=\"no\"?>\r\n<!DOCTYPE svg PUBLIC \"-//W3C//DTD SVG 1.1//EN\"\r\n  \"http://www.w3.org/Graphics/SVG/1.1/DTD/svg11.dtd\">\r\n<svg height=\"269.558377pt\" version=\"1.1\" viewBox=\"0 0 408.053125 269.558377\" width=\"408.053125pt\" xmlns=\"http://www.w3.org/2000/svg\" xmlns:xlink=\"http://www.w3.org/1999/xlink\">\r\n <metadata>\r\n  <rdf:RDF xmlns:cc=\"http://creativecommons.org/ns#\" xmlns:dc=\"http://purl.org/dc/elements/1.1/\" xmlns:rdf=\"http://www.w3.org/1999/02/22-rdf-syntax-ns#\">\r\n   <cc:Work>\r\n    <dc:type rdf:resource=\"http://purl.org/dc/dcmitype/StillImage\"/>\r\n    <dc:date>2021-08-28T21:13:18.506933</dc:date>\r\n    <dc:format>image/svg+xml</dc:format>\r\n    <dc:creator>\r\n     <cc:Agent>\r\n      <dc:title>Matplotlib v3.4.2, https://matplotlib.org/</dc:title>\r\n     </cc:Agent>\r\n    </dc:creator>\r\n   </cc:Work>\r\n  </rdf:RDF>\r\n </metadata>\r\n <defs>\r\n  <style type=\"text/css\">*{stroke-linecap:butt;stroke-linejoin:round;}</style>\r\n </defs>\r\n <g id=\"figure_1\">\r\n  <g id=\"patch_1\">\r\n   <path d=\"M 0 269.558377 \r\nL 408.053125 269.558377 \r\nL 408.053125 0 \r\nL 0 0 \r\nz\r\n\" style=\"fill:none;\"/>\r\n  </g>\r\n  <g id=\"axes_1\">\r\n   <g id=\"patch_2\">\r\n    <path d=\"M 66.053125 218.158125 \r\nL 400.853125 218.158125 \r\nL 400.853125 22.318125 \r\nL 66.053125 22.318125 \r\nz\r\n\" style=\"fill:#ffffff;\"/>\r\n   </g>\r\n   <g id=\"matplotlib.axis_1\">\r\n    <g id=\"xtick_1\">\r\n     <g id=\"line2d_1\">\r\n      <defs>\r\n       <path d=\"M 0 0 \r\nL 0 3.5 \r\n\" id=\"m7e2204f8bc\" style=\"stroke:#000000;stroke-width:0.8;\"/>\r\n      </defs>\r\n      <g>\r\n       <use style=\"stroke:#000000;stroke-width:0.8;\" x=\"104.683894\" xlink:href=\"#m7e2204f8bc\" y=\"218.158125\"/>\r\n      </g>\r\n     </g>\r\n     <g id=\"text_1\">\r\n      <!-- 05/17/2021 -->\r\n      <g transform=\"translate(53.728511 260.557315)rotate(-30)scale(0.1 -0.1)\">\r\n       <defs>\r\n        <path d=\"M 2034 4250 \r\nQ 1547 4250 1301 3770 \r\nQ 1056 3291 1056 2328 \r\nQ 1056 1369 1301 889 \r\nQ 1547 409 2034 409 \r\nQ 2525 409 2770 889 \r\nQ 3016 1369 3016 2328 \r\nQ 3016 3291 2770 3770 \r\nQ 2525 4250 2034 4250 \r\nz\r\nM 2034 4750 \r\nQ 2819 4750 3233 4129 \r\nQ 3647 3509 3647 2328 \r\nQ 3647 1150 3233 529 \r\nQ 2819 -91 2034 -91 \r\nQ 1250 -91 836 529 \r\nQ 422 1150 422 2328 \r\nQ 422 3509 836 4129 \r\nQ 1250 4750 2034 4750 \r\nz\r\n\" id=\"DejaVuSans-30\" transform=\"scale(0.015625)\"/>\r\n        <path d=\"M 691 4666 \r\nL 3169 4666 \r\nL 3169 4134 \r\nL 1269 4134 \r\nL 1269 2991 \r\nQ 1406 3038 1543 3061 \r\nQ 1681 3084 1819 3084 \r\nQ 2600 3084 3056 2656 \r\nQ 3513 2228 3513 1497 \r\nQ 3513 744 3044 326 \r\nQ 2575 -91 1722 -91 \r\nQ 1428 -91 1123 -41 \r\nQ 819 9 494 109 \r\nL 494 744 \r\nQ 775 591 1075 516 \r\nQ 1375 441 1709 441 \r\nQ 2250 441 2565 725 \r\nQ 2881 1009 2881 1497 \r\nQ 2881 1984 2565 2268 \r\nQ 2250 2553 1709 2553 \r\nQ 1456 2553 1204 2497 \r\nQ 953 2441 691 2322 \r\nL 691 4666 \r\nz\r\n\" id=\"DejaVuSans-35\" transform=\"scale(0.015625)\"/>\r\n        <path d=\"M 1625 4666 \r\nL 2156 4666 \r\nL 531 -594 \r\nL 0 -594 \r\nL 1625 4666 \r\nz\r\n\" id=\"DejaVuSans-2f\" transform=\"scale(0.015625)\"/>\r\n        <path d=\"M 794 531 \r\nL 1825 531 \r\nL 1825 4091 \r\nL 703 3866 \r\nL 703 4441 \r\nL 1819 4666 \r\nL 2450 4666 \r\nL 2450 531 \r\nL 3481 531 \r\nL 3481 0 \r\nL 794 0 \r\nL 794 531 \r\nz\r\n\" id=\"DejaVuSans-31\" transform=\"scale(0.015625)\"/>\r\n        <path d=\"M 525 4666 \r\nL 3525 4666 \r\nL 3525 4397 \r\nL 1831 0 \r\nL 1172 0 \r\nL 2766 4134 \r\nL 525 4134 \r\nL 525 4666 \r\nz\r\n\" id=\"DejaVuSans-37\" transform=\"scale(0.015625)\"/>\r\n        <path d=\"M 1228 531 \r\nL 3431 531 \r\nL 3431 0 \r\nL 469 0 \r\nL 469 531 \r\nQ 828 903 1448 1529 \r\nQ 2069 2156 2228 2338 \r\nQ 2531 2678 2651 2914 \r\nQ 2772 3150 2772 3378 \r\nQ 2772 3750 2511 3984 \r\nQ 2250 4219 1831 4219 \r\nQ 1534 4219 1204 4116 \r\nQ 875 4013 500 3803 \r\nL 500 4441 \r\nQ 881 4594 1212 4672 \r\nQ 1544 4750 1819 4750 \r\nQ 2544 4750 2975 4387 \r\nQ 3406 4025 3406 3419 \r\nQ 3406 3131 3298 2873 \r\nQ 3191 2616 2906 2266 \r\nQ 2828 2175 2409 1742 \r\nQ 1991 1309 1228 531 \r\nz\r\n\" id=\"DejaVuSans-32\" transform=\"scale(0.015625)\"/>\r\n       </defs>\r\n       <use xlink:href=\"#DejaVuSans-30\"/>\r\n       <use x=\"63.623047\" xlink:href=\"#DejaVuSans-35\"/>\r\n       <use x=\"127.246094\" xlink:href=\"#DejaVuSans-2f\"/>\r\n       <use x=\"160.9375\" xlink:href=\"#DejaVuSans-31\"/>\r\n       <use x=\"224.560547\" xlink:href=\"#DejaVuSans-37\"/>\r\n       <use x=\"288.183594\" xlink:href=\"#DejaVuSans-2f\"/>\r\n       <use x=\"321.875\" xlink:href=\"#DejaVuSans-32\"/>\r\n       <use x=\"385.498047\" xlink:href=\"#DejaVuSans-30\"/>\r\n       <use x=\"449.121094\" xlink:href=\"#DejaVuSans-32\"/>\r\n       <use x=\"512.744141\" xlink:href=\"#DejaVuSans-31\"/>\r\n      </g>\r\n     </g>\r\n    </g>\r\n    <g id=\"xtick_2\">\r\n     <g id=\"line2d_2\">\r\n      <g>\r\n       <use style=\"stroke:#000000;stroke-width:0.8;\" x=\"151.509069\" xlink:href=\"#m7e2204f8bc\" y=\"218.158125\"/>\r\n      </g>\r\n     </g>\r\n     <g id=\"text_2\">\r\n      <!-- 05/19/2021 -->\r\n      <g transform=\"translate(100.553686 260.557315)rotate(-30)scale(0.1 -0.1)\">\r\n       <defs>\r\n        <path d=\"M 703 97 \r\nL 703 672 \r\nQ 941 559 1184 500 \r\nQ 1428 441 1663 441 \r\nQ 2288 441 2617 861 \r\nQ 2947 1281 2994 2138 \r\nQ 2813 1869 2534 1725 \r\nQ 2256 1581 1919 1581 \r\nQ 1219 1581 811 2004 \r\nQ 403 2428 403 3163 \r\nQ 403 3881 828 4315 \r\nQ 1253 4750 1959 4750 \r\nQ 2769 4750 3195 4129 \r\nQ 3622 3509 3622 2328 \r\nQ 3622 1225 3098 567 \r\nQ 2575 -91 1691 -91 \r\nQ 1453 -91 1209 -44 \r\nQ 966 3 703 97 \r\nz\r\nM 1959 2075 \r\nQ 2384 2075 2632 2365 \r\nQ 2881 2656 2881 3163 \r\nQ 2881 3666 2632 3958 \r\nQ 2384 4250 1959 4250 \r\nQ 1534 4250 1286 3958 \r\nQ 1038 3666 1038 3163 \r\nQ 1038 2656 1286 2365 \r\nQ 1534 2075 1959 2075 \r\nz\r\n\" id=\"DejaVuSans-39\" transform=\"scale(0.015625)\"/>\r\n       </defs>\r\n       <use xlink:href=\"#DejaVuSans-30\"/>\r\n       <use x=\"63.623047\" xlink:href=\"#DejaVuSans-35\"/>\r\n       <use x=\"127.246094\" xlink:href=\"#DejaVuSans-2f\"/>\r\n       <use x=\"160.9375\" xlink:href=\"#DejaVuSans-31\"/>\r\n       <use x=\"224.560547\" xlink:href=\"#DejaVuSans-39\"/>\r\n       <use x=\"288.183594\" xlink:href=\"#DejaVuSans-2f\"/>\r\n       <use x=\"321.875\" xlink:href=\"#DejaVuSans-32\"/>\r\n       <use x=\"385.498047\" xlink:href=\"#DejaVuSans-30\"/>\r\n       <use x=\"449.121094\" xlink:href=\"#DejaVuSans-32\"/>\r\n       <use x=\"512.744141\" xlink:href=\"#DejaVuSans-31\"/>\r\n      </g>\r\n     </g>\r\n    </g>\r\n    <g id=\"xtick_3\">\r\n     <g id=\"line2d_3\">\r\n      <g>\r\n       <use style=\"stroke:#000000;stroke-width:0.8;\" x=\"198.334244\" xlink:href=\"#m7e2204f8bc\" y=\"218.158125\"/>\r\n      </g>\r\n     </g>\r\n     <g id=\"text_3\">\r\n      <!-- 05/21/2021 -->\r\n      <g transform=\"translate(147.378861 260.557315)rotate(-30)scale(0.1 -0.1)\">\r\n       <use xlink:href=\"#DejaVuSans-30\"/>\r\n       <use x=\"63.623047\" xlink:href=\"#DejaVuSans-35\"/>\r\n       <use x=\"127.246094\" xlink:href=\"#DejaVuSans-2f\"/>\r\n       <use x=\"160.9375\" xlink:href=\"#DejaVuSans-32\"/>\r\n       <use x=\"224.560547\" xlink:href=\"#DejaVuSans-31\"/>\r\n       <use x=\"288.183594\" xlink:href=\"#DejaVuSans-2f\"/>\r\n       <use x=\"321.875\" xlink:href=\"#DejaVuSans-32\"/>\r\n       <use x=\"385.498047\" xlink:href=\"#DejaVuSans-30\"/>\r\n       <use x=\"449.121094\" xlink:href=\"#DejaVuSans-32\"/>\r\n       <use x=\"512.744141\" xlink:href=\"#DejaVuSans-31\"/>\r\n      </g>\r\n     </g>\r\n    </g>\r\n    <g id=\"xtick_4\">\r\n     <g id=\"line2d_4\">\r\n      <g>\r\n       <use style=\"stroke:#000000;stroke-width:0.8;\" x=\"245.159419\" xlink:href=\"#m7e2204f8bc\" y=\"218.158125\"/>\r\n      </g>\r\n     </g>\r\n     <g id=\"text_4\">\r\n      <!-- 05/23/2021 -->\r\n      <g transform=\"translate(194.204036 260.557315)rotate(-30)scale(0.1 -0.1)\">\r\n       <defs>\r\n        <path d=\"M 2597 2516 \r\nQ 3050 2419 3304 2112 \r\nQ 3559 1806 3559 1356 \r\nQ 3559 666 3084 287 \r\nQ 2609 -91 1734 -91 \r\nQ 1441 -91 1130 -33 \r\nQ 819 25 488 141 \r\nL 488 750 \r\nQ 750 597 1062 519 \r\nQ 1375 441 1716 441 \r\nQ 2309 441 2620 675 \r\nQ 2931 909 2931 1356 \r\nQ 2931 1769 2642 2001 \r\nQ 2353 2234 1838 2234 \r\nL 1294 2234 \r\nL 1294 2753 \r\nL 1863 2753 \r\nQ 2328 2753 2575 2939 \r\nQ 2822 3125 2822 3475 \r\nQ 2822 3834 2567 4026 \r\nQ 2313 4219 1838 4219 \r\nQ 1578 4219 1281 4162 \r\nQ 984 4106 628 3988 \r\nL 628 4550 \r\nQ 988 4650 1302 4700 \r\nQ 1616 4750 1894 4750 \r\nQ 2613 4750 3031 4423 \r\nQ 3450 4097 3450 3541 \r\nQ 3450 3153 3228 2886 \r\nQ 3006 2619 2597 2516 \r\nz\r\n\" id=\"DejaVuSans-33\" transform=\"scale(0.015625)\"/>\r\n       </defs>\r\n       <use xlink:href=\"#DejaVuSans-30\"/>\r\n       <use x=\"63.623047\" xlink:href=\"#DejaVuSans-35\"/>\r\n       <use x=\"127.246094\" xlink:href=\"#DejaVuSans-2f\"/>\r\n       <use x=\"160.9375\" xlink:href=\"#DejaVuSans-32\"/>\r\n       <use x=\"224.560547\" xlink:href=\"#DejaVuSans-33\"/>\r\n       <use x=\"288.183594\" xlink:href=\"#DejaVuSans-2f\"/>\r\n       <use x=\"321.875\" xlink:href=\"#DejaVuSans-32\"/>\r\n       <use x=\"385.498047\" xlink:href=\"#DejaVuSans-30\"/>\r\n       <use x=\"449.121094\" xlink:href=\"#DejaVuSans-32\"/>\r\n       <use x=\"512.744141\" xlink:href=\"#DejaVuSans-31\"/>\r\n      </g>\r\n     </g>\r\n    </g>\r\n    <g id=\"xtick_5\">\r\n     <g id=\"line2d_5\">\r\n      <g>\r\n       <use style=\"stroke:#000000;stroke-width:0.8;\" x=\"291.984594\" xlink:href=\"#m7e2204f8bc\" y=\"218.158125\"/>\r\n      </g>\r\n     </g>\r\n     <g id=\"text_5\">\r\n      <!-- 05/25/2021 -->\r\n      <g transform=\"translate(241.029211 260.557315)rotate(-30)scale(0.1 -0.1)\">\r\n       <use xlink:href=\"#DejaVuSans-30\"/>\r\n       <use x=\"63.623047\" xlink:href=\"#DejaVuSans-35\"/>\r\n       <use x=\"127.246094\" xlink:href=\"#DejaVuSans-2f\"/>\r\n       <use x=\"160.9375\" xlink:href=\"#DejaVuSans-32\"/>\r\n       <use x=\"224.560547\" xlink:href=\"#DejaVuSans-35\"/>\r\n       <use x=\"288.183594\" xlink:href=\"#DejaVuSans-2f\"/>\r\n       <use x=\"321.875\" xlink:href=\"#DejaVuSans-32\"/>\r\n       <use x=\"385.498047\" xlink:href=\"#DejaVuSans-30\"/>\r\n       <use x=\"449.121094\" xlink:href=\"#DejaVuSans-32\"/>\r\n       <use x=\"512.744141\" xlink:href=\"#DejaVuSans-31\"/>\r\n      </g>\r\n     </g>\r\n    </g>\r\n    <g id=\"xtick_6\">\r\n     <g id=\"line2d_6\">\r\n      <g>\r\n       <use style=\"stroke:#000000;stroke-width:0.8;\" x=\"338.809768\" xlink:href=\"#m7e2204f8bc\" y=\"218.158125\"/>\r\n      </g>\r\n     </g>\r\n     <g id=\"text_6\">\r\n      <!-- 05/27/2021 -->\r\n      <g transform=\"translate(287.854385 260.557315)rotate(-30)scale(0.1 -0.1)\">\r\n       <use xlink:href=\"#DejaVuSans-30\"/>\r\n       <use x=\"63.623047\" xlink:href=\"#DejaVuSans-35\"/>\r\n       <use x=\"127.246094\" xlink:href=\"#DejaVuSans-2f\"/>\r\n       <use x=\"160.9375\" xlink:href=\"#DejaVuSans-32\"/>\r\n       <use x=\"224.560547\" xlink:href=\"#DejaVuSans-37\"/>\r\n       <use x=\"288.183594\" xlink:href=\"#DejaVuSans-2f\"/>\r\n       <use x=\"321.875\" xlink:href=\"#DejaVuSans-32\"/>\r\n       <use x=\"385.498047\" xlink:href=\"#DejaVuSans-30\"/>\r\n       <use x=\"449.121094\" xlink:href=\"#DejaVuSans-32\"/>\r\n       <use x=\"512.744141\" xlink:href=\"#DejaVuSans-31\"/>\r\n      </g>\r\n     </g>\r\n    </g>\r\n    <g id=\"xtick_7\">\r\n     <g id=\"line2d_7\">\r\n      <g>\r\n       <use style=\"stroke:#000000;stroke-width:0.8;\" x=\"385.634943\" xlink:href=\"#m7e2204f8bc\" y=\"218.158125\"/>\r\n      </g>\r\n     </g>\r\n     <g id=\"text_7\">\r\n      <!-- 05/29/2021 -->\r\n      <g transform=\"translate(334.67956 260.557315)rotate(-30)scale(0.1 -0.1)\">\r\n       <use xlink:href=\"#DejaVuSans-30\"/>\r\n       <use x=\"63.623047\" xlink:href=\"#DejaVuSans-35\"/>\r\n       <use x=\"127.246094\" xlink:href=\"#DejaVuSans-2f\"/>\r\n       <use x=\"160.9375\" xlink:href=\"#DejaVuSans-32\"/>\r\n       <use x=\"224.560547\" xlink:href=\"#DejaVuSans-39\"/>\r\n       <use x=\"288.183594\" xlink:href=\"#DejaVuSans-2f\"/>\r\n       <use x=\"321.875\" xlink:href=\"#DejaVuSans-32\"/>\r\n       <use x=\"385.498047\" xlink:href=\"#DejaVuSans-30\"/>\r\n       <use x=\"449.121094\" xlink:href=\"#DejaVuSans-32\"/>\r\n       <use x=\"512.744141\" xlink:href=\"#DejaVuSans-31\"/>\r\n      </g>\r\n     </g>\r\n    </g>\r\n   </g>\r\n   <g id=\"matplotlib.axis_2\">\r\n    <g id=\"ytick_1\">\r\n     <g id=\"line2d_8\">\r\n      <defs>\r\n       <path d=\"M 0 0 \r\nL -3.5 0 \r\n\" id=\"m593d3d774a\" style=\"stroke:#000000;stroke-width:0.8;\"/>\r\n      </defs>\r\n      <g>\r\n       <use style=\"stroke:#000000;stroke-width:0.8;\" x=\"66.053125\" xlink:href=\"#m593d3d774a\" y=\"192.584804\"/>\r\n      </g>\r\n     </g>\r\n     <g id=\"text_8\">\r\n      <!-- 880000 -->\r\n      <g transform=\"translate(20.878125 196.384022)scale(0.1 -0.1)\">\r\n       <defs>\r\n        <path d=\"M 2034 2216 \r\nQ 1584 2216 1326 1975 \r\nQ 1069 1734 1069 1313 \r\nQ 1069 891 1326 650 \r\nQ 1584 409 2034 409 \r\nQ 2484 409 2743 651 \r\nQ 3003 894 3003 1313 \r\nQ 3003 1734 2745 1975 \r\nQ 2488 2216 2034 2216 \r\nz\r\nM 1403 2484 \r\nQ 997 2584 770 2862 \r\nQ 544 3141 544 3541 \r\nQ 544 4100 942 4425 \r\nQ 1341 4750 2034 4750 \r\nQ 2731 4750 3128 4425 \r\nQ 3525 4100 3525 3541 \r\nQ 3525 3141 3298 2862 \r\nQ 3072 2584 2669 2484 \r\nQ 3125 2378 3379 2068 \r\nQ 3634 1759 3634 1313 \r\nQ 3634 634 3220 271 \r\nQ 2806 -91 2034 -91 \r\nQ 1263 -91 848 271 \r\nQ 434 634 434 1313 \r\nQ 434 1759 690 2068 \r\nQ 947 2378 1403 2484 \r\nz\r\nM 1172 3481 \r\nQ 1172 3119 1398 2916 \r\nQ 1625 2713 2034 2713 \r\nQ 2441 2713 2670 2916 \r\nQ 2900 3119 2900 3481 \r\nQ 2900 3844 2670 4047 \r\nQ 2441 4250 2034 4250 \r\nQ 1625 4250 1398 4047 \r\nQ 1172 3844 1172 3481 \r\nz\r\n\" id=\"DejaVuSans-38\" transform=\"scale(0.015625)\"/>\r\n       </defs>\r\n       <use xlink:href=\"#DejaVuSans-38\"/>\r\n       <use x=\"63.623047\" xlink:href=\"#DejaVuSans-38\"/>\r\n       <use x=\"127.246094\" xlink:href=\"#DejaVuSans-30\"/>\r\n       <use x=\"190.869141\" xlink:href=\"#DejaVuSans-30\"/>\r\n       <use x=\"254.492188\" xlink:href=\"#DejaVuSans-30\"/>\r\n       <use x=\"318.115234\" xlink:href=\"#DejaVuSans-30\"/>\r\n      </g>\r\n     </g>\r\n    </g>\r\n    <g id=\"ytick_2\">\r\n     <g id=\"line2d_9\">\r\n      <g>\r\n       <use style=\"stroke:#000000;stroke-width:0.8;\" x=\"66.053125\" xlink:href=\"#m593d3d774a\" y=\"158.446809\"/>\r\n      </g>\r\n     </g>\r\n     <g id=\"text_9\">\r\n      <!-- 900000 -->\r\n      <g transform=\"translate(20.878125 162.246028)scale(0.1 -0.1)\">\r\n       <use xlink:href=\"#DejaVuSans-39\"/>\r\n       <use x=\"63.623047\" xlink:href=\"#DejaVuSans-30\"/>\r\n       <use x=\"127.246094\" xlink:href=\"#DejaVuSans-30\"/>\r\n       <use x=\"190.869141\" xlink:href=\"#DejaVuSans-30\"/>\r\n       <use x=\"254.492188\" xlink:href=\"#DejaVuSans-30\"/>\r\n       <use x=\"318.115234\" xlink:href=\"#DejaVuSans-30\"/>\r\n      </g>\r\n     </g>\r\n    </g>\r\n    <g id=\"ytick_3\">\r\n     <g id=\"line2d_10\">\r\n      <g>\r\n       <use style=\"stroke:#000000;stroke-width:0.8;\" x=\"66.053125\" xlink:href=\"#m593d3d774a\" y=\"124.308814\"/>\r\n      </g>\r\n     </g>\r\n     <g id=\"text_10\">\r\n      <!-- 920000 -->\r\n      <g transform=\"translate(20.878125 128.108033)scale(0.1 -0.1)\">\r\n       <use xlink:href=\"#DejaVuSans-39\"/>\r\n       <use x=\"63.623047\" xlink:href=\"#DejaVuSans-32\"/>\r\n       <use x=\"127.246094\" xlink:href=\"#DejaVuSans-30\"/>\r\n       <use x=\"190.869141\" xlink:href=\"#DejaVuSans-30\"/>\r\n       <use x=\"254.492188\" xlink:href=\"#DejaVuSans-30\"/>\r\n       <use x=\"318.115234\" xlink:href=\"#DejaVuSans-30\"/>\r\n      </g>\r\n     </g>\r\n    </g>\r\n    <g id=\"ytick_4\">\r\n     <g id=\"line2d_11\">\r\n      <g>\r\n       <use style=\"stroke:#000000;stroke-width:0.8;\" x=\"66.053125\" xlink:href=\"#m593d3d774a\" y=\"90.170819\"/>\r\n      </g>\r\n     </g>\r\n     <g id=\"text_11\">\r\n      <!-- 940000 -->\r\n      <g transform=\"translate(20.878125 93.970038)scale(0.1 -0.1)\">\r\n       <defs>\r\n        <path d=\"M 2419 4116 \r\nL 825 1625 \r\nL 2419 1625 \r\nL 2419 4116 \r\nz\r\nM 2253 4666 \r\nL 3047 4666 \r\nL 3047 1625 \r\nL 3713 1625 \r\nL 3713 1100 \r\nL 3047 1100 \r\nL 3047 0 \r\nL 2419 0 \r\nL 2419 1100 \r\nL 313 1100 \r\nL 313 1709 \r\nL 2253 4666 \r\nz\r\n\" id=\"DejaVuSans-34\" transform=\"scale(0.015625)\"/>\r\n       </defs>\r\n       <use xlink:href=\"#DejaVuSans-39\"/>\r\n       <use x=\"63.623047\" xlink:href=\"#DejaVuSans-34\"/>\r\n       <use x=\"127.246094\" xlink:href=\"#DejaVuSans-30\"/>\r\n       <use x=\"190.869141\" xlink:href=\"#DejaVuSans-30\"/>\r\n       <use x=\"254.492188\" xlink:href=\"#DejaVuSans-30\"/>\r\n       <use x=\"318.115234\" xlink:href=\"#DejaVuSans-30\"/>\r\n      </g>\r\n     </g>\r\n    </g>\r\n    <g id=\"ytick_5\">\r\n     <g id=\"line2d_12\">\r\n      <g>\r\n       <use style=\"stroke:#000000;stroke-width:0.8;\" x=\"66.053125\" xlink:href=\"#m593d3d774a\" y=\"56.032825\"/>\r\n      </g>\r\n     </g>\r\n     <g id=\"text_12\">\r\n      <!-- 960000 -->\r\n      <g transform=\"translate(20.878125 59.832043)scale(0.1 -0.1)\">\r\n       <defs>\r\n        <path d=\"M 2113 2584 \r\nQ 1688 2584 1439 2293 \r\nQ 1191 2003 1191 1497 \r\nQ 1191 994 1439 701 \r\nQ 1688 409 2113 409 \r\nQ 2538 409 2786 701 \r\nQ 3034 994 3034 1497 \r\nQ 3034 2003 2786 2293 \r\nQ 2538 2584 2113 2584 \r\nz\r\nM 3366 4563 \r\nL 3366 3988 \r\nQ 3128 4100 2886 4159 \r\nQ 2644 4219 2406 4219 \r\nQ 1781 4219 1451 3797 \r\nQ 1122 3375 1075 2522 \r\nQ 1259 2794 1537 2939 \r\nQ 1816 3084 2150 3084 \r\nQ 2853 3084 3261 2657 \r\nQ 3669 2231 3669 1497 \r\nQ 3669 778 3244 343 \r\nQ 2819 -91 2113 -91 \r\nQ 1303 -91 875 529 \r\nQ 447 1150 447 2328 \r\nQ 447 3434 972 4092 \r\nQ 1497 4750 2381 4750 \r\nQ 2619 4750 2861 4703 \r\nQ 3103 4656 3366 4563 \r\nz\r\n\" id=\"DejaVuSans-36\" transform=\"scale(0.015625)\"/>\r\n       </defs>\r\n       <use xlink:href=\"#DejaVuSans-39\"/>\r\n       <use x=\"63.623047\" xlink:href=\"#DejaVuSans-36\"/>\r\n       <use x=\"127.246094\" xlink:href=\"#DejaVuSans-30\"/>\r\n       <use x=\"190.869141\" xlink:href=\"#DejaVuSans-30\"/>\r\n       <use x=\"254.492188\" xlink:href=\"#DejaVuSans-30\"/>\r\n       <use x=\"318.115234\" xlink:href=\"#DejaVuSans-30\"/>\r\n      </g>\r\n     </g>\r\n    </g>\r\n    <g id=\"text_13\">\r\n     <!-- Number of Active Cases -->\r\n     <g transform=\"translate(14.798438 180.219375)rotate(-90)scale(0.1 -0.1)\">\r\n      <defs>\r\n       <path d=\"M 628 4666 \r\nL 1478 4666 \r\nL 3547 763 \r\nL 3547 4666 \r\nL 4159 4666 \r\nL 4159 0 \r\nL 3309 0 \r\nL 1241 3903 \r\nL 1241 0 \r\nL 628 0 \r\nL 628 4666 \r\nz\r\n\" id=\"DejaVuSans-4e\" transform=\"scale(0.015625)\"/>\r\n       <path d=\"M 544 1381 \r\nL 544 3500 \r\nL 1119 3500 \r\nL 1119 1403 \r\nQ 1119 906 1312 657 \r\nQ 1506 409 1894 409 \r\nQ 2359 409 2629 706 \r\nQ 2900 1003 2900 1516 \r\nL 2900 3500 \r\nL 3475 3500 \r\nL 3475 0 \r\nL 2900 0 \r\nL 2900 538 \r\nQ 2691 219 2414 64 \r\nQ 2138 -91 1772 -91 \r\nQ 1169 -91 856 284 \r\nQ 544 659 544 1381 \r\nz\r\nM 1991 3584 \r\nL 1991 3584 \r\nz\r\n\" id=\"DejaVuSans-75\" transform=\"scale(0.015625)\"/>\r\n       <path d=\"M 3328 2828 \r\nQ 3544 3216 3844 3400 \r\nQ 4144 3584 4550 3584 \r\nQ 5097 3584 5394 3201 \r\nQ 5691 2819 5691 2113 \r\nL 5691 0 \r\nL 5113 0 \r\nL 5113 2094 \r\nQ 5113 2597 4934 2840 \r\nQ 4756 3084 4391 3084 \r\nQ 3944 3084 3684 2787 \r\nQ 3425 2491 3425 1978 \r\nL 3425 0 \r\nL 2847 0 \r\nL 2847 2094 \r\nQ 2847 2600 2669 2842 \r\nQ 2491 3084 2119 3084 \r\nQ 1678 3084 1418 2786 \r\nQ 1159 2488 1159 1978 \r\nL 1159 0 \r\nL 581 0 \r\nL 581 3500 \r\nL 1159 3500 \r\nL 1159 2956 \r\nQ 1356 3278 1631 3431 \r\nQ 1906 3584 2284 3584 \r\nQ 2666 3584 2933 3390 \r\nQ 3200 3197 3328 2828 \r\nz\r\n\" id=\"DejaVuSans-6d\" transform=\"scale(0.015625)\"/>\r\n       <path d=\"M 3116 1747 \r\nQ 3116 2381 2855 2742 \r\nQ 2594 3103 2138 3103 \r\nQ 1681 3103 1420 2742 \r\nQ 1159 2381 1159 1747 \r\nQ 1159 1113 1420 752 \r\nQ 1681 391 2138 391 \r\nQ 2594 391 2855 752 \r\nQ 3116 1113 3116 1747 \r\nz\r\nM 1159 2969 \r\nQ 1341 3281 1617 3432 \r\nQ 1894 3584 2278 3584 \r\nQ 2916 3584 3314 3078 \r\nQ 3713 2572 3713 1747 \r\nQ 3713 922 3314 415 \r\nQ 2916 -91 2278 -91 \r\nQ 1894 -91 1617 61 \r\nQ 1341 213 1159 525 \r\nL 1159 0 \r\nL 581 0 \r\nL 581 4863 \r\nL 1159 4863 \r\nL 1159 2969 \r\nz\r\n\" id=\"DejaVuSans-62\" transform=\"scale(0.015625)\"/>\r\n       <path d=\"M 3597 1894 \r\nL 3597 1613 \r\nL 953 1613 \r\nQ 991 1019 1311 708 \r\nQ 1631 397 2203 397 \r\nQ 2534 397 2845 478 \r\nQ 3156 559 3463 722 \r\nL 3463 178 \r\nQ 3153 47 2828 -22 \r\nQ 2503 -91 2169 -91 \r\nQ 1331 -91 842 396 \r\nQ 353 884 353 1716 \r\nQ 353 2575 817 3079 \r\nQ 1281 3584 2069 3584 \r\nQ 2775 3584 3186 3129 \r\nQ 3597 2675 3597 1894 \r\nz\r\nM 3022 2063 \r\nQ 3016 2534 2758 2815 \r\nQ 2500 3097 2075 3097 \r\nQ 1594 3097 1305 2825 \r\nQ 1016 2553 972 2059 \r\nL 3022 2063 \r\nz\r\n\" id=\"DejaVuSans-65\" transform=\"scale(0.015625)\"/>\r\n       <path d=\"M 2631 2963 \r\nQ 2534 3019 2420 3045 \r\nQ 2306 3072 2169 3072 \r\nQ 1681 3072 1420 2755 \r\nQ 1159 2438 1159 1844 \r\nL 1159 0 \r\nL 581 0 \r\nL 581 3500 \r\nL 1159 3500 \r\nL 1159 2956 \r\nQ 1341 3275 1631 3429 \r\nQ 1922 3584 2338 3584 \r\nQ 2397 3584 2469 3576 \r\nQ 2541 3569 2628 3553 \r\nL 2631 2963 \r\nz\r\n\" id=\"DejaVuSans-72\" transform=\"scale(0.015625)\"/>\r\n       <path id=\"DejaVuSans-20\" transform=\"scale(0.015625)\"/>\r\n       <path d=\"M 1959 3097 \r\nQ 1497 3097 1228 2736 \r\nQ 959 2375 959 1747 \r\nQ 959 1119 1226 758 \r\nQ 1494 397 1959 397 \r\nQ 2419 397 2687 759 \r\nQ 2956 1122 2956 1747 \r\nQ 2956 2369 2687 2733 \r\nQ 2419 3097 1959 3097 \r\nz\r\nM 1959 3584 \r\nQ 2709 3584 3137 3096 \r\nQ 3566 2609 3566 1747 \r\nQ 3566 888 3137 398 \r\nQ 2709 -91 1959 -91 \r\nQ 1206 -91 779 398 \r\nQ 353 888 353 1747 \r\nQ 353 2609 779 3096 \r\nQ 1206 3584 1959 3584 \r\nz\r\n\" id=\"DejaVuSans-6f\" transform=\"scale(0.015625)\"/>\r\n       <path d=\"M 2375 4863 \r\nL 2375 4384 \r\nL 1825 4384 \r\nQ 1516 4384 1395 4259 \r\nQ 1275 4134 1275 3809 \r\nL 1275 3500 \r\nL 2222 3500 \r\nL 2222 3053 \r\nL 1275 3053 \r\nL 1275 0 \r\nL 697 0 \r\nL 697 3053 \r\nL 147 3053 \r\nL 147 3500 \r\nL 697 3500 \r\nL 697 3744 \r\nQ 697 4328 969 4595 \r\nQ 1241 4863 1831 4863 \r\nL 2375 4863 \r\nz\r\n\" id=\"DejaVuSans-66\" transform=\"scale(0.015625)\"/>\r\n       <path d=\"M 2188 4044 \r\nL 1331 1722 \r\nL 3047 1722 \r\nL 2188 4044 \r\nz\r\nM 1831 4666 \r\nL 2547 4666 \r\nL 4325 0 \r\nL 3669 0 \r\nL 3244 1197 \r\nL 1141 1197 \r\nL 716 0 \r\nL 50 0 \r\nL 1831 4666 \r\nz\r\n\" id=\"DejaVuSans-41\" transform=\"scale(0.015625)\"/>\r\n       <path d=\"M 3122 3366 \r\nL 3122 2828 \r\nQ 2878 2963 2633 3030 \r\nQ 2388 3097 2138 3097 \r\nQ 1578 3097 1268 2742 \r\nQ 959 2388 959 1747 \r\nQ 959 1106 1268 751 \r\nQ 1578 397 2138 397 \r\nQ 2388 397 2633 464 \r\nQ 2878 531 3122 666 \r\nL 3122 134 \r\nQ 2881 22 2623 -34 \r\nQ 2366 -91 2075 -91 \r\nQ 1284 -91 818 406 \r\nQ 353 903 353 1747 \r\nQ 353 2603 823 3093 \r\nQ 1294 3584 2113 3584 \r\nQ 2378 3584 2631 3529 \r\nQ 2884 3475 3122 3366 \r\nz\r\n\" id=\"DejaVuSans-63\" transform=\"scale(0.015625)\"/>\r\n       <path d=\"M 1172 4494 \r\nL 1172 3500 \r\nL 2356 3500 \r\nL 2356 3053 \r\nL 1172 3053 \r\nL 1172 1153 \r\nQ 1172 725 1289 603 \r\nQ 1406 481 1766 481 \r\nL 2356 481 \r\nL 2356 0 \r\nL 1766 0 \r\nQ 1100 0 847 248 \r\nQ 594 497 594 1153 \r\nL 594 3053 \r\nL 172 3053 \r\nL 172 3500 \r\nL 594 3500 \r\nL 594 4494 \r\nL 1172 4494 \r\nz\r\n\" id=\"DejaVuSans-74\" transform=\"scale(0.015625)\"/>\r\n       <path d=\"M 603 3500 \r\nL 1178 3500 \r\nL 1178 0 \r\nL 603 0 \r\nL 603 3500 \r\nz\r\nM 603 4863 \r\nL 1178 4863 \r\nL 1178 4134 \r\nL 603 4134 \r\nL 603 4863 \r\nz\r\n\" id=\"DejaVuSans-69\" transform=\"scale(0.015625)\"/>\r\n       <path d=\"M 191 3500 \r\nL 800 3500 \r\nL 1894 563 \r\nL 2988 3500 \r\nL 3597 3500 \r\nL 2284 0 \r\nL 1503 0 \r\nL 191 3500 \r\nz\r\n\" id=\"DejaVuSans-76\" transform=\"scale(0.015625)\"/>\r\n       <path d=\"M 4122 4306 \r\nL 4122 3641 \r\nQ 3803 3938 3442 4084 \r\nQ 3081 4231 2675 4231 \r\nQ 1875 4231 1450 3742 \r\nQ 1025 3253 1025 2328 \r\nQ 1025 1406 1450 917 \r\nQ 1875 428 2675 428 \r\nQ 3081 428 3442 575 \r\nQ 3803 722 4122 1019 \r\nL 4122 359 \r\nQ 3791 134 3420 21 \r\nQ 3050 -91 2638 -91 \r\nQ 1578 -91 968 557 \r\nQ 359 1206 359 2328 \r\nQ 359 3453 968 4101 \r\nQ 1578 4750 2638 4750 \r\nQ 3056 4750 3426 4639 \r\nQ 3797 4528 4122 4306 \r\nz\r\n\" id=\"DejaVuSans-43\" transform=\"scale(0.015625)\"/>\r\n       <path d=\"M 2194 1759 \r\nQ 1497 1759 1228 1600 \r\nQ 959 1441 959 1056 \r\nQ 959 750 1161 570 \r\nQ 1363 391 1709 391 \r\nQ 2188 391 2477 730 \r\nQ 2766 1069 2766 1631 \r\nL 2766 1759 \r\nL 2194 1759 \r\nz\r\nM 3341 1997 \r\nL 3341 0 \r\nL 2766 0 \r\nL 2766 531 \r\nQ 2569 213 2275 61 \r\nQ 1981 -91 1556 -91 \r\nQ 1019 -91 701 211 \r\nQ 384 513 384 1019 \r\nQ 384 1609 779 1909 \r\nQ 1175 2209 1959 2209 \r\nL 2766 2209 \r\nL 2766 2266 \r\nQ 2766 2663 2505 2880 \r\nQ 2244 3097 1772 3097 \r\nQ 1472 3097 1187 3025 \r\nQ 903 2953 641 2809 \r\nL 641 3341 \r\nQ 956 3463 1253 3523 \r\nQ 1550 3584 1831 3584 \r\nQ 2591 3584 2966 3190 \r\nQ 3341 2797 3341 1997 \r\nz\r\n\" id=\"DejaVuSans-61\" transform=\"scale(0.015625)\"/>\r\n       <path d=\"M 2834 3397 \r\nL 2834 2853 \r\nQ 2591 2978 2328 3040 \r\nQ 2066 3103 1784 3103 \r\nQ 1356 3103 1142 2972 \r\nQ 928 2841 928 2578 \r\nQ 928 2378 1081 2264 \r\nQ 1234 2150 1697 2047 \r\nL 1894 2003 \r\nQ 2506 1872 2764 1633 \r\nQ 3022 1394 3022 966 \r\nQ 3022 478 2636 193 \r\nQ 2250 -91 1575 -91 \r\nQ 1294 -91 989 -36 \r\nQ 684 19 347 128 \r\nL 347 722 \r\nQ 666 556 975 473 \r\nQ 1284 391 1588 391 \r\nQ 1994 391 2212 530 \r\nQ 2431 669 2431 922 \r\nQ 2431 1156 2273 1281 \r\nQ 2116 1406 1581 1522 \r\nL 1381 1569 \r\nQ 847 1681 609 1914 \r\nQ 372 2147 372 2553 \r\nQ 372 3047 722 3315 \r\nQ 1072 3584 1716 3584 \r\nQ 2034 3584 2315 3537 \r\nQ 2597 3491 2834 3397 \r\nz\r\n\" id=\"DejaVuSans-73\" transform=\"scale(0.015625)\"/>\r\n      </defs>\r\n      <use xlink:href=\"#DejaVuSans-4e\"/>\r\n      <use x=\"74.804688\" xlink:href=\"#DejaVuSans-75\"/>\r\n      <use x=\"138.183594\" xlink:href=\"#DejaVuSans-6d\"/>\r\n      <use x=\"235.595703\" xlink:href=\"#DejaVuSans-62\"/>\r\n      <use x=\"299.072266\" xlink:href=\"#DejaVuSans-65\"/>\r\n      <use x=\"360.595703\" xlink:href=\"#DejaVuSans-72\"/>\r\n      <use x=\"401.708984\" xlink:href=\"#DejaVuSans-20\"/>\r\n      <use x=\"433.496094\" xlink:href=\"#DejaVuSans-6f\"/>\r\n      <use x=\"494.677734\" xlink:href=\"#DejaVuSans-66\"/>\r\n      <use x=\"529.882812\" xlink:href=\"#DejaVuSans-20\"/>\r\n      <use x=\"561.669922\" xlink:href=\"#DejaVuSans-41\"/>\r\n      <use x=\"628.328125\" xlink:href=\"#DejaVuSans-63\"/>\r\n      <use x=\"683.308594\" xlink:href=\"#DejaVuSans-74\"/>\r\n      <use x=\"722.517578\" xlink:href=\"#DejaVuSans-69\"/>\r\n      <use x=\"750.300781\" xlink:href=\"#DejaVuSans-76\"/>\r\n      <use x=\"809.480469\" xlink:href=\"#DejaVuSans-65\"/>\r\n      <use x=\"871.003906\" xlink:href=\"#DejaVuSans-20\"/>\r\n      <use x=\"902.791016\" xlink:href=\"#DejaVuSans-43\"/>\r\n      <use x=\"972.615234\" xlink:href=\"#DejaVuSans-61\"/>\r\n      <use x=\"1033.894531\" xlink:href=\"#DejaVuSans-73\"/>\r\n      <use x=\"1085.994141\" xlink:href=\"#DejaVuSans-65\"/>\r\n      <use x=\"1147.517578\" xlink:href=\"#DejaVuSans-73\"/>\r\n     </g>\r\n    </g>\r\n   </g>\r\n   <g id=\"line2d_13\">\r\n    <path clip-path=\"url(#p390231846f)\" d=\"M 81.271307 196.234155 \r\nL 104.683894 199.501161 \r\nL 128.096482 189.389487 \r\nL 151.509069 174.609443 \r\nL 174.921656 178.076156 \r\nL 198.334244 155.784045 \r\nL 221.746831 161.061779 \r\nL 245.159419 140.070326 \r\nL 268.572006 138.810634 \r\nL 291.984594 132.334657 \r\nL 315.397181 144.496317 \r\nL 338.809768 205.548707 \r\nL 362.222356 183.93765 \r\nL 385.634943 179.139554 \r\n\" style=\"fill:none;stroke:#ff0000;stroke-linecap:square;stroke-width:1.5;\"/>\r\n   </g>\r\n   <g id=\"line2d_14\">\r\n    <path clip-path=\"url(#p390231846f)\" d=\"M 81.271307 205.990794 \r\nL 104.683894 209.256307 \r\nL 128.096482 208.170932 \r\nL 151.509069 201.882393 \r\nL 174.921656 192.400992 \r\nL 198.334244 192.765522 \r\nL 221.746831 198.874623 \r\nL 245.159419 183.0395 \r\nL 268.572006 173.249684 \r\nL 291.984594 169.752779 \r\nL 315.397181 162.762065 \r\nL 338.809768 160.098661 \r\nL 362.222356 161.738352 \r\nL 385.634943 142.292496 \r\n\" style=\"fill:none;stroke:#008000;stroke-linecap:square;stroke-width:1.5;\"/>\r\n   </g>\r\n   <g id=\"line2d_15\">\r\n    <path clip-path=\"url(#p390231846f)\" d=\"M 81.271307 200.642544 \r\nL 104.683894 175.496284 \r\nL 128.096482 168.719785 \r\nL 151.509069 151.937547 \r\nL 174.921656 127.642603 \r\nL 198.334244 122.823171 \r\nL 221.746831 111.089409 \r\nL 245.159419 88.547558 \r\nL 268.572006 87.543474 \r\nL 291.984594 73.860646 \r\nL 315.397181 56.319797 \r\nL 338.809768 46.703337 \r\nL 362.222356 45.558861 \r\nL 385.634943 31.219943 \r\n\" style=\"fill:none;stroke:#0000ff;stroke-linecap:square;stroke-width:1.5;\"/>\r\n   </g>\r\n   <g id=\"patch_3\">\r\n    <path d=\"M 66.053125 218.158125 \r\nL 66.053125 22.318125 \r\n\" style=\"fill:none;stroke:#000000;stroke-linecap:square;stroke-linejoin:miter;stroke-width:0.8;\"/>\r\n   </g>\r\n   <g id=\"patch_4\">\r\n    <path d=\"M 400.853125 218.158125 \r\nL 400.853125 22.318125 \r\n\" style=\"fill:none;stroke:#000000;stroke-linecap:square;stroke-linejoin:miter;stroke-width:0.8;\"/>\r\n   </g>\r\n   <g id=\"patch_5\">\r\n    <path d=\"M 66.053125 218.158125 \r\nL 400.853125 218.158125 \r\n\" style=\"fill:none;stroke:#000000;stroke-linecap:square;stroke-linejoin:miter;stroke-width:0.8;\"/>\r\n   </g>\r\n   <g id=\"patch_6\">\r\n    <path d=\"M 66.053125 22.318125 \r\nL 400.853125 22.318125 \r\n\" style=\"fill:none;stroke:#000000;stroke-linecap:square;stroke-linejoin:miter;stroke-width:0.8;\"/>\r\n   </g>\r\n   <g id=\"text_14\">\r\n    <!-- Brazil -->\r\n    <g transform=\"translate(216.710312 16.318125)scale(0.12 -0.12)\">\r\n     <defs>\r\n      <path d=\"M 1259 2228 \r\nL 1259 519 \r\nL 2272 519 \r\nQ 2781 519 3026 730 \r\nQ 3272 941 3272 1375 \r\nQ 3272 1813 3026 2020 \r\nQ 2781 2228 2272 2228 \r\nL 1259 2228 \r\nz\r\nM 1259 4147 \r\nL 1259 2741 \r\nL 2194 2741 \r\nQ 2656 2741 2882 2914 \r\nQ 3109 3088 3109 3444 \r\nQ 3109 3797 2882 3972 \r\nQ 2656 4147 2194 4147 \r\nL 1259 4147 \r\nz\r\nM 628 4666 \r\nL 2241 4666 \r\nQ 2963 4666 3353 4366 \r\nQ 3744 4066 3744 3513 \r\nQ 3744 3084 3544 2831 \r\nQ 3344 2578 2956 2516 \r\nQ 3422 2416 3680 2098 \r\nQ 3938 1781 3938 1306 \r\nQ 3938 681 3513 340 \r\nQ 3088 0 2303 0 \r\nL 628 0 \r\nL 628 4666 \r\nz\r\n\" id=\"DejaVuSans-42\" transform=\"scale(0.015625)\"/>\r\n      <path d=\"M 353 3500 \r\nL 3084 3500 \r\nL 3084 2975 \r\nL 922 459 \r\nL 3084 459 \r\nL 3084 0 \r\nL 275 0 \r\nL 275 525 \r\nL 2438 3041 \r\nL 353 3041 \r\nL 353 3500 \r\nz\r\n\" id=\"DejaVuSans-7a\" transform=\"scale(0.015625)\"/>\r\n      <path d=\"M 603 4863 \r\nL 1178 4863 \r\nL 1178 0 \r\nL 603 0 \r\nL 603 4863 \r\nz\r\n\" id=\"DejaVuSans-6c\" transform=\"scale(0.015625)\"/>\r\n     </defs>\r\n     <use xlink:href=\"#DejaVuSans-42\"/>\r\n     <use x=\"68.603516\" xlink:href=\"#DejaVuSans-72\"/>\r\n     <use x=\"109.716797\" xlink:href=\"#DejaVuSans-61\"/>\r\n     <use x=\"170.996094\" xlink:href=\"#DejaVuSans-7a\"/>\r\n     <use x=\"223.486328\" xlink:href=\"#DejaVuSans-69\"/>\r\n     <use x=\"251.269531\" xlink:href=\"#DejaVuSans-6c\"/>\r\n    </g>\r\n   </g>\r\n   <g id=\"legend_1\">\r\n    <g id=\"patch_7\">\r\n     <path d=\"M 73.053125 74.3525 \r\nL 169.634375 74.3525 \r\nQ 171.634375 74.3525 171.634375 72.3525 \r\nL 171.634375 29.318125 \r\nQ 171.634375 27.318125 169.634375 27.318125 \r\nL 73.053125 27.318125 \r\nQ 71.053125 27.318125 71.053125 29.318125 \r\nL 71.053125 72.3525 \r\nQ 71.053125 74.3525 73.053125 74.3525 \r\nz\r\n\" style=\"fill:#ffffff;opacity:0.8;stroke:#cccccc;stroke-linejoin:miter;\"/>\r\n    </g>\r\n    <g id=\"line2d_16\">\r\n     <path d=\"M 75.053125 35.416563 \r\nL 95.053125 35.416563 \r\n\" style=\"fill:none;stroke:#ff0000;stroke-linecap:square;stroke-width:1.5;\"/>\r\n    </g>\r\n    <g id=\"line2d_17\"/>\r\n    <g id=\"text_15\">\r\n     <!-- Ground truth -->\r\n     <g transform=\"translate(103.053125 38.916563)scale(0.1 -0.1)\">\r\n      <defs>\r\n       <path d=\"M 3809 666 \r\nL 3809 1919 \r\nL 2778 1919 \r\nL 2778 2438 \r\nL 4434 2438 \r\nL 4434 434 \r\nQ 4069 175 3628 42 \r\nQ 3188 -91 2688 -91 \r\nQ 1594 -91 976 548 \r\nQ 359 1188 359 2328 \r\nQ 359 3472 976 4111 \r\nQ 1594 4750 2688 4750 \r\nQ 3144 4750 3555 4637 \r\nQ 3966 4525 4313 4306 \r\nL 4313 3634 \r\nQ 3963 3931 3569 4081 \r\nQ 3175 4231 2741 4231 \r\nQ 1884 4231 1454 3753 \r\nQ 1025 3275 1025 2328 \r\nQ 1025 1384 1454 906 \r\nQ 1884 428 2741 428 \r\nQ 3075 428 3337 486 \r\nQ 3600 544 3809 666 \r\nz\r\n\" id=\"DejaVuSans-47\" transform=\"scale(0.015625)\"/>\r\n       <path d=\"M 3513 2113 \r\nL 3513 0 \r\nL 2938 0 \r\nL 2938 2094 \r\nQ 2938 2591 2744 2837 \r\nQ 2550 3084 2163 3084 \r\nQ 1697 3084 1428 2787 \r\nQ 1159 2491 1159 1978 \r\nL 1159 0 \r\nL 581 0 \r\nL 581 3500 \r\nL 1159 3500 \r\nL 1159 2956 \r\nQ 1366 3272 1645 3428 \r\nQ 1925 3584 2291 3584 \r\nQ 2894 3584 3203 3211 \r\nQ 3513 2838 3513 2113 \r\nz\r\n\" id=\"DejaVuSans-6e\" transform=\"scale(0.015625)\"/>\r\n       <path d=\"M 2906 2969 \r\nL 2906 4863 \r\nL 3481 4863 \r\nL 3481 0 \r\nL 2906 0 \r\nL 2906 525 \r\nQ 2725 213 2448 61 \r\nQ 2172 -91 1784 -91 \r\nQ 1150 -91 751 415 \r\nQ 353 922 353 1747 \r\nQ 353 2572 751 3078 \r\nQ 1150 3584 1784 3584 \r\nQ 2172 3584 2448 3432 \r\nQ 2725 3281 2906 2969 \r\nz\r\nM 947 1747 \r\nQ 947 1113 1208 752 \r\nQ 1469 391 1925 391 \r\nQ 2381 391 2643 752 \r\nQ 2906 1113 2906 1747 \r\nQ 2906 2381 2643 2742 \r\nQ 2381 3103 1925 3103 \r\nQ 1469 3103 1208 2742 \r\nQ 947 2381 947 1747 \r\nz\r\n\" id=\"DejaVuSans-64\" transform=\"scale(0.015625)\"/>\r\n       <path d=\"M 3513 2113 \r\nL 3513 0 \r\nL 2938 0 \r\nL 2938 2094 \r\nQ 2938 2591 2744 2837 \r\nQ 2550 3084 2163 3084 \r\nQ 1697 3084 1428 2787 \r\nQ 1159 2491 1159 1978 \r\nL 1159 0 \r\nL 581 0 \r\nL 581 4863 \r\nL 1159 4863 \r\nL 1159 2956 \r\nQ 1366 3272 1645 3428 \r\nQ 1925 3584 2291 3584 \r\nQ 2894 3584 3203 3211 \r\nQ 3513 2838 3513 2113 \r\nz\r\n\" id=\"DejaVuSans-68\" transform=\"scale(0.015625)\"/>\r\n      </defs>\r\n      <use xlink:href=\"#DejaVuSans-47\"/>\r\n      <use x=\"77.490234\" xlink:href=\"#DejaVuSans-72\"/>\r\n      <use x=\"116.353516\" xlink:href=\"#DejaVuSans-6f\"/>\r\n      <use x=\"177.535156\" xlink:href=\"#DejaVuSans-75\"/>\r\n      <use x=\"240.914062\" xlink:href=\"#DejaVuSans-6e\"/>\r\n      <use x=\"304.292969\" xlink:href=\"#DejaVuSans-64\"/>\r\n      <use x=\"367.769531\" xlink:href=\"#DejaVuSans-20\"/>\r\n      <use x=\"399.556641\" xlink:href=\"#DejaVuSans-74\"/>\r\n      <use x=\"438.765625\" xlink:href=\"#DejaVuSans-72\"/>\r\n      <use x=\"479.878906\" xlink:href=\"#DejaVuSans-75\"/>\r\n      <use x=\"543.257812\" xlink:href=\"#DejaVuSans-74\"/>\r\n      <use x=\"582.466797\" xlink:href=\"#DejaVuSans-68\"/>\r\n     </g>\r\n    </g>\r\n    <g id=\"line2d_18\">\r\n     <path d=\"M 75.053125 50.094688 \r\nL 95.053125 50.094688 \r\n\" style=\"fill:none;stroke:#008000;stroke-linecap:square;stroke-width:1.5;\"/>\r\n    </g>\r\n    <g id=\"line2d_19\"/>\r\n    <g id=\"text_16\">\r\n     <!-- STAN (SIRV) -->\r\n     <g transform=\"translate(103.053125 53.594688)scale(0.1 -0.1)\">\r\n      <defs>\r\n       <path d=\"M 3425 4513 \r\nL 3425 3897 \r\nQ 3066 4069 2747 4153 \r\nQ 2428 4238 2131 4238 \r\nQ 1616 4238 1336 4038 \r\nQ 1056 3838 1056 3469 \r\nQ 1056 3159 1242 3001 \r\nQ 1428 2844 1947 2747 \r\nL 2328 2669 \r\nQ 3034 2534 3370 2195 \r\nQ 3706 1856 3706 1288 \r\nQ 3706 609 3251 259 \r\nQ 2797 -91 1919 -91 \r\nQ 1588 -91 1214 -16 \r\nQ 841 59 441 206 \r\nL 441 856 \r\nQ 825 641 1194 531 \r\nQ 1563 422 1919 422 \r\nQ 2459 422 2753 634 \r\nQ 3047 847 3047 1241 \r\nQ 3047 1584 2836 1778 \r\nQ 2625 1972 2144 2069 \r\nL 1759 2144 \r\nQ 1053 2284 737 2584 \r\nQ 422 2884 422 3419 \r\nQ 422 4038 858 4394 \r\nQ 1294 4750 2059 4750 \r\nQ 2388 4750 2728 4690 \r\nQ 3069 4631 3425 4513 \r\nz\r\n\" id=\"DejaVuSans-53\" transform=\"scale(0.015625)\"/>\r\n       <path d=\"M -19 4666 \r\nL 3928 4666 \r\nL 3928 4134 \r\nL 2272 4134 \r\nL 2272 0 \r\nL 1638 0 \r\nL 1638 4134 \r\nL -19 4134 \r\nL -19 4666 \r\nz\r\n\" id=\"DejaVuSans-54\" transform=\"scale(0.015625)\"/>\r\n       <path d=\"M 1984 4856 \r\nQ 1566 4138 1362 3434 \r\nQ 1159 2731 1159 2009 \r\nQ 1159 1288 1364 580 \r\nQ 1569 -128 1984 -844 \r\nL 1484 -844 \r\nQ 1016 -109 783 600 \r\nQ 550 1309 550 2009 \r\nQ 550 2706 781 3412 \r\nQ 1013 4119 1484 4856 \r\nL 1984 4856 \r\nz\r\n\" id=\"DejaVuSans-28\" transform=\"scale(0.015625)\"/>\r\n       <path d=\"M 628 4666 \r\nL 1259 4666 \r\nL 1259 0 \r\nL 628 0 \r\nL 628 4666 \r\nz\r\n\" id=\"DejaVuSans-49\" transform=\"scale(0.015625)\"/>\r\n       <path d=\"M 2841 2188 \r\nQ 3044 2119 3236 1894 \r\nQ 3428 1669 3622 1275 \r\nL 4263 0 \r\nL 3584 0 \r\nL 2988 1197 \r\nQ 2756 1666 2539 1819 \r\nQ 2322 1972 1947 1972 \r\nL 1259 1972 \r\nL 1259 0 \r\nL 628 0 \r\nL 628 4666 \r\nL 2053 4666 \r\nQ 2853 4666 3247 4331 \r\nQ 3641 3997 3641 3322 \r\nQ 3641 2881 3436 2590 \r\nQ 3231 2300 2841 2188 \r\nz\r\nM 1259 4147 \r\nL 1259 2491 \r\nL 2053 2491 \r\nQ 2509 2491 2742 2702 \r\nQ 2975 2913 2975 3322 \r\nQ 2975 3731 2742 3939 \r\nQ 2509 4147 2053 4147 \r\nL 1259 4147 \r\nz\r\n\" id=\"DejaVuSans-52\" transform=\"scale(0.015625)\"/>\r\n       <path d=\"M 1831 0 \r\nL 50 4666 \r\nL 709 4666 \r\nL 2188 738 \r\nL 3669 4666 \r\nL 4325 4666 \r\nL 2547 0 \r\nL 1831 0 \r\nz\r\n\" id=\"DejaVuSans-56\" transform=\"scale(0.015625)\"/>\r\n       <path d=\"M 513 4856 \r\nL 1013 4856 \r\nQ 1481 4119 1714 3412 \r\nQ 1947 2706 1947 2009 \r\nQ 1947 1309 1714 600 \r\nQ 1481 -109 1013 -844 \r\nL 513 -844 \r\nQ 928 -128 1133 580 \r\nQ 1338 1288 1338 2009 \r\nQ 1338 2731 1133 3434 \r\nQ 928 4138 513 4856 \r\nz\r\n\" id=\"DejaVuSans-29\" transform=\"scale(0.015625)\"/>\r\n      </defs>\r\n      <use xlink:href=\"#DejaVuSans-53\"/>\r\n      <use x=\"63.476562\" xlink:href=\"#DejaVuSans-54\"/>\r\n      <use x=\"116.810547\" xlink:href=\"#DejaVuSans-41\"/>\r\n      <use x=\"185.21875\" xlink:href=\"#DejaVuSans-4e\"/>\r\n      <use x=\"260.023438\" xlink:href=\"#DejaVuSans-20\"/>\r\n      <use x=\"291.810547\" xlink:href=\"#DejaVuSans-28\"/>\r\n      <use x=\"330.824219\" xlink:href=\"#DejaVuSans-53\"/>\r\n      <use x=\"394.300781\" xlink:href=\"#DejaVuSans-49\"/>\r\n      <use x=\"423.792969\" xlink:href=\"#DejaVuSans-52\"/>\r\n      <use x=\"487.775391\" xlink:href=\"#DejaVuSans-56\"/>\r\n      <use x=\"556.183594\" xlink:href=\"#DejaVuSans-29\"/>\r\n     </g>\r\n    </g>\r\n    <g id=\"line2d_20\">\r\n     <path d=\"M 75.053125 64.772813 \r\nL 95.053125 64.772813 \r\n\" style=\"fill:none;stroke:#0000ff;stroke-linecap:square;stroke-width:1.5;\"/>\r\n    </g>\r\n    <g id=\"line2d_21\"/>\r\n    <g id=\"text_17\">\r\n     <!-- Proposed -->\r\n     <g transform=\"translate(103.053125 68.272813)scale(0.1 -0.1)\">\r\n      <defs>\r\n       <path d=\"M 1259 4147 \r\nL 1259 2394 \r\nL 2053 2394 \r\nQ 2494 2394 2734 2622 \r\nQ 2975 2850 2975 3272 \r\nQ 2975 3691 2734 3919 \r\nQ 2494 4147 2053 4147 \r\nL 1259 4147 \r\nz\r\nM 628 4666 \r\nL 2053 4666 \r\nQ 2838 4666 3239 4311 \r\nQ 3641 3956 3641 3272 \r\nQ 3641 2581 3239 2228 \r\nQ 2838 1875 2053 1875 \r\nL 1259 1875 \r\nL 1259 0 \r\nL 628 0 \r\nL 628 4666 \r\nz\r\n\" id=\"DejaVuSans-50\" transform=\"scale(0.015625)\"/>\r\n       <path d=\"M 1159 525 \r\nL 1159 -1331 \r\nL 581 -1331 \r\nL 581 3500 \r\nL 1159 3500 \r\nL 1159 2969 \r\nQ 1341 3281 1617 3432 \r\nQ 1894 3584 2278 3584 \r\nQ 2916 3584 3314 3078 \r\nQ 3713 2572 3713 1747 \r\nQ 3713 922 3314 415 \r\nQ 2916 -91 2278 -91 \r\nQ 1894 -91 1617 61 \r\nQ 1341 213 1159 525 \r\nz\r\nM 3116 1747 \r\nQ 3116 2381 2855 2742 \r\nQ 2594 3103 2138 3103 \r\nQ 1681 3103 1420 2742 \r\nQ 1159 2381 1159 1747 \r\nQ 1159 1113 1420 752 \r\nQ 1681 391 2138 391 \r\nQ 2594 391 2855 752 \r\nQ 3116 1113 3116 1747 \r\nz\r\n\" id=\"DejaVuSans-70\" transform=\"scale(0.015625)\"/>\r\n      </defs>\r\n      <use xlink:href=\"#DejaVuSans-50\"/>\r\n      <use x=\"58.552734\" xlink:href=\"#DejaVuSans-72\"/>\r\n      <use x=\"97.416016\" xlink:href=\"#DejaVuSans-6f\"/>\r\n      <use x=\"158.597656\" xlink:href=\"#DejaVuSans-70\"/>\r\n      <use x=\"222.074219\" xlink:href=\"#DejaVuSans-6f\"/>\r\n      <use x=\"283.255859\" xlink:href=\"#DejaVuSans-73\"/>\r\n      <use x=\"335.355469\" xlink:href=\"#DejaVuSans-65\"/>\r\n      <use x=\"396.878906\" xlink:href=\"#DejaVuSans-64\"/>\r\n     </g>\r\n    </g>\r\n   </g>\r\n  </g>\r\n </g>\r\n <defs>\r\n  <clipPath id=\"p390231846f\">\r\n   <rect height=\"195.84\" width=\"334.8\" x=\"66.053125\" y=\"22.318125\"/>\r\n  </clipPath>\r\n </defs>\r\n</svg>\r\n",
      "image/png": "[encoded data removed]"
     },
     "metadata": {
      "needs_background": "light"
     }
    }
   ],
   "metadata": {}
  },
  {
   "cell_type": "code",
   "execution_count": 111,
   "source": [
    "\r\n",
    "prop_mse = ((pred_I[0] - I_true)**2).mean()\r\n",
    "sirvic_mse = ((sir_I[0] - I_true)**2).mean()\r\n",
    "stan_mse = ((stan_res[0] - I_true)**2).mean()\r\n",
    "print(\"MSE of Models\")\r\n",
    "print(f\"Proposed: {prop_mse}\")\r\n",
    "print(f\"STAN: {stan_mse}\")\r\n",
    "print(f\"SIRVIC: {sirvic_mse}\")"
   ],
   "outputs": [
    {
     "output_type": "stream",
     "name": "stdout",
     "text": [
      "MSE of Models\n",
      "Proposed: 2216330126.248047\n",
      "STAN: 318024363.077288\n",
      "SIRVIC: 10881453760.460379\n"
     ]
    }
   ],
   "metadata": {}
  },
  {
   "cell_type": "code",
   "execution_count": 112,
   "source": [
    "# final graph visualization\r\n",
    "import networkx as nx\r\n",
    "import seaborn as sns\r\n",
    "\r\n",
    "def plot(g, attention, ax, nodes_to_plot=None, nodes_labels=None,\r\n",
    "         edges_to_plot=None, nodes_pos=None, nodes_colors=None,\r\n",
    "         edge_colormap=plt.cm.viridis):\r\n",
    "    \"\"\"\r\n",
    "    Visualize edge attentions by coloring edges on the graph.\r\n",
    "    g: nx.DiGraph\r\n",
    "        Directed networkx graph\r\n",
    "    attention: list\r\n",
    "        Attention values corresponding to the order of sorted(g.edges())\r\n",
    "    ax: matplotlib.axes._subplots.AxesSubplot\r\n",
    "        ax to be used for plot\r\n",
    "    nodes_to_plot: list\r\n",
    "        List of node ids specifying which nodes to plot. Default to\r\n",
    "        be None. If None, all nodes will be plot.\r\n",
    "    nodes_labels: list, numpy.array\r\n",
    "        nodes_labels[i] specifies the label of the ith node, which will\r\n",
    "        decide the node color on the plot. Default to be None. If None,\r\n",
    "        all nodes will have the same canonical label. The nodes_labels\r\n",
    "        should contain labels for all nodes to be plot.\r\n",
    "    edges_to_plot: list of 2-tuples (i, j)\r\n",
    "        List of edges represented as (source, destination). Default to\r\n",
    "        be None. If None, all edges will be plot.\r\n",
    "    nodes_pos: dictionary mapping int to numpy.array of size 2\r\n",
    "        Default to be None. Specifies the layout of nodes on the plot.\r\n",
    "    nodes_colors: list\r\n",
    "        Specifies node color for each node class. Its length should be\r\n",
    "        bigger than number of node classes in nodes_labels.\r\n",
    "    edge_colormap: plt.cm\r\n",
    "        Specifies the colormap to be used for coloring edges.\r\n",
    "    \"\"\"\r\n",
    "    if nodes_to_plot is None:\r\n",
    "        nodes_to_plot = sorted(g.nodes())\r\n",
    "    if edges_to_plot is None:\r\n",
    "        edges_to_plot = sorted(g.edges())\r\n",
    "    nx.draw_networkx_edges(g, nodes_pos, edgelist=edges_to_plot,\r\n",
    "                           edge_color=attention, edge_cmap=edge_colormap,\r\n",
    "                           width=2, alpha=0.5, ax=ax, edge_vmin=0,\r\n",
    "                           edge_vmax=1)\r\n",
    "\r\n",
    "    if nodes_colors is None:\r\n",
    "        nodes_colors = sns.color_palette(\"deep\", max(nodes_labels) + 1)\r\n",
    "\r\n",
    "    nx.draw_networkx_nodes(g, nodes_pos, nodelist=nodes_to_plot, ax=ax, node_size=20,\r\n",
    "                           node_color=[nodes_colors[nodes_labels[v - 1]] for v in nodes_to_plot],\r\n",
    "                            alpha=0.9)\r\n",
    "\r\n",
    "nx_g = model.g.cpu().to_networkx(edge_attrs=['e'])\r\n",
    "#print(nx_g.nodes())\r\n",
    "attention = []\r\n",
    "for e in sorted(nx_g.edges()):\r\n",
    "    attention.append(nx_g.get_edge_data(e[0], e[1])[0]['e'].item())\r\n",
    "labels = [0 for i in range(len(nx_g.nodes()))]\r\n",
    "pos = nx.spring_layout(nx_g, k=0.25, iterations=20)  # positions for all nodes\r\n",
    "\r\n",
    "fig, ax = plt.subplots(figsize=(16, 12))\r\n",
    "plot(nx_g, attention, ax, nodes_pos=pos, nodes_labels=labels, nodes_colors=[\"red\" for i in range(len(nx_g.nodes()))])\r\n",
    "ax.set_axis_off()\r\n",
    "sm = plt.cm.ScalarMappable(cmap=plt.cm.viridis, norm=plt.Normalize(vmin=0, vmax=1))\r\n",
    "sm.set_array([])\r\n",
    "plt.colorbar(sm, fraction=0.046, pad=0.01)\r\n",
    "plt.show()"
   ],
   "outputs": [],
   "metadata": {
    "tags": []
   }
  },
  {
   "cell_type": "code",
   "execution_count": null,
   "source": [],
   "outputs": [],
   "metadata": {}
  }
 ],
 "metadata": {
  "kernelspec": {
   "name": "python3",
   "display_name": "Python 3.8.10 64-bit ('tf-gpu': conda)"
  },
  "language_info": {
   "codemirror_mode": {
    "name": "ipython",
    "version": 3
   },
   "file_extension": ".py",
   "mimetype": "text/x-python",
   "name": "python",
   "nbconvert_exporter": "python",
   "pygments_lexer": "ipython3",
   "version": "3.8.10"
  },
  "toc": {
   "base_numbering": 1,
   "nav_menu": {},
   "number_sections": true,
   "sideBar": true,
   "skip_h1_title": false,
   "title_cell": "Table of Contents",
   "title_sidebar": "Contents",
   "toc_cell": false,
   "toc_position": {},
   "toc_section_display": true,
   "toc_window_display": false
  },
  "metadata": {
   "interpreter": {
    "hash": "cdfa9ace6613655d28fa2370fe498fbea8375f41a5fc4e643d7f8a581612fdbd"
   }
  },
  "interpreter": {
   "hash": "cdfa9ace6613655d28fa2370fe498fbea8375f41a5fc4e643d7f8a581612fdbd"
  }
 },
 "nbformat": 4,
 "nbformat_minor": 4
}